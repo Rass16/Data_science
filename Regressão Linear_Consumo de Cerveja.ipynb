{
 "cells": [
  {
   "cell_type": "markdown",
   "metadata": {},
   "source": [
    "# Prevendo consumo de cerveja de uma área na cidade de São Paulo, Brasil.\n",
    "\n",
    "O objetivo desta análise foi realizar uma regressão linear com a finalidade de gerar um simulador que prever o consumo de cerveja a partir de variáveis previamente coletadas.\n",
    "\n",
    "Os dados foram coletados na cidade de São Paulo em uma área universitária e disponibilizados através do site <a href=\"https://www.kaggle.com/\">Kaggle</a>. Mais informações a respeito do dataset pode ser verificado <a href=\"https://www.kaggle.com/dongeorge/beer-consumption-sao-paulo\">aqui</a>."
   ]
  },
  {
   "cell_type": "markdown",
   "metadata": {},
   "source": [
    "### Importando bibliotecas"
   ]
  },
  {
   "cell_type": "code",
   "execution_count": 1,
   "metadata": {},
   "outputs": [
    {
     "data": {
      "text/html": [
       "        <script type=\"text/javascript\">\n",
       "        window.PlotlyConfig = {MathJaxConfig: 'local'};\n",
       "        if (window.MathJax) {MathJax.Hub.Config({SVG: {font: \"STIX-Web\"}});}\n",
       "        if (typeof require !== 'undefined') {\n",
       "        require.undef(\"plotly\");\n",
       "        requirejs.config({\n",
       "            paths: {\n",
       "                'plotly': ['https://cdn.plot.ly/plotly-latest.min']\n",
       "            }\n",
       "        });\n",
       "        require(['plotly'], function(Plotly) {\n",
       "            window._Plotly = Plotly;\n",
       "        });\n",
       "        }\n",
       "        </script>\n",
       "        "
      ]
     },
     "metadata": {},
     "output_type": "display_data"
    },
    {
     "data": {
      "text/html": [
       "        <script type=\"text/javascript\">\n",
       "        window.PlotlyConfig = {MathJaxConfig: 'local'};\n",
       "        if (window.MathJax) {MathJax.Hub.Config({SVG: {font: \"STIX-Web\"}});}\n",
       "        if (typeof require !== 'undefined') {\n",
       "        require.undef(\"plotly\");\n",
       "        requirejs.config({\n",
       "            paths: {\n",
       "                'plotly': ['https://cdn.plot.ly/plotly-latest.min']\n",
       "            }\n",
       "        });\n",
       "        require(['plotly'], function(Plotly) {\n",
       "            window._Plotly = Plotly;\n",
       "        });\n",
       "        }\n",
       "        </script>\n",
       "        "
      ]
     },
     "metadata": {},
     "output_type": "display_data"
    }
   ],
   "source": [
    "import pandas as pd\n",
    "import numpy as np\n",
    "import matplotlib.pyplot as plt\n",
    "import seaborn as sns\n",
    "import plotly.express as px\n",
    "import plotly.graph_objs as go\n",
    "from plotly.offline import download_plotlyjs, init_notebook_mode,plot, iplot\n",
    "import cufflinks as cf\n",
    "init_notebook_mode(connected = True)\n",
    "cf.go_offline()\n",
    "from sklearn.model_selection import train_test_split\n",
    "from sklearn.linear_model import LinearRegression\n",
    "from sklearn import metrics\n",
    "\n",
    "%matplotlib inline"
   ]
  },
  {
   "cell_type": "markdown",
   "metadata": {},
   "source": [
    "### Análise exploratória os dados"
   ]
  },
  {
   "cell_type": "code",
   "execution_count": 2,
   "metadata": {},
   "outputs": [
    {
     "data": {
      "text/html": [
       "<div>\n",
       "<style scoped>\n",
       "    .dataframe tbody tr th:only-of-type {\n",
       "        vertical-align: middle;\n",
       "    }\n",
       "\n",
       "    .dataframe tbody tr th {\n",
       "        vertical-align: top;\n",
       "    }\n",
       "\n",
       "    .dataframe thead th {\n",
       "        text-align: right;\n",
       "    }\n",
       "</style>\n",
       "<table border=\"1\" class=\"dataframe\">\n",
       "  <thead>\n",
       "    <tr style=\"text-align: right;\">\n",
       "      <th></th>\n",
       "      <th>Data</th>\n",
       "      <th>Temperatura Media (C)</th>\n",
       "      <th>Temperatura Minima (C)</th>\n",
       "      <th>Temperatura Maxima (C)</th>\n",
       "      <th>Precipitacao (mm)</th>\n",
       "      <th>Final de Semana</th>\n",
       "      <th>Consumo de cerveja (litros)</th>\n",
       "    </tr>\n",
       "  </thead>\n",
       "  <tbody>\n",
       "    <tr>\n",
       "      <th>0</th>\n",
       "      <td>2015-01-01</td>\n",
       "      <td>27,3</td>\n",
       "      <td>23,9</td>\n",
       "      <td>32,5</td>\n",
       "      <td>0</td>\n",
       "      <td>0.0</td>\n",
       "      <td>25.461</td>\n",
       "    </tr>\n",
       "    <tr>\n",
       "      <th>1</th>\n",
       "      <td>2015-01-02</td>\n",
       "      <td>27,02</td>\n",
       "      <td>24,5</td>\n",
       "      <td>33,5</td>\n",
       "      <td>0</td>\n",
       "      <td>0.0</td>\n",
       "      <td>28.972</td>\n",
       "    </tr>\n",
       "    <tr>\n",
       "      <th>2</th>\n",
       "      <td>2015-01-03</td>\n",
       "      <td>24,82</td>\n",
       "      <td>22,4</td>\n",
       "      <td>29,9</td>\n",
       "      <td>0</td>\n",
       "      <td>1.0</td>\n",
       "      <td>30.814</td>\n",
       "    </tr>\n",
       "    <tr>\n",
       "      <th>3</th>\n",
       "      <td>2015-01-04</td>\n",
       "      <td>23,98</td>\n",
       "      <td>21,5</td>\n",
       "      <td>28,6</td>\n",
       "      <td>1,2</td>\n",
       "      <td>1.0</td>\n",
       "      <td>29.799</td>\n",
       "    </tr>\n",
       "    <tr>\n",
       "      <th>4</th>\n",
       "      <td>2015-01-05</td>\n",
       "      <td>23,82</td>\n",
       "      <td>21</td>\n",
       "      <td>28,3</td>\n",
       "      <td>0</td>\n",
       "      <td>0.0</td>\n",
       "      <td>28.900</td>\n",
       "    </tr>\n",
       "  </tbody>\n",
       "</table>\n",
       "</div>"
      ],
      "text/plain": [
       "         Data Temperatura Media (C) Temperatura Minima (C)  \\\n",
       "0  2015-01-01                  27,3                   23,9   \n",
       "1  2015-01-02                 27,02                   24,5   \n",
       "2  2015-01-03                 24,82                   22,4   \n",
       "3  2015-01-04                 23,98                   21,5   \n",
       "4  2015-01-05                 23,82                     21   \n",
       "\n",
       "  Temperatura Maxima (C) Precipitacao (mm)  Final de Semana  \\\n",
       "0                   32,5                 0              0.0   \n",
       "1                   33,5                 0              0.0   \n",
       "2                   29,9                 0              1.0   \n",
       "3                   28,6               1,2              1.0   \n",
       "4                   28,3                 0              0.0   \n",
       "\n",
       "   Consumo de cerveja (litros)  \n",
       "0                       25.461  \n",
       "1                       28.972  \n",
       "2                       30.814  \n",
       "3                       29.799  \n",
       "4                       28.900  "
      ]
     },
     "execution_count": 2,
     "metadata": {},
     "output_type": "execute_result"
    }
   ],
   "source": [
    "df =  pd.read_csv(\"Consumo_cerveja.csv\")\n",
    "df.head()"
   ]
  },
  {
   "cell_type": "markdown",
   "metadata": {},
   "source": [
    "##### Verificando o tamanho dos dados"
   ]
  },
  {
   "cell_type": "code",
   "execution_count": 3,
   "metadata": {
    "scrolled": true
   },
   "outputs": [
    {
     "data": {
      "text/plain": [
       "(941, 7)"
      ]
     },
     "execution_count": 3,
     "metadata": {},
     "output_type": "execute_result"
    }
   ],
   "source": [
    "df.shape"
   ]
  },
  {
   "cell_type": "markdown",
   "metadata": {},
   "source": [
    "##### Verificando tipo de dados"
   ]
  },
  {
   "cell_type": "code",
   "execution_count": 4,
   "metadata": {},
   "outputs": [
    {
     "name": "stdout",
     "output_type": "stream",
     "text": [
      "<class 'pandas.core.frame.DataFrame'>\n",
      "RangeIndex: 941 entries, 0 to 940\n",
      "Data columns (total 7 columns):\n",
      " #   Column                       Non-Null Count  Dtype  \n",
      "---  ------                       --------------  -----  \n",
      " 0   Data                         365 non-null    object \n",
      " 1   Temperatura Media (C)        365 non-null    object \n",
      " 2   Temperatura Minima (C)       365 non-null    object \n",
      " 3   Temperatura Maxima (C)       365 non-null    object \n",
      " 4   Precipitacao (mm)            365 non-null    object \n",
      " 5   Final de Semana              365 non-null    float64\n",
      " 6   Consumo de cerveja (litros)  365 non-null    float64\n",
      "dtypes: float64(2), object(5)\n",
      "memory usage: 51.6+ KB\n"
     ]
    }
   ],
   "source": [
    "df.info()"
   ]
  },
  {
   "cell_type": "markdown",
   "metadata": {},
   "source": [
    "<p style=\"text-align: justify\">Os dados de data, temperatura e precipitação estão no formato de texto, dessa maneira será feita a mudança para um formato de dado adequado.</p>"
   ]
  },
  {
   "cell_type": "markdown",
   "metadata": {},
   "source": [
    "### Mudando o formato dos dados"
   ]
  },
  {
   "cell_type": "markdown",
   "metadata": {},
   "source": [
    "##### Transformando em data"
   ]
  },
  {
   "cell_type": "code",
   "execution_count": 5,
   "metadata": {},
   "outputs": [],
   "source": [
    "df['Data'] = pd.to_datetime(df['Data'])"
   ]
  },
  {
   "cell_type": "markdown",
   "metadata": {},
   "source": [
    "##### Mudando \",\" por  \".\""
   ]
  },
  {
   "cell_type": "code",
   "execution_count": 6,
   "metadata": {},
   "outputs": [],
   "source": [
    "df['Temperatura Media (C)'] = df['Temperatura Media (C)'].apply(lambda x: str(x).replace(\",\",\".\")) \n",
    "df['Temperatura Minima (C)'] = df['Temperatura Minima (C)'].apply(lambda x: str(x).replace(\",\",\".\")) \n",
    "df['Temperatura Maxima (C)'] = df['Temperatura Maxima (C)'].apply(lambda x: str(x).replace(\",\",\".\")) \n",
    "df['Precipitacao (mm)'] = df['Precipitacao (mm)'].apply(lambda x: str(x).replace(\",\",\".\")) "
   ]
  },
  {
   "cell_type": "markdown",
   "metadata": {},
   "source": [
    "##### Transformando em ponto flutuante"
   ]
  },
  {
   "cell_type": "code",
   "execution_count": 7,
   "metadata": {},
   "outputs": [],
   "source": [
    "df['Temperatura Media (C)'] = df['Temperatura Media (C)'].astype(\"float64\")\n",
    "df['Temperatura Minima (C)'] = df['Temperatura Minima (C)'].astype(\"float64\")\n",
    "df['Temperatura Maxima (C)'] = df['Temperatura Maxima (C)'].astype(\"float64\")\n",
    "df['Precipitacao (mm)'] = df['Precipitacao (mm)'].astype(\"float64\")"
   ]
  },
  {
   "cell_type": "code",
   "execution_count": 8,
   "metadata": {},
   "outputs": [
    {
     "name": "stdout",
     "output_type": "stream",
     "text": [
      "<class 'pandas.core.frame.DataFrame'>\n",
      "RangeIndex: 941 entries, 0 to 940\n",
      "Data columns (total 7 columns):\n",
      " #   Column                       Non-Null Count  Dtype         \n",
      "---  ------                       --------------  -----         \n",
      " 0   Data                         365 non-null    datetime64[ns]\n",
      " 1   Temperatura Media (C)        365 non-null    float64       \n",
      " 2   Temperatura Minima (C)       365 non-null    float64       \n",
      " 3   Temperatura Maxima (C)       365 non-null    float64       \n",
      " 4   Precipitacao (mm)            365 non-null    float64       \n",
      " 5   Final de Semana              365 non-null    float64       \n",
      " 6   Consumo de cerveja (litros)  365 non-null    float64       \n",
      "dtypes: datetime64[ns](1), float64(6)\n",
      "memory usage: 51.6 KB\n"
     ]
    }
   ],
   "source": [
    "df.info()"
   ]
  },
  {
   "cell_type": "markdown",
   "metadata": {},
   "source": [
    "<p>Agora os dados possuem os formatos corretos para suas respectivas colunas.</p>"
   ]
  },
  {
   "cell_type": "markdown",
   "metadata": {},
   "source": [
    "##### Verificando dados nulos"
   ]
  },
  {
   "cell_type": "code",
   "execution_count": 9,
   "metadata": {},
   "outputs": [
    {
     "data": {
      "text/plain": [
       "Data                           576\n",
       "Temperatura Media (C)          576\n",
       "Temperatura Minima (C)         576\n",
       "Temperatura Maxima (C)         576\n",
       "Precipitacao (mm)              576\n",
       "Final de Semana                576\n",
       "Consumo de cerveja (litros)    576\n",
       "dtype: int64"
      ]
     },
     "execution_count": 9,
     "metadata": {},
     "output_type": "execute_result"
    }
   ],
   "source": [
    "df.isnull().sum()"
   ]
  },
  {
   "cell_type": "markdown",
   "metadata": {},
   "source": [
    "<p style=\"text-align: justify\">É possível verificar a existência de dados nulos em todas as colunas do banco de dados. Logo, será feita a remoção desses dados a fim de permitir a análise sem maiores problemas.</p>"
   ]
  },
  {
   "cell_type": "markdown",
   "metadata": {},
   "source": [
    "#####  Retirando os dados nulos"
   ]
  },
  {
   "cell_type": "code",
   "execution_count": 10,
   "metadata": {},
   "outputs": [],
   "source": [
    "df.dropna(inplace=True)"
   ]
  },
  {
   "cell_type": "code",
   "execution_count": 11,
   "metadata": {},
   "outputs": [
    {
     "data": {
      "text/plain": [
       "Data                           0\n",
       "Temperatura Media (C)          0\n",
       "Temperatura Minima (C)         0\n",
       "Temperatura Maxima (C)         0\n",
       "Precipitacao (mm)              0\n",
       "Final de Semana                0\n",
       "Consumo de cerveja (litros)    0\n",
       "dtype: int64"
      ]
     },
     "execution_count": 11,
     "metadata": {},
     "output_type": "execute_result"
    }
   ],
   "source": [
    "df.isnull().sum()"
   ]
  },
  {
   "cell_type": "markdown",
   "metadata": {},
   "source": [
    "##### Verificando o tamanho do dataset"
   ]
  },
  {
   "cell_type": "code",
   "execution_count": 12,
   "metadata": {
    "scrolled": true
   },
   "outputs": [
    {
     "data": {
      "text/plain": [
       "(365, 7)"
      ]
     },
     "execution_count": 12,
     "metadata": {},
     "output_type": "execute_result"
    }
   ],
   "source": [
    "df.shape"
   ]
  },
  {
   "cell_type": "markdown",
   "metadata": {},
   "source": [
    "<p style=\"text-align: justify\"> Realizada a etapa de limpeza do banco de dados, será necessário agora realizar a análise exploratória dos dados para verificar como as variáveis se comportam.</p> "
   ]
  },
  {
   "cell_type": "markdown",
   "metadata": {},
   "source": [
    "##### Verificando estatísticas dos dados"
   ]
  },
  {
   "cell_type": "code",
   "execution_count": 13,
   "metadata": {},
   "outputs": [
    {
     "data": {
      "text/html": [
       "<div>\n",
       "<style scoped>\n",
       "    .dataframe tbody tr th:only-of-type {\n",
       "        vertical-align: middle;\n",
       "    }\n",
       "\n",
       "    .dataframe tbody tr th {\n",
       "        vertical-align: top;\n",
       "    }\n",
       "\n",
       "    .dataframe thead th {\n",
       "        text-align: right;\n",
       "    }\n",
       "</style>\n",
       "<table border=\"1\" class=\"dataframe\">\n",
       "  <thead>\n",
       "    <tr style=\"text-align: right;\">\n",
       "      <th></th>\n",
       "      <th>Temperatura Media (C)</th>\n",
       "      <th>Temperatura Minima (C)</th>\n",
       "      <th>Temperatura Maxima (C)</th>\n",
       "      <th>Precipitacao (mm)</th>\n",
       "      <th>Final de Semana</th>\n",
       "      <th>Consumo de cerveja (litros)</th>\n",
       "    </tr>\n",
       "  </thead>\n",
       "  <tbody>\n",
       "    <tr>\n",
       "      <th>count</th>\n",
       "      <td>365.0000</td>\n",
       "      <td>365.0000</td>\n",
       "      <td>365.0000</td>\n",
       "      <td>365.0000</td>\n",
       "      <td>365.0000</td>\n",
       "      <td>365.0000</td>\n",
       "    </tr>\n",
       "    <tr>\n",
       "      <th>mean</th>\n",
       "      <td>21.2264</td>\n",
       "      <td>17.4614</td>\n",
       "      <td>26.6115</td>\n",
       "      <td>5.1967</td>\n",
       "      <td>0.2849</td>\n",
       "      <td>25.4014</td>\n",
       "    </tr>\n",
       "    <tr>\n",
       "      <th>std</th>\n",
       "      <td>3.1801</td>\n",
       "      <td>2.8262</td>\n",
       "      <td>4.3174</td>\n",
       "      <td>12.4178</td>\n",
       "      <td>0.4520</td>\n",
       "      <td>4.3991</td>\n",
       "    </tr>\n",
       "    <tr>\n",
       "      <th>min</th>\n",
       "      <td>12.9000</td>\n",
       "      <td>10.6000</td>\n",
       "      <td>14.5000</td>\n",
       "      <td>0.0000</td>\n",
       "      <td>0.0000</td>\n",
       "      <td>14.3430</td>\n",
       "    </tr>\n",
       "    <tr>\n",
       "      <th>25%</th>\n",
       "      <td>19.0200</td>\n",
       "      <td>15.3000</td>\n",
       "      <td>23.8000</td>\n",
       "      <td>0.0000</td>\n",
       "      <td>0.0000</td>\n",
       "      <td>22.0080</td>\n",
       "    </tr>\n",
       "    <tr>\n",
       "      <th>50%</th>\n",
       "      <td>21.3800</td>\n",
       "      <td>17.9000</td>\n",
       "      <td>26.9000</td>\n",
       "      <td>0.0000</td>\n",
       "      <td>0.0000</td>\n",
       "      <td>24.8670</td>\n",
       "    </tr>\n",
       "    <tr>\n",
       "      <th>75%</th>\n",
       "      <td>23.2800</td>\n",
       "      <td>19.6000</td>\n",
       "      <td>29.4000</td>\n",
       "      <td>3.2000</td>\n",
       "      <td>1.0000</td>\n",
       "      <td>28.6310</td>\n",
       "    </tr>\n",
       "    <tr>\n",
       "      <th>max</th>\n",
       "      <td>28.8600</td>\n",
       "      <td>24.5000</td>\n",
       "      <td>36.5000</td>\n",
       "      <td>94.8000</td>\n",
       "      <td>1.0000</td>\n",
       "      <td>37.9370</td>\n",
       "    </tr>\n",
       "  </tbody>\n",
       "</table>\n",
       "</div>"
      ],
      "text/plain": [
       "       Temperatura Media (C)  Temperatura Minima (C)  Temperatura Maxima (C)  \\\n",
       "count               365.0000                365.0000                365.0000   \n",
       "mean                 21.2264                 17.4614                 26.6115   \n",
       "std                   3.1801                  2.8262                  4.3174   \n",
       "min                  12.9000                 10.6000                 14.5000   \n",
       "25%                  19.0200                 15.3000                 23.8000   \n",
       "50%                  21.3800                 17.9000                 26.9000   \n",
       "75%                  23.2800                 19.6000                 29.4000   \n",
       "max                  28.8600                 24.5000                 36.5000   \n",
       "\n",
       "       Precipitacao (mm)  Final de Semana  Consumo de cerveja (litros)  \n",
       "count           365.0000         365.0000                     365.0000  \n",
       "mean              5.1967           0.2849                      25.4014  \n",
       "std              12.4178           0.4520                       4.3991  \n",
       "min               0.0000           0.0000                      14.3430  \n",
       "25%               0.0000           0.0000                      22.0080  \n",
       "50%               0.0000           0.0000                      24.8670  \n",
       "75%               3.2000           1.0000                      28.6310  \n",
       "max              94.8000           1.0000                      37.9370  "
      ]
     },
     "execution_count": 13,
     "metadata": {},
     "output_type": "execute_result"
    }
   ],
   "source": [
    "df.describe().round(4)"
   ]
  },
  {
   "cell_type": "markdown",
   "metadata": {},
   "source": [
    "<p style=\"text-align: justify\">É possível observar diversos valores (média, máxima e mínimo) das variáveis númericas do dataset. Entretanto, para melhor verificação, é necessário visualizar como essas variáveis se comportam em relação a variável de resposta (Consumo de cerveja). Assim, serão feitos gráficos para melhor visualização dessas relações.</p>"
   ]
  },
  {
   "cell_type": "markdown",
   "metadata": {},
   "source": [
    "##### Plotando gráficos"
   ]
  },
  {
   "cell_type": "code",
   "execution_count": 33,
   "metadata": {},
   "outputs": [
    {
     "data": {
      "application/vnd.plotly.v1+json": {
       "config": {
        "plotlyServerURL": "https://plot.ly"
       },
       "data": [
        {
         "line": {
          "color": "red",
          "width": 1.5
         },
         "mode": "lines",
         "name": "Média móvel de 7 dias do consumo de cerveja",
         "type": "scatter",
         "x": [
          "2015-01-01T00:00:00",
          "2015-01-02T00:00:00",
          "2015-01-03T00:00:00",
          "2015-01-04T00:00:00",
          "2015-01-05T00:00:00",
          "2015-01-06T00:00:00",
          "2015-01-07T00:00:00",
          "2015-01-08T00:00:00",
          "2015-01-09T00:00:00",
          "2015-01-10T00:00:00",
          "2015-01-11T00:00:00",
          "2015-01-12T00:00:00",
          "2015-01-13T00:00:00",
          "2015-01-14T00:00:00",
          "2015-01-15T00:00:00",
          "2015-01-16T00:00:00",
          "2015-01-17T00:00:00",
          "2015-01-18T00:00:00",
          "2015-01-19T00:00:00",
          "2015-01-20T00:00:00",
          "2015-01-21T00:00:00",
          "2015-01-22T00:00:00",
          "2015-01-23T00:00:00",
          "2015-01-24T00:00:00",
          "2015-01-25T00:00:00",
          "2015-01-26T00:00:00",
          "2015-01-27T00:00:00",
          "2015-01-28T00:00:00",
          "2015-01-29T00:00:00",
          "2015-01-30T00:00:00",
          "2015-01-31T00:00:00",
          "2015-02-01T00:00:00",
          "2015-02-02T00:00:00",
          "2015-02-03T00:00:00",
          "2015-02-04T00:00:00",
          "2015-02-05T00:00:00",
          "2015-02-06T00:00:00",
          "2015-02-07T00:00:00",
          "2015-02-08T00:00:00",
          "2015-02-09T00:00:00",
          "2015-02-10T00:00:00",
          "2015-02-11T00:00:00",
          "2015-02-12T00:00:00",
          "2015-02-13T00:00:00",
          "2015-02-14T00:00:00",
          "2015-02-15T00:00:00",
          "2015-02-16T00:00:00",
          "2015-02-17T00:00:00",
          "2015-02-18T00:00:00",
          "2015-02-19T00:00:00",
          "2015-02-20T00:00:00",
          "2015-02-21T00:00:00",
          "2015-02-22T00:00:00",
          "2015-02-23T00:00:00",
          "2015-02-24T00:00:00",
          "2015-02-25T00:00:00",
          "2015-02-26T00:00:00",
          "2015-02-27T00:00:00",
          "2015-02-28T00:00:00",
          "2015-03-01T00:00:00",
          "2015-03-02T00:00:00",
          "2015-03-03T00:00:00",
          "2015-03-04T00:00:00",
          "2015-03-05T00:00:00",
          "2015-03-06T00:00:00",
          "2015-03-07T00:00:00",
          "2015-03-08T00:00:00",
          "2015-03-09T00:00:00",
          "2015-03-10T00:00:00",
          "2015-03-11T00:00:00",
          "2015-03-12T00:00:00",
          "2015-03-13T00:00:00",
          "2015-03-14T00:00:00",
          "2015-03-15T00:00:00",
          "2015-03-16T00:00:00",
          "2015-03-17T00:00:00",
          "2015-03-18T00:00:00",
          "2015-03-19T00:00:00",
          "2015-03-20T00:00:00",
          "2015-03-21T00:00:00",
          "2015-03-22T00:00:00",
          "2015-03-23T00:00:00",
          "2015-03-24T00:00:00",
          "2015-03-25T00:00:00",
          "2015-03-26T00:00:00",
          "2015-03-27T00:00:00",
          "2015-03-28T00:00:00",
          "2015-03-29T00:00:00",
          "2015-03-30T00:00:00",
          "2015-03-31T00:00:00",
          "2015-04-01T00:00:00",
          "2015-04-02T00:00:00",
          "2015-04-03T00:00:00",
          "2015-04-04T00:00:00",
          "2015-04-05T00:00:00",
          "2015-04-06T00:00:00",
          "2015-04-07T00:00:00",
          "2015-04-08T00:00:00",
          "2015-04-09T00:00:00",
          "2015-04-10T00:00:00",
          "2015-04-11T00:00:00",
          "2015-04-12T00:00:00",
          "2015-04-13T00:00:00",
          "2015-04-14T00:00:00",
          "2015-04-15T00:00:00",
          "2015-04-16T00:00:00",
          "2015-04-17T00:00:00",
          "2015-04-18T00:00:00",
          "2015-04-19T00:00:00",
          "2015-04-20T00:00:00",
          "2015-04-21T00:00:00",
          "2015-04-22T00:00:00",
          "2015-04-23T00:00:00",
          "2015-04-24T00:00:00",
          "2015-04-25T00:00:00",
          "2015-04-26T00:00:00",
          "2015-04-27T00:00:00",
          "2015-04-28T00:00:00",
          "2015-04-29T00:00:00",
          "2015-04-30T00:00:00",
          "2015-05-01T00:00:00",
          "2015-05-02T00:00:00",
          "2015-05-03T00:00:00",
          "2015-05-04T00:00:00",
          "2015-05-05T00:00:00",
          "2015-05-06T00:00:00",
          "2015-05-07T00:00:00",
          "2015-05-08T00:00:00",
          "2015-05-09T00:00:00",
          "2015-05-10T00:00:00",
          "2015-05-11T00:00:00",
          "2015-05-12T00:00:00",
          "2015-05-13T00:00:00",
          "2015-05-14T00:00:00",
          "2015-05-15T00:00:00",
          "2015-05-16T00:00:00",
          "2015-05-17T00:00:00",
          "2015-05-18T00:00:00",
          "2015-05-19T00:00:00",
          "2015-05-20T00:00:00",
          "2015-05-21T00:00:00",
          "2015-05-22T00:00:00",
          "2015-05-23T00:00:00",
          "2015-05-24T00:00:00",
          "2015-05-25T00:00:00",
          "2015-05-26T00:00:00",
          "2015-05-27T00:00:00",
          "2015-05-28T00:00:00",
          "2015-05-29T00:00:00",
          "2015-05-30T00:00:00",
          "2015-05-31T00:00:00",
          "2015-06-01T00:00:00",
          "2015-06-02T00:00:00",
          "2015-06-03T00:00:00",
          "2015-06-04T00:00:00",
          "2015-06-05T00:00:00",
          "2015-06-06T00:00:00",
          "2015-06-07T00:00:00",
          "2015-06-08T00:00:00",
          "2015-06-09T00:00:00",
          "2015-06-10T00:00:00",
          "2015-06-11T00:00:00",
          "2015-06-12T00:00:00",
          "2015-06-13T00:00:00",
          "2015-06-14T00:00:00",
          "2015-06-15T00:00:00",
          "2015-06-16T00:00:00",
          "2015-06-17T00:00:00",
          "2015-06-18T00:00:00",
          "2015-06-19T00:00:00",
          "2015-06-20T00:00:00",
          "2015-06-21T00:00:00",
          "2015-06-22T00:00:00",
          "2015-06-23T00:00:00",
          "2015-06-24T00:00:00",
          "2015-06-25T00:00:00",
          "2015-06-26T00:00:00",
          "2015-06-27T00:00:00",
          "2015-06-28T00:00:00",
          "2015-06-29T00:00:00",
          "2015-06-30T00:00:00",
          "2015-07-01T00:00:00",
          "2015-07-02T00:00:00",
          "2015-07-03T00:00:00",
          "2015-07-04T00:00:00",
          "2015-07-05T00:00:00",
          "2015-07-06T00:00:00",
          "2015-07-07T00:00:00",
          "2015-07-08T00:00:00",
          "2015-07-09T00:00:00",
          "2015-07-10T00:00:00",
          "2015-07-11T00:00:00",
          "2015-07-12T00:00:00",
          "2015-07-13T00:00:00",
          "2015-07-14T00:00:00",
          "2015-07-15T00:00:00",
          "2015-07-16T00:00:00",
          "2015-07-17T00:00:00",
          "2015-07-18T00:00:00",
          "2015-07-19T00:00:00",
          "2015-07-20T00:00:00",
          "2015-07-21T00:00:00",
          "2015-07-22T00:00:00",
          "2015-07-23T00:00:00",
          "2015-07-24T00:00:00",
          "2015-07-25T00:00:00",
          "2015-07-26T00:00:00",
          "2015-07-27T00:00:00",
          "2015-07-28T00:00:00",
          "2015-07-29T00:00:00",
          "2015-07-30T00:00:00",
          "2015-07-31T00:00:00",
          "2015-08-01T00:00:00",
          "2015-08-02T00:00:00",
          "2015-08-03T00:00:00",
          "2015-08-04T00:00:00",
          "2015-08-05T00:00:00",
          "2015-08-06T00:00:00",
          "2015-08-07T00:00:00",
          "2015-08-08T00:00:00",
          "2015-08-09T00:00:00",
          "2015-08-10T00:00:00",
          "2015-08-11T00:00:00",
          "2015-08-12T00:00:00",
          "2015-08-13T00:00:00",
          "2015-08-14T00:00:00",
          "2015-08-15T00:00:00",
          "2015-08-16T00:00:00",
          "2015-08-17T00:00:00",
          "2015-08-18T00:00:00",
          "2015-08-19T00:00:00",
          "2015-08-20T00:00:00",
          "2015-08-21T00:00:00",
          "2015-08-22T00:00:00",
          "2015-08-23T00:00:00",
          "2015-08-24T00:00:00",
          "2015-08-25T00:00:00",
          "2015-08-26T00:00:00",
          "2015-08-27T00:00:00",
          "2015-08-28T00:00:00",
          "2015-08-29T00:00:00",
          "2015-08-30T00:00:00",
          "2015-08-31T00:00:00",
          "2015-09-01T00:00:00",
          "2015-09-02T00:00:00",
          "2015-09-03T00:00:00",
          "2015-09-04T00:00:00",
          "2015-09-05T00:00:00",
          "2015-09-06T00:00:00",
          "2015-09-07T00:00:00",
          "2015-09-08T00:00:00",
          "2015-09-09T00:00:00",
          "2015-09-10T00:00:00",
          "2015-09-11T00:00:00",
          "2015-09-12T00:00:00",
          "2015-09-13T00:00:00",
          "2015-09-14T00:00:00",
          "2015-09-15T00:00:00",
          "2015-09-16T00:00:00",
          "2015-09-17T00:00:00",
          "2015-09-18T00:00:00",
          "2015-09-19T00:00:00",
          "2015-09-20T00:00:00",
          "2015-09-21T00:00:00",
          "2015-09-22T00:00:00",
          "2015-09-23T00:00:00",
          "2015-09-24T00:00:00",
          "2015-09-25T00:00:00",
          "2015-09-26T00:00:00",
          "2015-09-27T00:00:00",
          "2015-09-28T00:00:00",
          "2015-09-29T00:00:00",
          "2015-09-30T00:00:00",
          "2015-10-01T00:00:00",
          "2015-10-02T00:00:00",
          "2015-10-03T00:00:00",
          "2015-10-04T00:00:00",
          "2015-10-05T00:00:00",
          "2015-10-06T00:00:00",
          "2015-10-07T00:00:00",
          "2015-10-08T00:00:00",
          "2015-10-09T00:00:00",
          "2015-10-10T00:00:00",
          "2015-10-11T00:00:00",
          "2015-10-12T00:00:00",
          "2015-10-13T00:00:00",
          "2015-10-14T00:00:00",
          "2015-10-15T00:00:00",
          "2015-10-16T00:00:00",
          "2015-10-17T00:00:00",
          "2015-10-18T00:00:00",
          "2015-10-19T00:00:00",
          "2015-10-20T00:00:00",
          "2015-10-21T00:00:00",
          "2015-10-22T00:00:00",
          "2015-10-23T00:00:00",
          "2015-10-24T00:00:00",
          "2015-10-25T00:00:00",
          "2015-10-26T00:00:00",
          "2015-10-27T00:00:00",
          "2015-10-28T00:00:00",
          "2015-10-29T00:00:00",
          "2015-10-30T00:00:00",
          "2015-10-31T00:00:00",
          "2015-11-01T00:00:00",
          "2015-11-02T00:00:00",
          "2015-11-03T00:00:00",
          "2015-11-04T00:00:00",
          "2015-11-05T00:00:00",
          "2015-11-06T00:00:00",
          "2015-11-07T00:00:00",
          "2015-11-08T00:00:00",
          "2015-11-09T00:00:00",
          "2015-11-10T00:00:00",
          "2015-11-11T00:00:00",
          "2015-11-12T00:00:00",
          "2015-11-13T00:00:00",
          "2015-11-14T00:00:00",
          "2015-11-15T00:00:00",
          "2015-11-16T00:00:00",
          "2015-11-17T00:00:00",
          "2015-11-18T00:00:00",
          "2015-11-19T00:00:00",
          "2015-11-20T00:00:00",
          "2015-11-21T00:00:00",
          "2015-11-22T00:00:00",
          "2015-11-23T00:00:00",
          "2015-11-24T00:00:00",
          "2015-11-25T00:00:00",
          "2015-11-26T00:00:00",
          "2015-11-27T00:00:00",
          "2015-11-28T00:00:00",
          "2015-11-29T00:00:00",
          "2015-11-30T00:00:00",
          "2015-12-01T00:00:00",
          "2015-12-02T00:00:00",
          "2015-12-03T00:00:00",
          "2015-12-04T00:00:00",
          "2015-12-05T00:00:00",
          "2015-12-06T00:00:00",
          "2015-12-07T00:00:00",
          "2015-12-08T00:00:00",
          "2015-12-09T00:00:00",
          "2015-12-10T00:00:00",
          "2015-12-11T00:00:00",
          "2015-12-12T00:00:00",
          "2015-12-13T00:00:00",
          "2015-12-14T00:00:00",
          "2015-12-15T00:00:00",
          "2015-12-16T00:00:00",
          "2015-12-17T00:00:00",
          "2015-12-18T00:00:00",
          "2015-12-19T00:00:00",
          "2015-12-20T00:00:00",
          "2015-12-21T00:00:00",
          "2015-12-22T00:00:00",
          "2015-12-23T00:00:00",
          "2015-12-24T00:00:00",
          "2015-12-25T00:00:00",
          "2015-12-26T00:00:00",
          "2015-12-27T00:00:00",
          "2015-12-28T00:00:00",
          "2015-12-29T00:00:00",
          "2015-12-30T00:00:00",
          "2015-12-31T00:00:00"
         ],
         "y": [
          null,
          null,
          null,
          null,
          null,
          null,
          28.842285714285712,
          29.261714285714284,
          28.677999999999997,
          29.69557142857143,
          30.617714285714282,
          30.16671428571428,
          29.99128571428571,
          30.29028571428571,
          29.908428571428566,
          30.630142857142854,
          30.59485714285714,
          29.776285714285713,
          30.279428571428575,
          31.441857142857145,
          31.056857142857147,
          31.067000000000007,
          29.902142857142866,
          28.567571428571437,
          28.648142857142865,
          27.5417142857143,
          26.80528571428573,
          25.87285714285716,
          25.430142857142876,
          26.15314285714288,
          25.964857142857163,
          26.103285714285732,
          26.47142857142859,
          26.71185714285716,
          27.01685714285716,
          26.624571428571443,
          26.0497142857143,
          26.31585714285716,
          26.011428571428585,
          26.006428571428586,
          24.503857142857157,
          24.799142857142872,
          25.71900000000002,
          25.918714285714305,
          26.10985714285716,
          25.40157142857145,
          25.58457142857145,
          25.050571428571452,
          24.277285714285735,
          23.782000000000018,
          23.831714285714305,
          23.933428571428596,
          24.770142857142876,
          24.820000000000018,
          26.185714285714305,
          26.75342857142859,
          26.733714285714303,
          26.97285714285716,
          26.333428571428584,
          25.854857142857156,
          26.29157142857144,
          25.889714285714295,
          25.55000000000001,
          26.6237142857143,
          26.11128571428573,
          26.486000000000015,
          26.078000000000014,
          24.830428571428588,
          24.672714285714303,
          24.66485714285716,
          23.537571428571443,
          23.341428571428587,
          23.30628571428573,
          24.485285714285727,
          24.612000000000013,
          25.073857142857154,
          24.6787142857143,
          24.852857142857154,
          25.271714285714296,
          25.241285714285727,
          24.238857142857153,
          24.3107142857143,
          23.645285714285727,
          23.964428571428584,
          24.587428571428582,
          24.696142857142867,
          24.85742857142858,
          24.894714285714294,
          25.529571428571437,
          26.002142857142868,
          25.941857142857152,
          25.10285714285715,
          25.087571428571437,
          25.614714285714292,
          26.55714285714286,
          26.058000000000003,
          25.497857142857146,
          25.69542857142857,
          25.435714285714287,
          25.435000000000002,
          25.014285714285716,
          23.922428571428576,
          23.960142857142863,
          24.102571428571434,
          24.11785714285715,
          24.323142857142866,
          23.856142857142867,
          24.330000000000013,
          24.75257142857144,
          24.993142857142868,
          26.29414285714287,
          25.671857142857156,
          25.88085714285716,
          26.280142857142874,
          25.36557142857145,
          25.715714285714306,
          25.36342857142859,
          23.892571428571443,
          23.985142857142872,
          23.592857142857156,
          22.67157142857144,
          22.364714285714292,
          22.017571428571436,
          22.514571428571436,
          22.659428571428577,
          22.790714285714294,
          22.603714285714293,
          22.633285714285726,
          22.66428571428573,
          22.019714285714297,
          20.825285714285723,
          20.42900000000001,
          19.944285714285723,
          20.10957142857144,
          20.451285714285728,
          20.196000000000016,
          20.892285714285727,
          21.480428571428586,
          22.218000000000018,
          22.537714285714305,
          22.607142857142872,
          22.591571428571445,
          23.098428571428588,
          23.523571428571444,
          24.23814285714287,
          23.944857142857156,
          24.621000000000013,
          25.1777142857143,
          25.294285714285728,
          25.106714285714297,
          24.348714285714294,
          22.94200000000001,
          22.648285714285723,
          22.190714285714296,
          21.917714285714293,
          22.47442857142858,
          23.216142857142863,
          23.847142857142863,
          25.264571428571433,
          25.439000000000004,
          25.57514285714286,
          25.83842857142858,
          25.443142857142867,
          25.225714285714297,
          25.580714285714297,
          24.576285714285724,
          24.533714285714296,
          24.803714285714296,
          24.792142857142863,
          23.98828571428572,
          23.05228571428572,
          22.46285714285715,
          23.020428571428575,
          23.894285714285722,
          22.943285714285718,
          22.21885714285715,
          22.949142857142867,
          23.116571428571437,
          22.936142857142865,
          23.199142857142867,
          22.20128571428572,
          22.713142857142866,
          22.750857142857154,
          21.762285714285724,
          21.820142857142866,
          20.92014285714287,
          20.0037142857143,
          20.157428571428586,
          20.018142857142866,
          20.162857142857153,
          21.699714285714297,
          21.993857142857156,
          23.708714285714297,
          24.736142857142863,
          25.12185714285715,
          26.39228571428572,
          26.536285714285718,
          26.012571428571427,
          25.746285714285712,
          25.62842857142857,
          24.911285714285718,
          24.609571428571428,
          22.55257142857143,
          22.164142857142856,
          22.03157142857143,
          21.44742857142857,
          20.413142857142855,
          20.178142857142856,
          19.866000000000003,
          21.034428571428574,
          21.777000000000005,
          22.294428571428575,
          23.970000000000002,
          24.88857142857143,
          25.87314285714286,
          27.028000000000002,
          26.959000000000003,
          27.230428571428575,
          27.49528571428572,
          27.33000000000001,
          27.594857142857148,
          27.211142857142864,
          26.70528571428572,
          27.070285714285717,
          26.567857142857147,
          26.410571428571433,
          26.169285714285717,
          25.134285714285717,
          25.042857142857144,
          24.883857142857146,
          25.08771428571429,
          24.37985714285715,
          24.06042857142858,
          24.13985714285715,
          24.31785714285715,
          24.41342857142858,
          24.13085714285715,
          23.750285714285724,
          23.783571428571438,
          23.637000000000008,
          23.85185714285715,
          24.46828571428572,
          25.215571428571433,
          25.40085714285715,
          25.01857142857143,
          25.923428571428577,
          25.513142857142864,
          24.10542857142858,
          22.92442857142858,
          21.75100000000001,
          20.99185714285715,
          20.46271428571429,
          20.077428571428577,
          20.37871428571429,
          20.376857142857148,
          20.04628571428572,
          20.080142857142864,
          22.037285714285723,
          23.232428571428578,
          25.004571428571435,
          25.698428571428575,
          27.13014285714286,
          29.05057142857143,
          30.388428571428573,
          29.758000000000003,
          30.79314285714286,
          30.281000000000002,
          30.723857142857145,
          30.409714285714283,
          30.051,
          28.322714285714284,
          28.001571428571427,
          27.35085714285714,
          26.25357142857143,
          25.978857142857144,
          25.298714285714286,
          24.252714285714287,
          25.245285714285718,
          24.98671428571429,
          25.314571428571433,
          26.817142857142862,
          26.297285714285717,
          27.505,
          28.881285714285717,
          29.10557142857143,
          29.708285714285715,
          29.203142857142858,
          29.585857142857144,
          30.091285714285714,
          29.996428571428574,
          28.23971428571429,
          27.918428571428574,
          28.111000000000008,
          28.731857142857148,
          26.903857142857152,
          26.790571428571436,
          26.075000000000006,
          26.702857142857145,
          27.286285714285718,
          27.245,
          26.348285714285712,
          26.286714285714286,
          27.008857142857146,
          28.169428571428575,
          27.860142857142865,
          26.797857142857147,
          26.10628571428572,
          25.623,
          25.69442857142857,
          24.11242857142857,
          22.47657142857142,
          23.07385714285714,
          24.18928571428571,
          24.935428571428563,
          26.091142857142852,
          26.96728571428571,
          28.120428571428565,
          28.47842857142857,
          28.589285714285715,
          28.03971428571429,
          27.896857142857147,
          27.04614285714286,
          26.145142857142865,
          24.95728571428572,
          25.465285714285724,
          25.829142857142866,
          25.408142857142867,
          24.654571428571437,
          24.869571428571437,
          25.201714285714292,
          26.437000000000005,
          27.007000000000005,
          26.819000000000006,
          26.61557142857143,
          27.021285714285717,
          27.785857142857147,
          28.231571428571435,
          28.30785714285715,
          28.032000000000004,
          28.341000000000005,
          28.78914285714286,
          29.244000000000003,
          28.767714285714288,
          27.986,
          28.161285714285718,
          27.751000000000005,
          27.23785714285715,
          27.917285714285722,
          28.046428571428578,
          27.178571428571438,
          27.379142857142863,
          26.850857142857148,
          27.27328571428572,
          27.407428571428575,
          26.936428571428575,
          26.68085714285715,
          27.45314285714286,
          28.486714285714292,
          28.381857142857147,
          26.87028571428572,
          27.18171428571429,
          27.361857142857144,
          26.716285714285714,
          25.858999999999998,
          24.55528571428571
         ]
        },
        {
         "marker": {
          "color": "seagreen"
         },
         "name": "Consumo de cerveja(L)",
         "type": "bar",
         "x": [
          "2015-01-01T00:00:00",
          "2015-01-02T00:00:00",
          "2015-01-03T00:00:00",
          "2015-01-04T00:00:00",
          "2015-01-05T00:00:00",
          "2015-01-06T00:00:00",
          "2015-01-07T00:00:00",
          "2015-01-08T00:00:00",
          "2015-01-09T00:00:00",
          "2015-01-10T00:00:00",
          "2015-01-11T00:00:00",
          "2015-01-12T00:00:00",
          "2015-01-13T00:00:00",
          "2015-01-14T00:00:00",
          "2015-01-15T00:00:00",
          "2015-01-16T00:00:00",
          "2015-01-17T00:00:00",
          "2015-01-18T00:00:00",
          "2015-01-19T00:00:00",
          "2015-01-20T00:00:00",
          "2015-01-21T00:00:00",
          "2015-01-22T00:00:00",
          "2015-01-23T00:00:00",
          "2015-01-24T00:00:00",
          "2015-01-25T00:00:00",
          "2015-01-26T00:00:00",
          "2015-01-27T00:00:00",
          "2015-01-28T00:00:00",
          "2015-01-29T00:00:00",
          "2015-01-30T00:00:00",
          "2015-01-31T00:00:00",
          "2015-02-01T00:00:00",
          "2015-02-02T00:00:00",
          "2015-02-03T00:00:00",
          "2015-02-04T00:00:00",
          "2015-02-05T00:00:00",
          "2015-02-06T00:00:00",
          "2015-02-07T00:00:00",
          "2015-02-08T00:00:00",
          "2015-02-09T00:00:00",
          "2015-02-10T00:00:00",
          "2015-02-11T00:00:00",
          "2015-02-12T00:00:00",
          "2015-02-13T00:00:00",
          "2015-02-14T00:00:00",
          "2015-02-15T00:00:00",
          "2015-02-16T00:00:00",
          "2015-02-17T00:00:00",
          "2015-02-18T00:00:00",
          "2015-02-19T00:00:00",
          "2015-02-20T00:00:00",
          "2015-02-21T00:00:00",
          "2015-02-22T00:00:00",
          "2015-02-23T00:00:00",
          "2015-02-24T00:00:00",
          "2015-02-25T00:00:00",
          "2015-02-26T00:00:00",
          "2015-02-27T00:00:00",
          "2015-02-28T00:00:00",
          "2015-03-01T00:00:00",
          "2015-03-02T00:00:00",
          "2015-03-03T00:00:00",
          "2015-03-04T00:00:00",
          "2015-03-05T00:00:00",
          "2015-03-06T00:00:00",
          "2015-03-07T00:00:00",
          "2015-03-08T00:00:00",
          "2015-03-09T00:00:00",
          "2015-03-10T00:00:00",
          "2015-03-11T00:00:00",
          "2015-03-12T00:00:00",
          "2015-03-13T00:00:00",
          "2015-03-14T00:00:00",
          "2015-03-15T00:00:00",
          "2015-03-16T00:00:00",
          "2015-03-17T00:00:00",
          "2015-03-18T00:00:00",
          "2015-03-19T00:00:00",
          "2015-03-20T00:00:00",
          "2015-03-21T00:00:00",
          "2015-03-22T00:00:00",
          "2015-03-23T00:00:00",
          "2015-03-24T00:00:00",
          "2015-03-25T00:00:00",
          "2015-03-26T00:00:00",
          "2015-03-27T00:00:00",
          "2015-03-28T00:00:00",
          "2015-03-29T00:00:00",
          "2015-03-30T00:00:00",
          "2015-03-31T00:00:00",
          "2015-04-01T00:00:00",
          "2015-04-02T00:00:00",
          "2015-04-03T00:00:00",
          "2015-04-04T00:00:00",
          "2015-04-05T00:00:00",
          "2015-04-06T00:00:00",
          "2015-04-07T00:00:00",
          "2015-04-08T00:00:00",
          "2015-04-09T00:00:00",
          "2015-04-10T00:00:00",
          "2015-04-11T00:00:00",
          "2015-04-12T00:00:00",
          "2015-04-13T00:00:00",
          "2015-04-14T00:00:00",
          "2015-04-15T00:00:00",
          "2015-04-16T00:00:00",
          "2015-04-17T00:00:00",
          "2015-04-18T00:00:00",
          "2015-04-19T00:00:00",
          "2015-04-20T00:00:00",
          "2015-04-21T00:00:00",
          "2015-04-22T00:00:00",
          "2015-04-23T00:00:00",
          "2015-04-24T00:00:00",
          "2015-04-25T00:00:00",
          "2015-04-26T00:00:00",
          "2015-04-27T00:00:00",
          "2015-04-28T00:00:00",
          "2015-04-29T00:00:00",
          "2015-04-30T00:00:00",
          "2015-05-01T00:00:00",
          "2015-05-02T00:00:00",
          "2015-05-03T00:00:00",
          "2015-05-04T00:00:00",
          "2015-05-05T00:00:00",
          "2015-05-06T00:00:00",
          "2015-05-07T00:00:00",
          "2015-05-08T00:00:00",
          "2015-05-09T00:00:00",
          "2015-05-10T00:00:00",
          "2015-05-11T00:00:00",
          "2015-05-12T00:00:00",
          "2015-05-13T00:00:00",
          "2015-05-14T00:00:00",
          "2015-05-15T00:00:00",
          "2015-05-16T00:00:00",
          "2015-05-17T00:00:00",
          "2015-05-18T00:00:00",
          "2015-05-19T00:00:00",
          "2015-05-20T00:00:00",
          "2015-05-21T00:00:00",
          "2015-05-22T00:00:00",
          "2015-05-23T00:00:00",
          "2015-05-24T00:00:00",
          "2015-05-25T00:00:00",
          "2015-05-26T00:00:00",
          "2015-05-27T00:00:00",
          "2015-05-28T00:00:00",
          "2015-05-29T00:00:00",
          "2015-05-30T00:00:00",
          "2015-05-31T00:00:00",
          "2015-06-01T00:00:00",
          "2015-06-02T00:00:00",
          "2015-06-03T00:00:00",
          "2015-06-04T00:00:00",
          "2015-06-05T00:00:00",
          "2015-06-06T00:00:00",
          "2015-06-07T00:00:00",
          "2015-06-08T00:00:00",
          "2015-06-09T00:00:00",
          "2015-06-10T00:00:00",
          "2015-06-11T00:00:00",
          "2015-06-12T00:00:00",
          "2015-06-13T00:00:00",
          "2015-06-14T00:00:00",
          "2015-06-15T00:00:00",
          "2015-06-16T00:00:00",
          "2015-06-17T00:00:00",
          "2015-06-18T00:00:00",
          "2015-06-19T00:00:00",
          "2015-06-20T00:00:00",
          "2015-06-21T00:00:00",
          "2015-06-22T00:00:00",
          "2015-06-23T00:00:00",
          "2015-06-24T00:00:00",
          "2015-06-25T00:00:00",
          "2015-06-26T00:00:00",
          "2015-06-27T00:00:00",
          "2015-06-28T00:00:00",
          "2015-06-29T00:00:00",
          "2015-06-30T00:00:00",
          "2015-07-01T00:00:00",
          "2015-07-02T00:00:00",
          "2015-07-03T00:00:00",
          "2015-07-04T00:00:00",
          "2015-07-05T00:00:00",
          "2015-07-06T00:00:00",
          "2015-07-07T00:00:00",
          "2015-07-08T00:00:00",
          "2015-07-09T00:00:00",
          "2015-07-10T00:00:00",
          "2015-07-11T00:00:00",
          "2015-07-12T00:00:00",
          "2015-07-13T00:00:00",
          "2015-07-14T00:00:00",
          "2015-07-15T00:00:00",
          "2015-07-16T00:00:00",
          "2015-07-17T00:00:00",
          "2015-07-18T00:00:00",
          "2015-07-19T00:00:00",
          "2015-07-20T00:00:00",
          "2015-07-21T00:00:00",
          "2015-07-22T00:00:00",
          "2015-07-23T00:00:00",
          "2015-07-24T00:00:00",
          "2015-07-25T00:00:00",
          "2015-07-26T00:00:00",
          "2015-07-27T00:00:00",
          "2015-07-28T00:00:00",
          "2015-07-29T00:00:00",
          "2015-07-30T00:00:00",
          "2015-07-31T00:00:00",
          "2015-08-01T00:00:00",
          "2015-08-02T00:00:00",
          "2015-08-03T00:00:00",
          "2015-08-04T00:00:00",
          "2015-08-05T00:00:00",
          "2015-08-06T00:00:00",
          "2015-08-07T00:00:00",
          "2015-08-08T00:00:00",
          "2015-08-09T00:00:00",
          "2015-08-10T00:00:00",
          "2015-08-11T00:00:00",
          "2015-08-12T00:00:00",
          "2015-08-13T00:00:00",
          "2015-08-14T00:00:00",
          "2015-08-15T00:00:00",
          "2015-08-16T00:00:00",
          "2015-08-17T00:00:00",
          "2015-08-18T00:00:00",
          "2015-08-19T00:00:00",
          "2015-08-20T00:00:00",
          "2015-08-21T00:00:00",
          "2015-08-22T00:00:00",
          "2015-08-23T00:00:00",
          "2015-08-24T00:00:00",
          "2015-08-25T00:00:00",
          "2015-08-26T00:00:00",
          "2015-08-27T00:00:00",
          "2015-08-28T00:00:00",
          "2015-08-29T00:00:00",
          "2015-08-30T00:00:00",
          "2015-08-31T00:00:00",
          "2015-09-01T00:00:00",
          "2015-09-02T00:00:00",
          "2015-09-03T00:00:00",
          "2015-09-04T00:00:00",
          "2015-09-05T00:00:00",
          "2015-09-06T00:00:00",
          "2015-09-07T00:00:00",
          "2015-09-08T00:00:00",
          "2015-09-09T00:00:00",
          "2015-09-10T00:00:00",
          "2015-09-11T00:00:00",
          "2015-09-12T00:00:00",
          "2015-09-13T00:00:00",
          "2015-09-14T00:00:00",
          "2015-09-15T00:00:00",
          "2015-09-16T00:00:00",
          "2015-09-17T00:00:00",
          "2015-09-18T00:00:00",
          "2015-09-19T00:00:00",
          "2015-09-20T00:00:00",
          "2015-09-21T00:00:00",
          "2015-09-22T00:00:00",
          "2015-09-23T00:00:00",
          "2015-09-24T00:00:00",
          "2015-09-25T00:00:00",
          "2015-09-26T00:00:00",
          "2015-09-27T00:00:00",
          "2015-09-28T00:00:00",
          "2015-09-29T00:00:00",
          "2015-09-30T00:00:00",
          "2015-10-01T00:00:00",
          "2015-10-02T00:00:00",
          "2015-10-03T00:00:00",
          "2015-10-04T00:00:00",
          "2015-10-05T00:00:00",
          "2015-10-06T00:00:00",
          "2015-10-07T00:00:00",
          "2015-10-08T00:00:00",
          "2015-10-09T00:00:00",
          "2015-10-10T00:00:00",
          "2015-10-11T00:00:00",
          "2015-10-12T00:00:00",
          "2015-10-13T00:00:00",
          "2015-10-14T00:00:00",
          "2015-10-15T00:00:00",
          "2015-10-16T00:00:00",
          "2015-10-17T00:00:00",
          "2015-10-18T00:00:00",
          "2015-10-19T00:00:00",
          "2015-10-20T00:00:00",
          "2015-10-21T00:00:00",
          "2015-10-22T00:00:00",
          "2015-10-23T00:00:00",
          "2015-10-24T00:00:00",
          "2015-10-25T00:00:00",
          "2015-10-26T00:00:00",
          "2015-10-27T00:00:00",
          "2015-10-28T00:00:00",
          "2015-10-29T00:00:00",
          "2015-10-30T00:00:00",
          "2015-10-31T00:00:00",
          "2015-11-01T00:00:00",
          "2015-11-02T00:00:00",
          "2015-11-03T00:00:00",
          "2015-11-04T00:00:00",
          "2015-11-05T00:00:00",
          "2015-11-06T00:00:00",
          "2015-11-07T00:00:00",
          "2015-11-08T00:00:00",
          "2015-11-09T00:00:00",
          "2015-11-10T00:00:00",
          "2015-11-11T00:00:00",
          "2015-11-12T00:00:00",
          "2015-11-13T00:00:00",
          "2015-11-14T00:00:00",
          "2015-11-15T00:00:00",
          "2015-11-16T00:00:00",
          "2015-11-17T00:00:00",
          "2015-11-18T00:00:00",
          "2015-11-19T00:00:00",
          "2015-11-20T00:00:00",
          "2015-11-21T00:00:00",
          "2015-11-22T00:00:00",
          "2015-11-23T00:00:00",
          "2015-11-24T00:00:00",
          "2015-11-25T00:00:00",
          "2015-11-26T00:00:00",
          "2015-11-27T00:00:00",
          "2015-11-28T00:00:00",
          "2015-11-29T00:00:00",
          "2015-11-30T00:00:00",
          "2015-12-01T00:00:00",
          "2015-12-02T00:00:00",
          "2015-12-03T00:00:00",
          "2015-12-04T00:00:00",
          "2015-12-05T00:00:00",
          "2015-12-06T00:00:00",
          "2015-12-07T00:00:00",
          "2015-12-08T00:00:00",
          "2015-12-09T00:00:00",
          "2015-12-10T00:00:00",
          "2015-12-11T00:00:00",
          "2015-12-12T00:00:00",
          "2015-12-13T00:00:00",
          "2015-12-14T00:00:00",
          "2015-12-15T00:00:00",
          "2015-12-16T00:00:00",
          "2015-12-17T00:00:00",
          "2015-12-18T00:00:00",
          "2015-12-19T00:00:00",
          "2015-12-20T00:00:00",
          "2015-12-21T00:00:00",
          "2015-12-22T00:00:00",
          "2015-12-23T00:00:00",
          "2015-12-24T00:00:00",
          "2015-12-25T00:00:00",
          "2015-12-26T00:00:00",
          "2015-12-27T00:00:00",
          "2015-12-28T00:00:00",
          "2015-12-29T00:00:00",
          "2015-12-30T00:00:00",
          "2015-12-31T00:00:00"
         ],
         "y": [
          25.461,
          28.971999999999998,
          30.814,
          29.799,
          28.9,
          28.218000000000004,
          29.732,
          28.397,
          24.886,
          37.937,
          36.254,
          25.743000000000002,
          26.99,
          31.825,
          25.724,
          29.938000000000002,
          37.69,
          30.524,
          29.265,
          35.126999999999995,
          29.13,
          25.795,
          21.784000000000002,
          28.348000000000003,
          31.088,
          21.52,
          29.971999999999998,
          22.603,
          22.695999999999998,
          26.845,
          27.03,
          32.056999999999995,
          24.096999999999998,
          31.655,
          24.738000000000003,
          19.95,
          22.820999999999998,
          28.893,
          29.926,
          24.061999999999998,
          21.136999999999997,
          26.805,
          26.389,
          24.219,
          30.230999999999998,
          24.968000000000004,
          25.343000000000004,
          17.399,
          21.392,
          22.921999999999997,
          24.566999999999997,
          30.943,
          30.825,
          25.691999999999997,
          26.959,
          25.366,
          22.784000000000002,
          26.241,
          26.467,
          27.475,
          28.749000000000002,
          24.146,
          22.988000000000003,
          30.3,
          22.654,
          29.09,
          24.619,
          20.016,
          23.041999999999998,
          22.933000000000003,
          22.409000000000002,
          21.281,
          28.844,
          32.872,
          20.903000000000002,
          26.275,
          20.167,
          23.628,
          24.213,
          28.631,
          25.855,
          21.406,
          21.616999999999997,
          22.401,
          27.989,
          24.974,
          29.76,
          26.116,
          25.85,
          24.925,
          21.979,
          22.116,
          24.866999999999997,
          33.45,
          32.713,
          22.355999999999998,
          21.004,
          23.362,
          20.298,
          24.862,
          30.505,
          25.07,
          22.62,
          22.000999999999998,
          23.469,
          21.735,
          21.593000000000004,
          33.821999999999996,
          28.028000000000002,
          24.304000000000002,
          31.108,
          19.113,
          23.198,
          24.388,
          27.42,
          30.479,
          21.838,
          20.811999999999998,
          19.761,
          20.452,
          17.939,
          25.272,
          28.049,
          25.316999999999997,
          21.826,
          20.68,
          19.143,
          18.146,
          25.489,
          23.537,
          16.956,
          19.052,
          17.287,
          20.3,
          20.538,
          23.701999999999998,
          28.410999999999998,
          21.073,
          24.215,
          19.525,
          20.785999999999998,
          20.429000000000002,
          27.25,
          31.386999999999997,
          26.075,
          22.162,
          24.258000000000003,
          24.683000000000003,
          21.245,
          25.936999999999998,
          26.081,
          16.227999999999998,
          20.105999999999998,
          21.055,
          22.772,
          25.142,
          31.129,
          30.498,
          26.15,
          21.326999999999998,
          22.008000000000003,
          24.615,
          22.375,
          29.607,
          32.983000000000004,
          19.119,
          21.029,
          23.898000000000003,
          24.534000000000002,
          16.748,
          23.055,
          28.857,
          23.022,
          27.146,
          17.241,
          19.463,
          21.86,
          24.226999999999997,
          27.594,
          24.863000000000003,
          20.160999999999998,
          20.824,
          19.727,
          14.94,
          24.631999999999998,
          21.294,
          18.448,
          21.237,
          19.849,
          20.74,
          25.698,
          26.691,
          33.298,
          25.64,
          23.936999999999998,
          28.741999999999997,
          21.748,
          22.031999999999996,
          24.826999999999998,
          32.473,
          20.62,
          21.825,
          14.343,
          19.029,
          21.104,
          20.738000000000003,
          25.233,
          18.975,
          19.64,
          22.522,
          24.226999999999997,
          24.726,
          32.467,
          31.663,
          25.866999999999997,
          27.724,
          22.039,
          26.127,
          26.58,
          31.31,
          33.516999999999996,
          23.180999999999997,
          24.183000000000003,
          24.594,
          22.61,
          25.479,
          29.621,
          26.272,
          22.541,
          23.07,
          26.021,
          17.655,
          23.243000000000002,
          30.177,
          27.518,
          23.21,
          21.092,
          23.357,
          17.887999999999998,
          22.217,
          31.680999999999997,
          31.833000000000002,
          28.441,
          22.389,
          20.680999999999997,
          24.221999999999998,
          19.345,
          21.826999999999998,
          23.566,
          20.227,
          17.075,
          16.977,
          21.525,
          21.454,
          21.814,
          21.252,
          20.464000000000002,
          30.775,
          25.343000000000004,
          33.93,
          26.311,
          31.836,
          34.695,
          29.829,
          26.362,
          32.589,
          30.345,
          29.410999999999998,
          29.636999999999997,
          32.184,
          17.730999999999998,
          24.114,
          28.034000000000002,
          22.664,
          27.488000000000003,
          24.875999999999998,
          24.862,
          24.679000000000002,
          22.304000000000002,
          30.329,
          33.181999999999995,
          23.849,
          33.33,
          34.496,
          26.249000000000002,
          26.523000000000003,
          26.793000000000003,
          35.861,
          27.386999999999997,
          32.666,
          22.199,
          24,
          27.871,
          31.139,
          23.065,
          26.594,
          27.656999999999996,
          26.594,
          28.084,
          27.581999999999997,
          24.862,
          22.634,
          31.649,
          35.781,
          24.429000000000002,
          20.648000000000003,
          22.741,
          21.479,
          23.134,
          20.575,
          24.33,
          28.61,
          28.456,
          27.964000000000002,
          29.569000000000003,
          29.267,
          28.647,
          26.836,
          29.386,
          24.609,
          26.964000000000002,
          23.614,
          22.96,
          20.332,
          30.392,
          31.933000000000003,
          21.662,
          21.689,
          25.119,
          25.285,
          28.979,
          34.382,
          30.616999999999997,
          20.238,
          24.529,
          30.471,
          28.405,
          29.513,
          32.451,
          32.78,
          23.375,
          27.713,
          27.136999999999997,
          22.933000000000003,
          30.74,
          29.579,
          29.188000000000002,
          28.131,
          28.616999999999997,
          21.061999999999998,
          24.337,
          27.041999999999998,
          32.536,
          30.127,
          24.834,
          26.828000000000003,
          26.468000000000004,
          31.572,
          26.308000000000003,
          21.955,
          32.306999999999995,
          26.095,
          22.309,
          20.467,
          22.445999999999998
         ]
        }
       ],
       "layout": {
        "autosize": false,
        "bargap": 0.3,
        "height": 600,
        "legend": {
         "orientation": "h",
         "x": 1,
         "xanchor": "right",
         "y": 1.02,
         "yanchor": "bottom"
        },
        "margin": {
         "autoexpand": false
        },
        "plot_bgcolor": "white",
        "showlegend": true,
        "template": {
         "data": {
          "bar": [
           {
            "error_x": {
             "color": "#2a3f5f"
            },
            "error_y": {
             "color": "#2a3f5f"
            },
            "marker": {
             "line": {
              "color": "#E5ECF6",
              "width": 0.5
             }
            },
            "type": "bar"
           }
          ],
          "barpolar": [
           {
            "marker": {
             "line": {
              "color": "#E5ECF6",
              "width": 0.5
             }
            },
            "type": "barpolar"
           }
          ],
          "carpet": [
           {
            "aaxis": {
             "endlinecolor": "#2a3f5f",
             "gridcolor": "white",
             "linecolor": "white",
             "minorgridcolor": "white",
             "startlinecolor": "#2a3f5f"
            },
            "baxis": {
             "endlinecolor": "#2a3f5f",
             "gridcolor": "white",
             "linecolor": "white",
             "minorgridcolor": "white",
             "startlinecolor": "#2a3f5f"
            },
            "type": "carpet"
           }
          ],
          "choropleth": [
           {
            "colorbar": {
             "outlinewidth": 0,
             "ticks": ""
            },
            "type": "choropleth"
           }
          ],
          "contour": [
           {
            "colorbar": {
             "outlinewidth": 0,
             "ticks": ""
            },
            "colorscale": [
             [
              0,
              "#0d0887"
             ],
             [
              0.1111111111111111,
              "#46039f"
             ],
             [
              0.2222222222222222,
              "#7201a8"
             ],
             [
              0.3333333333333333,
              "#9c179e"
             ],
             [
              0.4444444444444444,
              "#bd3786"
             ],
             [
              0.5555555555555556,
              "#d8576b"
             ],
             [
              0.6666666666666666,
              "#ed7953"
             ],
             [
              0.7777777777777778,
              "#fb9f3a"
             ],
             [
              0.8888888888888888,
              "#fdca26"
             ],
             [
              1,
              "#f0f921"
             ]
            ],
            "type": "contour"
           }
          ],
          "contourcarpet": [
           {
            "colorbar": {
             "outlinewidth": 0,
             "ticks": ""
            },
            "type": "contourcarpet"
           }
          ],
          "heatmap": [
           {
            "colorbar": {
             "outlinewidth": 0,
             "ticks": ""
            },
            "colorscale": [
             [
              0,
              "#0d0887"
             ],
             [
              0.1111111111111111,
              "#46039f"
             ],
             [
              0.2222222222222222,
              "#7201a8"
             ],
             [
              0.3333333333333333,
              "#9c179e"
             ],
             [
              0.4444444444444444,
              "#bd3786"
             ],
             [
              0.5555555555555556,
              "#d8576b"
             ],
             [
              0.6666666666666666,
              "#ed7953"
             ],
             [
              0.7777777777777778,
              "#fb9f3a"
             ],
             [
              0.8888888888888888,
              "#fdca26"
             ],
             [
              1,
              "#f0f921"
             ]
            ],
            "type": "heatmap"
           }
          ],
          "heatmapgl": [
           {
            "colorbar": {
             "outlinewidth": 0,
             "ticks": ""
            },
            "colorscale": [
             [
              0,
              "#0d0887"
             ],
             [
              0.1111111111111111,
              "#46039f"
             ],
             [
              0.2222222222222222,
              "#7201a8"
             ],
             [
              0.3333333333333333,
              "#9c179e"
             ],
             [
              0.4444444444444444,
              "#bd3786"
             ],
             [
              0.5555555555555556,
              "#d8576b"
             ],
             [
              0.6666666666666666,
              "#ed7953"
             ],
             [
              0.7777777777777778,
              "#fb9f3a"
             ],
             [
              0.8888888888888888,
              "#fdca26"
             ],
             [
              1,
              "#f0f921"
             ]
            ],
            "type": "heatmapgl"
           }
          ],
          "histogram": [
           {
            "marker": {
             "colorbar": {
              "outlinewidth": 0,
              "ticks": ""
             }
            },
            "type": "histogram"
           }
          ],
          "histogram2d": [
           {
            "colorbar": {
             "outlinewidth": 0,
             "ticks": ""
            },
            "colorscale": [
             [
              0,
              "#0d0887"
             ],
             [
              0.1111111111111111,
              "#46039f"
             ],
             [
              0.2222222222222222,
              "#7201a8"
             ],
             [
              0.3333333333333333,
              "#9c179e"
             ],
             [
              0.4444444444444444,
              "#bd3786"
             ],
             [
              0.5555555555555556,
              "#d8576b"
             ],
             [
              0.6666666666666666,
              "#ed7953"
             ],
             [
              0.7777777777777778,
              "#fb9f3a"
             ],
             [
              0.8888888888888888,
              "#fdca26"
             ],
             [
              1,
              "#f0f921"
             ]
            ],
            "type": "histogram2d"
           }
          ],
          "histogram2dcontour": [
           {
            "colorbar": {
             "outlinewidth": 0,
             "ticks": ""
            },
            "colorscale": [
             [
              0,
              "#0d0887"
             ],
             [
              0.1111111111111111,
              "#46039f"
             ],
             [
              0.2222222222222222,
              "#7201a8"
             ],
             [
              0.3333333333333333,
              "#9c179e"
             ],
             [
              0.4444444444444444,
              "#bd3786"
             ],
             [
              0.5555555555555556,
              "#d8576b"
             ],
             [
              0.6666666666666666,
              "#ed7953"
             ],
             [
              0.7777777777777778,
              "#fb9f3a"
             ],
             [
              0.8888888888888888,
              "#fdca26"
             ],
             [
              1,
              "#f0f921"
             ]
            ],
            "type": "histogram2dcontour"
           }
          ],
          "mesh3d": [
           {
            "colorbar": {
             "outlinewidth": 0,
             "ticks": ""
            },
            "type": "mesh3d"
           }
          ],
          "parcoords": [
           {
            "line": {
             "colorbar": {
              "outlinewidth": 0,
              "ticks": ""
             }
            },
            "type": "parcoords"
           }
          ],
          "pie": [
           {
            "automargin": true,
            "type": "pie"
           }
          ],
          "scatter": [
           {
            "marker": {
             "colorbar": {
              "outlinewidth": 0,
              "ticks": ""
             }
            },
            "type": "scatter"
           }
          ],
          "scatter3d": [
           {
            "line": {
             "colorbar": {
              "outlinewidth": 0,
              "ticks": ""
             }
            },
            "marker": {
             "colorbar": {
              "outlinewidth": 0,
              "ticks": ""
             }
            },
            "type": "scatter3d"
           }
          ],
          "scattercarpet": [
           {
            "marker": {
             "colorbar": {
              "outlinewidth": 0,
              "ticks": ""
             }
            },
            "type": "scattercarpet"
           }
          ],
          "scattergeo": [
           {
            "marker": {
             "colorbar": {
              "outlinewidth": 0,
              "ticks": ""
             }
            },
            "type": "scattergeo"
           }
          ],
          "scattergl": [
           {
            "marker": {
             "colorbar": {
              "outlinewidth": 0,
              "ticks": ""
             }
            },
            "type": "scattergl"
           }
          ],
          "scattermapbox": [
           {
            "marker": {
             "colorbar": {
              "outlinewidth": 0,
              "ticks": ""
             }
            },
            "type": "scattermapbox"
           }
          ],
          "scatterpolar": [
           {
            "marker": {
             "colorbar": {
              "outlinewidth": 0,
              "ticks": ""
             }
            },
            "type": "scatterpolar"
           }
          ],
          "scatterpolargl": [
           {
            "marker": {
             "colorbar": {
              "outlinewidth": 0,
              "ticks": ""
             }
            },
            "type": "scatterpolargl"
           }
          ],
          "scatterternary": [
           {
            "marker": {
             "colorbar": {
              "outlinewidth": 0,
              "ticks": ""
             }
            },
            "type": "scatterternary"
           }
          ],
          "surface": [
           {
            "colorbar": {
             "outlinewidth": 0,
             "ticks": ""
            },
            "colorscale": [
             [
              0,
              "#0d0887"
             ],
             [
              0.1111111111111111,
              "#46039f"
             ],
             [
              0.2222222222222222,
              "#7201a8"
             ],
             [
              0.3333333333333333,
              "#9c179e"
             ],
             [
              0.4444444444444444,
              "#bd3786"
             ],
             [
              0.5555555555555556,
              "#d8576b"
             ],
             [
              0.6666666666666666,
              "#ed7953"
             ],
             [
              0.7777777777777778,
              "#fb9f3a"
             ],
             [
              0.8888888888888888,
              "#fdca26"
             ],
             [
              1,
              "#f0f921"
             ]
            ],
            "type": "surface"
           }
          ],
          "table": [
           {
            "cells": {
             "fill": {
              "color": "#EBF0F8"
             },
             "line": {
              "color": "white"
             }
            },
            "header": {
             "fill": {
              "color": "#C8D4E3"
             },
             "line": {
              "color": "white"
             }
            },
            "type": "table"
           }
          ]
         },
         "layout": {
          "annotationdefaults": {
           "arrowcolor": "#2a3f5f",
           "arrowhead": 0,
           "arrowwidth": 1
          },
          "autotypenumbers": "strict",
          "coloraxis": {
           "colorbar": {
            "outlinewidth": 0,
            "ticks": ""
           }
          },
          "colorscale": {
           "diverging": [
            [
             0,
             "#8e0152"
            ],
            [
             0.1,
             "#c51b7d"
            ],
            [
             0.2,
             "#de77ae"
            ],
            [
             0.3,
             "#f1b6da"
            ],
            [
             0.4,
             "#fde0ef"
            ],
            [
             0.5,
             "#f7f7f7"
            ],
            [
             0.6,
             "#e6f5d0"
            ],
            [
             0.7,
             "#b8e186"
            ],
            [
             0.8,
             "#7fbc41"
            ],
            [
             0.9,
             "#4d9221"
            ],
            [
             1,
             "#276419"
            ]
           ],
           "sequential": [
            [
             0,
             "#0d0887"
            ],
            [
             0.1111111111111111,
             "#46039f"
            ],
            [
             0.2222222222222222,
             "#7201a8"
            ],
            [
             0.3333333333333333,
             "#9c179e"
            ],
            [
             0.4444444444444444,
             "#bd3786"
            ],
            [
             0.5555555555555556,
             "#d8576b"
            ],
            [
             0.6666666666666666,
             "#ed7953"
            ],
            [
             0.7777777777777778,
             "#fb9f3a"
            ],
            [
             0.8888888888888888,
             "#fdca26"
            ],
            [
             1,
             "#f0f921"
            ]
           ],
           "sequentialminus": [
            [
             0,
             "#0d0887"
            ],
            [
             0.1111111111111111,
             "#46039f"
            ],
            [
             0.2222222222222222,
             "#7201a8"
            ],
            [
             0.3333333333333333,
             "#9c179e"
            ],
            [
             0.4444444444444444,
             "#bd3786"
            ],
            [
             0.5555555555555556,
             "#d8576b"
            ],
            [
             0.6666666666666666,
             "#ed7953"
            ],
            [
             0.7777777777777778,
             "#fb9f3a"
            ],
            [
             0.8888888888888888,
             "#fdca26"
            ],
            [
             1,
             "#f0f921"
            ]
           ]
          },
          "colorway": [
           "#636efa",
           "#EF553B",
           "#00cc96",
           "#ab63fa",
           "#FFA15A",
           "#19d3f3",
           "#FF6692",
           "#B6E880",
           "#FF97FF",
           "#FECB52"
          ],
          "font": {
           "color": "#2a3f5f"
          },
          "geo": {
           "bgcolor": "white",
           "lakecolor": "white",
           "landcolor": "#E5ECF6",
           "showlakes": true,
           "showland": true,
           "subunitcolor": "white"
          },
          "hoverlabel": {
           "align": "left"
          },
          "hovermode": "closest",
          "mapbox": {
           "style": "light"
          },
          "paper_bgcolor": "white",
          "plot_bgcolor": "#E5ECF6",
          "polar": {
           "angularaxis": {
            "gridcolor": "white",
            "linecolor": "white",
            "ticks": ""
           },
           "bgcolor": "#E5ECF6",
           "radialaxis": {
            "gridcolor": "white",
            "linecolor": "white",
            "ticks": ""
           }
          },
          "scene": {
           "xaxis": {
            "backgroundcolor": "#E5ECF6",
            "gridcolor": "white",
            "gridwidth": 2,
            "linecolor": "white",
            "showbackground": true,
            "ticks": "",
            "zerolinecolor": "white"
           },
           "yaxis": {
            "backgroundcolor": "#E5ECF6",
            "gridcolor": "white",
            "gridwidth": 2,
            "linecolor": "white",
            "showbackground": true,
            "ticks": "",
            "zerolinecolor": "white"
           },
           "zaxis": {
            "backgroundcolor": "#E5ECF6",
            "gridcolor": "white",
            "gridwidth": 2,
            "linecolor": "white",
            "showbackground": true,
            "ticks": "",
            "zerolinecolor": "white"
           }
          },
          "shapedefaults": {
           "line": {
            "color": "#2a3f5f"
           }
          },
          "ternary": {
           "aaxis": {
            "gridcolor": "white",
            "linecolor": "white",
            "ticks": ""
           },
           "baxis": {
            "gridcolor": "white",
            "linecolor": "white",
            "ticks": ""
           },
           "bgcolor": "#E5ECF6",
           "caxis": {
            "gridcolor": "white",
            "linecolor": "white",
            "ticks": ""
           }
          },
          "title": {
           "x": 0.05
          },
          "xaxis": {
           "automargin": true,
           "gridcolor": "white",
           "linecolor": "white",
           "ticks": "",
           "title": {
            "standoff": 15
           },
           "zerolinecolor": "white",
           "zerolinewidth": 2
          },
          "yaxis": {
           "automargin": true,
           "gridcolor": "white",
           "linecolor": "white",
           "ticks": "",
           "title": {
            "standoff": 15
           },
           "zerolinecolor": "white",
           "zerolinewidth": 2
          }
         }
        },
        "title": {
         "font": {
          "size": 20
         },
         "pad": {
          "t": 3
         },
         "text": "Consumo de Cerveja por dia entre 2015-2016"
        },
        "width": 1000,
        "xaxis": {
         "title": {
          "font": {
           "size": 18
          }
         }
        },
        "yaxis": {
         "title": {
          "font": {
           "size": 18
          },
          "text": "Consumo(L)"
         }
        }
       }
      },
      "text/html": [
       "<div>                            <div id=\"20442ba7-5f00-41f8-8728-aab12f8e38e4\" class=\"plotly-graph-div\" style=\"height:600px; width:1000px;\"></div>            <script type=\"text/javascript\">                require([\"plotly\"], function(Plotly) {                    window.PLOTLYENV=window.PLOTLYENV || {};                                    if (document.getElementById(\"20442ba7-5f00-41f8-8728-aab12f8e38e4\")) {                    Plotly.newPlot(                        \"20442ba7-5f00-41f8-8728-aab12f8e38e4\",                        [{\"line\": {\"color\": \"red\", \"width\": 1.5}, \"mode\": \"lines\", \"name\": \"M\\u00e9dia m\\u00f3vel de 7 dias do consumo de cerveja\", \"type\": \"scatter\", \"x\": [\"2015-01-01T00:00:00\", \"2015-01-02T00:00:00\", \"2015-01-03T00:00:00\", \"2015-01-04T00:00:00\", \"2015-01-05T00:00:00\", \"2015-01-06T00:00:00\", \"2015-01-07T00:00:00\", \"2015-01-08T00:00:00\", \"2015-01-09T00:00:00\", \"2015-01-10T00:00:00\", \"2015-01-11T00:00:00\", \"2015-01-12T00:00:00\", \"2015-01-13T00:00:00\", \"2015-01-14T00:00:00\", \"2015-01-15T00:00:00\", \"2015-01-16T00:00:00\", \"2015-01-17T00:00:00\", \"2015-01-18T00:00:00\", \"2015-01-19T00:00:00\", \"2015-01-20T00:00:00\", \"2015-01-21T00:00:00\", \"2015-01-22T00:00:00\", \"2015-01-23T00:00:00\", \"2015-01-24T00:00:00\", \"2015-01-25T00:00:00\", \"2015-01-26T00:00:00\", \"2015-01-27T00:00:00\", \"2015-01-28T00:00:00\", \"2015-01-29T00:00:00\", \"2015-01-30T00:00:00\", \"2015-01-31T00:00:00\", \"2015-02-01T00:00:00\", \"2015-02-02T00:00:00\", \"2015-02-03T00:00:00\", \"2015-02-04T00:00:00\", \"2015-02-05T00:00:00\", \"2015-02-06T00:00:00\", \"2015-02-07T00:00:00\", \"2015-02-08T00:00:00\", \"2015-02-09T00:00:00\", \"2015-02-10T00:00:00\", \"2015-02-11T00:00:00\", \"2015-02-12T00:00:00\", \"2015-02-13T00:00:00\", \"2015-02-14T00:00:00\", \"2015-02-15T00:00:00\", \"2015-02-16T00:00:00\", \"2015-02-17T00:00:00\", \"2015-02-18T00:00:00\", \"2015-02-19T00:00:00\", \"2015-02-20T00:00:00\", \"2015-02-21T00:00:00\", \"2015-02-22T00:00:00\", \"2015-02-23T00:00:00\", \"2015-02-24T00:00:00\", \"2015-02-25T00:00:00\", \"2015-02-26T00:00:00\", \"2015-02-27T00:00:00\", \"2015-02-28T00:00:00\", \"2015-03-01T00:00:00\", \"2015-03-02T00:00:00\", \"2015-03-03T00:00:00\", \"2015-03-04T00:00:00\", \"2015-03-05T00:00:00\", \"2015-03-06T00:00:00\", \"2015-03-07T00:00:00\", \"2015-03-08T00:00:00\", \"2015-03-09T00:00:00\", \"2015-03-10T00:00:00\", \"2015-03-11T00:00:00\", \"2015-03-12T00:00:00\", \"2015-03-13T00:00:00\", \"2015-03-14T00:00:00\", \"2015-03-15T00:00:00\", \"2015-03-16T00:00:00\", \"2015-03-17T00:00:00\", \"2015-03-18T00:00:00\", \"2015-03-19T00:00:00\", \"2015-03-20T00:00:00\", \"2015-03-21T00:00:00\", \"2015-03-22T00:00:00\", \"2015-03-23T00:00:00\", \"2015-03-24T00:00:00\", \"2015-03-25T00:00:00\", \"2015-03-26T00:00:00\", \"2015-03-27T00:00:00\", \"2015-03-28T00:00:00\", \"2015-03-29T00:00:00\", \"2015-03-30T00:00:00\", \"2015-03-31T00:00:00\", \"2015-04-01T00:00:00\", \"2015-04-02T00:00:00\", \"2015-04-03T00:00:00\", \"2015-04-04T00:00:00\", \"2015-04-05T00:00:00\", \"2015-04-06T00:00:00\", \"2015-04-07T00:00:00\", \"2015-04-08T00:00:00\", \"2015-04-09T00:00:00\", \"2015-04-10T00:00:00\", \"2015-04-11T00:00:00\", \"2015-04-12T00:00:00\", \"2015-04-13T00:00:00\", \"2015-04-14T00:00:00\", \"2015-04-15T00:00:00\", \"2015-04-16T00:00:00\", \"2015-04-17T00:00:00\", \"2015-04-18T00:00:00\", \"2015-04-19T00:00:00\", \"2015-04-20T00:00:00\", \"2015-04-21T00:00:00\", \"2015-04-22T00:00:00\", \"2015-04-23T00:00:00\", \"2015-04-24T00:00:00\", \"2015-04-25T00:00:00\", \"2015-04-26T00:00:00\", \"2015-04-27T00:00:00\", \"2015-04-28T00:00:00\", \"2015-04-29T00:00:00\", \"2015-04-30T00:00:00\", \"2015-05-01T00:00:00\", \"2015-05-02T00:00:00\", \"2015-05-03T00:00:00\", \"2015-05-04T00:00:00\", \"2015-05-05T00:00:00\", \"2015-05-06T00:00:00\", \"2015-05-07T00:00:00\", \"2015-05-08T00:00:00\", \"2015-05-09T00:00:00\", \"2015-05-10T00:00:00\", \"2015-05-11T00:00:00\", \"2015-05-12T00:00:00\", \"2015-05-13T00:00:00\", \"2015-05-14T00:00:00\", \"2015-05-15T00:00:00\", \"2015-05-16T00:00:00\", \"2015-05-17T00:00:00\", \"2015-05-18T00:00:00\", \"2015-05-19T00:00:00\", \"2015-05-20T00:00:00\", \"2015-05-21T00:00:00\", \"2015-05-22T00:00:00\", \"2015-05-23T00:00:00\", \"2015-05-24T00:00:00\", \"2015-05-25T00:00:00\", \"2015-05-26T00:00:00\", \"2015-05-27T00:00:00\", \"2015-05-28T00:00:00\", \"2015-05-29T00:00:00\", \"2015-05-30T00:00:00\", \"2015-05-31T00:00:00\", \"2015-06-01T00:00:00\", \"2015-06-02T00:00:00\", \"2015-06-03T00:00:00\", \"2015-06-04T00:00:00\", \"2015-06-05T00:00:00\", \"2015-06-06T00:00:00\", \"2015-06-07T00:00:00\", \"2015-06-08T00:00:00\", \"2015-06-09T00:00:00\", \"2015-06-10T00:00:00\", \"2015-06-11T00:00:00\", \"2015-06-12T00:00:00\", \"2015-06-13T00:00:00\", \"2015-06-14T00:00:00\", \"2015-06-15T00:00:00\", \"2015-06-16T00:00:00\", \"2015-06-17T00:00:00\", \"2015-06-18T00:00:00\", \"2015-06-19T00:00:00\", \"2015-06-20T00:00:00\", \"2015-06-21T00:00:00\", \"2015-06-22T00:00:00\", \"2015-06-23T00:00:00\", \"2015-06-24T00:00:00\", \"2015-06-25T00:00:00\", \"2015-06-26T00:00:00\", \"2015-06-27T00:00:00\", \"2015-06-28T00:00:00\", \"2015-06-29T00:00:00\", \"2015-06-30T00:00:00\", \"2015-07-01T00:00:00\", \"2015-07-02T00:00:00\", \"2015-07-03T00:00:00\", \"2015-07-04T00:00:00\", \"2015-07-05T00:00:00\", \"2015-07-06T00:00:00\", \"2015-07-07T00:00:00\", \"2015-07-08T00:00:00\", \"2015-07-09T00:00:00\", \"2015-07-10T00:00:00\", \"2015-07-11T00:00:00\", \"2015-07-12T00:00:00\", \"2015-07-13T00:00:00\", \"2015-07-14T00:00:00\", \"2015-07-15T00:00:00\", \"2015-07-16T00:00:00\", \"2015-07-17T00:00:00\", \"2015-07-18T00:00:00\", \"2015-07-19T00:00:00\", \"2015-07-20T00:00:00\", \"2015-07-21T00:00:00\", \"2015-07-22T00:00:00\", \"2015-07-23T00:00:00\", \"2015-07-24T00:00:00\", \"2015-07-25T00:00:00\", \"2015-07-26T00:00:00\", \"2015-07-27T00:00:00\", \"2015-07-28T00:00:00\", \"2015-07-29T00:00:00\", \"2015-07-30T00:00:00\", \"2015-07-31T00:00:00\", \"2015-08-01T00:00:00\", \"2015-08-02T00:00:00\", \"2015-08-03T00:00:00\", \"2015-08-04T00:00:00\", \"2015-08-05T00:00:00\", \"2015-08-06T00:00:00\", \"2015-08-07T00:00:00\", \"2015-08-08T00:00:00\", \"2015-08-09T00:00:00\", \"2015-08-10T00:00:00\", \"2015-08-11T00:00:00\", \"2015-08-12T00:00:00\", \"2015-08-13T00:00:00\", \"2015-08-14T00:00:00\", \"2015-08-15T00:00:00\", \"2015-08-16T00:00:00\", \"2015-08-17T00:00:00\", \"2015-08-18T00:00:00\", \"2015-08-19T00:00:00\", \"2015-08-20T00:00:00\", \"2015-08-21T00:00:00\", \"2015-08-22T00:00:00\", \"2015-08-23T00:00:00\", \"2015-08-24T00:00:00\", \"2015-08-25T00:00:00\", \"2015-08-26T00:00:00\", \"2015-08-27T00:00:00\", \"2015-08-28T00:00:00\", \"2015-08-29T00:00:00\", \"2015-08-30T00:00:00\", \"2015-08-31T00:00:00\", \"2015-09-01T00:00:00\", \"2015-09-02T00:00:00\", \"2015-09-03T00:00:00\", \"2015-09-04T00:00:00\", \"2015-09-05T00:00:00\", \"2015-09-06T00:00:00\", \"2015-09-07T00:00:00\", \"2015-09-08T00:00:00\", \"2015-09-09T00:00:00\", \"2015-09-10T00:00:00\", \"2015-09-11T00:00:00\", \"2015-09-12T00:00:00\", \"2015-09-13T00:00:00\", \"2015-09-14T00:00:00\", \"2015-09-15T00:00:00\", \"2015-09-16T00:00:00\", \"2015-09-17T00:00:00\", \"2015-09-18T00:00:00\", \"2015-09-19T00:00:00\", \"2015-09-20T00:00:00\", \"2015-09-21T00:00:00\", \"2015-09-22T00:00:00\", \"2015-09-23T00:00:00\", \"2015-09-24T00:00:00\", \"2015-09-25T00:00:00\", \"2015-09-26T00:00:00\", \"2015-09-27T00:00:00\", \"2015-09-28T00:00:00\", \"2015-09-29T00:00:00\", \"2015-09-30T00:00:00\", \"2015-10-01T00:00:00\", \"2015-10-02T00:00:00\", \"2015-10-03T00:00:00\", \"2015-10-04T00:00:00\", \"2015-10-05T00:00:00\", \"2015-10-06T00:00:00\", \"2015-10-07T00:00:00\", \"2015-10-08T00:00:00\", \"2015-10-09T00:00:00\", \"2015-10-10T00:00:00\", \"2015-10-11T00:00:00\", \"2015-10-12T00:00:00\", \"2015-10-13T00:00:00\", \"2015-10-14T00:00:00\", \"2015-10-15T00:00:00\", \"2015-10-16T00:00:00\", \"2015-10-17T00:00:00\", \"2015-10-18T00:00:00\", \"2015-10-19T00:00:00\", \"2015-10-20T00:00:00\", \"2015-10-21T00:00:00\", \"2015-10-22T00:00:00\", \"2015-10-23T00:00:00\", \"2015-10-24T00:00:00\", \"2015-10-25T00:00:00\", \"2015-10-26T00:00:00\", \"2015-10-27T00:00:00\", \"2015-10-28T00:00:00\", \"2015-10-29T00:00:00\", \"2015-10-30T00:00:00\", \"2015-10-31T00:00:00\", \"2015-11-01T00:00:00\", \"2015-11-02T00:00:00\", \"2015-11-03T00:00:00\", \"2015-11-04T00:00:00\", \"2015-11-05T00:00:00\", \"2015-11-06T00:00:00\", \"2015-11-07T00:00:00\", \"2015-11-08T00:00:00\", \"2015-11-09T00:00:00\", \"2015-11-10T00:00:00\", \"2015-11-11T00:00:00\", \"2015-11-12T00:00:00\", \"2015-11-13T00:00:00\", \"2015-11-14T00:00:00\", \"2015-11-15T00:00:00\", \"2015-11-16T00:00:00\", \"2015-11-17T00:00:00\", \"2015-11-18T00:00:00\", \"2015-11-19T00:00:00\", \"2015-11-20T00:00:00\", \"2015-11-21T00:00:00\", \"2015-11-22T00:00:00\", \"2015-11-23T00:00:00\", \"2015-11-24T00:00:00\", \"2015-11-25T00:00:00\", \"2015-11-26T00:00:00\", \"2015-11-27T00:00:00\", \"2015-11-28T00:00:00\", \"2015-11-29T00:00:00\", \"2015-11-30T00:00:00\", \"2015-12-01T00:00:00\", \"2015-12-02T00:00:00\", \"2015-12-03T00:00:00\", \"2015-12-04T00:00:00\", \"2015-12-05T00:00:00\", \"2015-12-06T00:00:00\", \"2015-12-07T00:00:00\", \"2015-12-08T00:00:00\", \"2015-12-09T00:00:00\", \"2015-12-10T00:00:00\", \"2015-12-11T00:00:00\", \"2015-12-12T00:00:00\", \"2015-12-13T00:00:00\", \"2015-12-14T00:00:00\", \"2015-12-15T00:00:00\", \"2015-12-16T00:00:00\", \"2015-12-17T00:00:00\", \"2015-12-18T00:00:00\", \"2015-12-19T00:00:00\", \"2015-12-20T00:00:00\", \"2015-12-21T00:00:00\", \"2015-12-22T00:00:00\", \"2015-12-23T00:00:00\", \"2015-12-24T00:00:00\", \"2015-12-25T00:00:00\", \"2015-12-26T00:00:00\", \"2015-12-27T00:00:00\", \"2015-12-28T00:00:00\", \"2015-12-29T00:00:00\", \"2015-12-30T00:00:00\", \"2015-12-31T00:00:00\"], \"y\": [null, null, null, null, null, null, 28.842285714285712, 29.261714285714284, 28.677999999999997, 29.69557142857143, 30.617714285714282, 30.16671428571428, 29.99128571428571, 30.29028571428571, 29.908428571428566, 30.630142857142854, 30.59485714285714, 29.776285714285713, 30.279428571428575, 31.441857142857145, 31.056857142857147, 31.067000000000007, 29.902142857142866, 28.567571428571437, 28.648142857142865, 27.5417142857143, 26.80528571428573, 25.87285714285716, 25.430142857142876, 26.15314285714288, 25.964857142857163, 26.103285714285732, 26.47142857142859, 26.71185714285716, 27.01685714285716, 26.624571428571443, 26.0497142857143, 26.31585714285716, 26.011428571428585, 26.006428571428586, 24.503857142857157, 24.799142857142872, 25.71900000000002, 25.918714285714305, 26.10985714285716, 25.40157142857145, 25.58457142857145, 25.050571428571452, 24.277285714285735, 23.782000000000018, 23.831714285714305, 23.933428571428596, 24.770142857142876, 24.820000000000018, 26.185714285714305, 26.75342857142859, 26.733714285714303, 26.97285714285716, 26.333428571428584, 25.854857142857156, 26.29157142857144, 25.889714285714295, 25.55000000000001, 26.6237142857143, 26.11128571428573, 26.486000000000015, 26.078000000000014, 24.830428571428588, 24.672714285714303, 24.66485714285716, 23.537571428571443, 23.341428571428587, 23.30628571428573, 24.485285714285727, 24.612000000000013, 25.073857142857154, 24.6787142857143, 24.852857142857154, 25.271714285714296, 25.241285714285727, 24.238857142857153, 24.3107142857143, 23.645285714285727, 23.964428571428584, 24.587428571428582, 24.696142857142867, 24.85742857142858, 24.894714285714294, 25.529571428571437, 26.002142857142868, 25.941857142857152, 25.10285714285715, 25.087571428571437, 25.614714285714292, 26.55714285714286, 26.058000000000003, 25.497857142857146, 25.69542857142857, 25.435714285714287, 25.435000000000002, 25.014285714285716, 23.922428571428576, 23.960142857142863, 24.102571428571434, 24.11785714285715, 24.323142857142866, 23.856142857142867, 24.330000000000013, 24.75257142857144, 24.993142857142868, 26.29414285714287, 25.671857142857156, 25.88085714285716, 26.280142857142874, 25.36557142857145, 25.715714285714306, 25.36342857142859, 23.892571428571443, 23.985142857142872, 23.592857142857156, 22.67157142857144, 22.364714285714292, 22.017571428571436, 22.514571428571436, 22.659428571428577, 22.790714285714294, 22.603714285714293, 22.633285714285726, 22.66428571428573, 22.019714285714297, 20.825285714285723, 20.42900000000001, 19.944285714285723, 20.10957142857144, 20.451285714285728, 20.196000000000016, 20.892285714285727, 21.480428571428586, 22.218000000000018, 22.537714285714305, 22.607142857142872, 22.591571428571445, 23.098428571428588, 23.523571428571444, 24.23814285714287, 23.944857142857156, 24.621000000000013, 25.1777142857143, 25.294285714285728, 25.106714285714297, 24.348714285714294, 22.94200000000001, 22.648285714285723, 22.190714285714296, 21.917714285714293, 22.47442857142858, 23.216142857142863, 23.847142857142863, 25.264571428571433, 25.439000000000004, 25.57514285714286, 25.83842857142858, 25.443142857142867, 25.225714285714297, 25.580714285714297, 24.576285714285724, 24.533714285714296, 24.803714285714296, 24.792142857142863, 23.98828571428572, 23.05228571428572, 22.46285714285715, 23.020428571428575, 23.894285714285722, 22.943285714285718, 22.21885714285715, 22.949142857142867, 23.116571428571437, 22.936142857142865, 23.199142857142867, 22.20128571428572, 22.713142857142866, 22.750857142857154, 21.762285714285724, 21.820142857142866, 20.92014285714287, 20.0037142857143, 20.157428571428586, 20.018142857142866, 20.162857142857153, 21.699714285714297, 21.993857142857156, 23.708714285714297, 24.736142857142863, 25.12185714285715, 26.39228571428572, 26.536285714285718, 26.012571428571427, 25.746285714285712, 25.62842857142857, 24.911285714285718, 24.609571428571428, 22.55257142857143, 22.164142857142856, 22.03157142857143, 21.44742857142857, 20.413142857142855, 20.178142857142856, 19.866000000000003, 21.034428571428574, 21.777000000000005, 22.294428571428575, 23.970000000000002, 24.88857142857143, 25.87314285714286, 27.028000000000002, 26.959000000000003, 27.230428571428575, 27.49528571428572, 27.33000000000001, 27.594857142857148, 27.211142857142864, 26.70528571428572, 27.070285714285717, 26.567857142857147, 26.410571428571433, 26.169285714285717, 25.134285714285717, 25.042857142857144, 24.883857142857146, 25.08771428571429, 24.37985714285715, 24.06042857142858, 24.13985714285715, 24.31785714285715, 24.41342857142858, 24.13085714285715, 23.750285714285724, 23.783571428571438, 23.637000000000008, 23.85185714285715, 24.46828571428572, 25.215571428571433, 25.40085714285715, 25.01857142857143, 25.923428571428577, 25.513142857142864, 24.10542857142858, 22.92442857142858, 21.75100000000001, 20.99185714285715, 20.46271428571429, 20.077428571428577, 20.37871428571429, 20.376857142857148, 20.04628571428572, 20.080142857142864, 22.037285714285723, 23.232428571428578, 25.004571428571435, 25.698428571428575, 27.13014285714286, 29.05057142857143, 30.388428571428573, 29.758000000000003, 30.79314285714286, 30.281000000000002, 30.723857142857145, 30.409714285714283, 30.051, 28.322714285714284, 28.001571428571427, 27.35085714285714, 26.25357142857143, 25.978857142857144, 25.298714285714286, 24.252714285714287, 25.245285714285718, 24.98671428571429, 25.314571428571433, 26.817142857142862, 26.297285714285717, 27.505, 28.881285714285717, 29.10557142857143, 29.708285714285715, 29.203142857142858, 29.585857142857144, 30.091285714285714, 29.996428571428574, 28.23971428571429, 27.918428571428574, 28.111000000000008, 28.731857142857148, 26.903857142857152, 26.790571428571436, 26.075000000000006, 26.702857142857145, 27.286285714285718, 27.245, 26.348285714285712, 26.286714285714286, 27.008857142857146, 28.169428571428575, 27.860142857142865, 26.797857142857147, 26.10628571428572, 25.623, 25.69442857142857, 24.11242857142857, 22.47657142857142, 23.07385714285714, 24.18928571428571, 24.935428571428563, 26.091142857142852, 26.96728571428571, 28.120428571428565, 28.47842857142857, 28.589285714285715, 28.03971428571429, 27.896857142857147, 27.04614285714286, 26.145142857142865, 24.95728571428572, 25.465285714285724, 25.829142857142866, 25.408142857142867, 24.654571428571437, 24.869571428571437, 25.201714285714292, 26.437000000000005, 27.007000000000005, 26.819000000000006, 26.61557142857143, 27.021285714285717, 27.785857142857147, 28.231571428571435, 28.30785714285715, 28.032000000000004, 28.341000000000005, 28.78914285714286, 29.244000000000003, 28.767714285714288, 27.986, 28.161285714285718, 27.751000000000005, 27.23785714285715, 27.917285714285722, 28.046428571428578, 27.178571428571438, 27.379142857142863, 26.850857142857148, 27.27328571428572, 27.407428571428575, 26.936428571428575, 26.68085714285715, 27.45314285714286, 28.486714285714292, 28.381857142857147, 26.87028571428572, 27.18171428571429, 27.361857142857144, 26.716285714285714, 25.858999999999998, 24.55528571428571]}, {\"marker\": {\"color\": \"seagreen\"}, \"name\": \"Consumo de cerveja(L)\", \"type\": \"bar\", \"x\": [\"2015-01-01T00:00:00\", \"2015-01-02T00:00:00\", \"2015-01-03T00:00:00\", \"2015-01-04T00:00:00\", \"2015-01-05T00:00:00\", \"2015-01-06T00:00:00\", \"2015-01-07T00:00:00\", \"2015-01-08T00:00:00\", \"2015-01-09T00:00:00\", \"2015-01-10T00:00:00\", \"2015-01-11T00:00:00\", \"2015-01-12T00:00:00\", \"2015-01-13T00:00:00\", \"2015-01-14T00:00:00\", \"2015-01-15T00:00:00\", \"2015-01-16T00:00:00\", \"2015-01-17T00:00:00\", \"2015-01-18T00:00:00\", \"2015-01-19T00:00:00\", \"2015-01-20T00:00:00\", \"2015-01-21T00:00:00\", \"2015-01-22T00:00:00\", \"2015-01-23T00:00:00\", \"2015-01-24T00:00:00\", \"2015-01-25T00:00:00\", \"2015-01-26T00:00:00\", \"2015-01-27T00:00:00\", \"2015-01-28T00:00:00\", \"2015-01-29T00:00:00\", \"2015-01-30T00:00:00\", \"2015-01-31T00:00:00\", \"2015-02-01T00:00:00\", \"2015-02-02T00:00:00\", \"2015-02-03T00:00:00\", \"2015-02-04T00:00:00\", \"2015-02-05T00:00:00\", \"2015-02-06T00:00:00\", \"2015-02-07T00:00:00\", \"2015-02-08T00:00:00\", \"2015-02-09T00:00:00\", \"2015-02-10T00:00:00\", \"2015-02-11T00:00:00\", \"2015-02-12T00:00:00\", \"2015-02-13T00:00:00\", \"2015-02-14T00:00:00\", \"2015-02-15T00:00:00\", \"2015-02-16T00:00:00\", \"2015-02-17T00:00:00\", \"2015-02-18T00:00:00\", \"2015-02-19T00:00:00\", \"2015-02-20T00:00:00\", \"2015-02-21T00:00:00\", \"2015-02-22T00:00:00\", \"2015-02-23T00:00:00\", \"2015-02-24T00:00:00\", \"2015-02-25T00:00:00\", \"2015-02-26T00:00:00\", \"2015-02-27T00:00:00\", \"2015-02-28T00:00:00\", \"2015-03-01T00:00:00\", \"2015-03-02T00:00:00\", \"2015-03-03T00:00:00\", \"2015-03-04T00:00:00\", \"2015-03-05T00:00:00\", \"2015-03-06T00:00:00\", \"2015-03-07T00:00:00\", \"2015-03-08T00:00:00\", \"2015-03-09T00:00:00\", \"2015-03-10T00:00:00\", \"2015-03-11T00:00:00\", \"2015-03-12T00:00:00\", \"2015-03-13T00:00:00\", \"2015-03-14T00:00:00\", \"2015-03-15T00:00:00\", \"2015-03-16T00:00:00\", \"2015-03-17T00:00:00\", \"2015-03-18T00:00:00\", \"2015-03-19T00:00:00\", \"2015-03-20T00:00:00\", \"2015-03-21T00:00:00\", \"2015-03-22T00:00:00\", \"2015-03-23T00:00:00\", \"2015-03-24T00:00:00\", \"2015-03-25T00:00:00\", \"2015-03-26T00:00:00\", \"2015-03-27T00:00:00\", \"2015-03-28T00:00:00\", \"2015-03-29T00:00:00\", \"2015-03-30T00:00:00\", \"2015-03-31T00:00:00\", \"2015-04-01T00:00:00\", \"2015-04-02T00:00:00\", \"2015-04-03T00:00:00\", \"2015-04-04T00:00:00\", \"2015-04-05T00:00:00\", \"2015-04-06T00:00:00\", \"2015-04-07T00:00:00\", \"2015-04-08T00:00:00\", \"2015-04-09T00:00:00\", \"2015-04-10T00:00:00\", \"2015-04-11T00:00:00\", \"2015-04-12T00:00:00\", \"2015-04-13T00:00:00\", \"2015-04-14T00:00:00\", \"2015-04-15T00:00:00\", \"2015-04-16T00:00:00\", \"2015-04-17T00:00:00\", \"2015-04-18T00:00:00\", \"2015-04-19T00:00:00\", \"2015-04-20T00:00:00\", \"2015-04-21T00:00:00\", \"2015-04-22T00:00:00\", \"2015-04-23T00:00:00\", \"2015-04-24T00:00:00\", \"2015-04-25T00:00:00\", \"2015-04-26T00:00:00\", \"2015-04-27T00:00:00\", \"2015-04-28T00:00:00\", \"2015-04-29T00:00:00\", \"2015-04-30T00:00:00\", \"2015-05-01T00:00:00\", \"2015-05-02T00:00:00\", \"2015-05-03T00:00:00\", \"2015-05-04T00:00:00\", \"2015-05-05T00:00:00\", \"2015-05-06T00:00:00\", \"2015-05-07T00:00:00\", \"2015-05-08T00:00:00\", \"2015-05-09T00:00:00\", \"2015-05-10T00:00:00\", \"2015-05-11T00:00:00\", \"2015-05-12T00:00:00\", \"2015-05-13T00:00:00\", \"2015-05-14T00:00:00\", \"2015-05-15T00:00:00\", \"2015-05-16T00:00:00\", \"2015-05-17T00:00:00\", \"2015-05-18T00:00:00\", \"2015-05-19T00:00:00\", \"2015-05-20T00:00:00\", \"2015-05-21T00:00:00\", \"2015-05-22T00:00:00\", \"2015-05-23T00:00:00\", \"2015-05-24T00:00:00\", \"2015-05-25T00:00:00\", \"2015-05-26T00:00:00\", \"2015-05-27T00:00:00\", \"2015-05-28T00:00:00\", \"2015-05-29T00:00:00\", \"2015-05-30T00:00:00\", \"2015-05-31T00:00:00\", \"2015-06-01T00:00:00\", \"2015-06-02T00:00:00\", \"2015-06-03T00:00:00\", \"2015-06-04T00:00:00\", \"2015-06-05T00:00:00\", \"2015-06-06T00:00:00\", \"2015-06-07T00:00:00\", \"2015-06-08T00:00:00\", \"2015-06-09T00:00:00\", \"2015-06-10T00:00:00\", \"2015-06-11T00:00:00\", \"2015-06-12T00:00:00\", \"2015-06-13T00:00:00\", \"2015-06-14T00:00:00\", \"2015-06-15T00:00:00\", \"2015-06-16T00:00:00\", \"2015-06-17T00:00:00\", \"2015-06-18T00:00:00\", \"2015-06-19T00:00:00\", \"2015-06-20T00:00:00\", \"2015-06-21T00:00:00\", \"2015-06-22T00:00:00\", \"2015-06-23T00:00:00\", \"2015-06-24T00:00:00\", \"2015-06-25T00:00:00\", \"2015-06-26T00:00:00\", \"2015-06-27T00:00:00\", \"2015-06-28T00:00:00\", \"2015-06-29T00:00:00\", \"2015-06-30T00:00:00\", \"2015-07-01T00:00:00\", \"2015-07-02T00:00:00\", \"2015-07-03T00:00:00\", \"2015-07-04T00:00:00\", \"2015-07-05T00:00:00\", \"2015-07-06T00:00:00\", \"2015-07-07T00:00:00\", \"2015-07-08T00:00:00\", \"2015-07-09T00:00:00\", \"2015-07-10T00:00:00\", \"2015-07-11T00:00:00\", \"2015-07-12T00:00:00\", \"2015-07-13T00:00:00\", \"2015-07-14T00:00:00\", \"2015-07-15T00:00:00\", \"2015-07-16T00:00:00\", \"2015-07-17T00:00:00\", \"2015-07-18T00:00:00\", \"2015-07-19T00:00:00\", \"2015-07-20T00:00:00\", \"2015-07-21T00:00:00\", \"2015-07-22T00:00:00\", \"2015-07-23T00:00:00\", \"2015-07-24T00:00:00\", \"2015-07-25T00:00:00\", \"2015-07-26T00:00:00\", \"2015-07-27T00:00:00\", \"2015-07-28T00:00:00\", \"2015-07-29T00:00:00\", \"2015-07-30T00:00:00\", \"2015-07-31T00:00:00\", \"2015-08-01T00:00:00\", \"2015-08-02T00:00:00\", \"2015-08-03T00:00:00\", \"2015-08-04T00:00:00\", \"2015-08-05T00:00:00\", \"2015-08-06T00:00:00\", \"2015-08-07T00:00:00\", \"2015-08-08T00:00:00\", \"2015-08-09T00:00:00\", \"2015-08-10T00:00:00\", \"2015-08-11T00:00:00\", \"2015-08-12T00:00:00\", \"2015-08-13T00:00:00\", \"2015-08-14T00:00:00\", \"2015-08-15T00:00:00\", \"2015-08-16T00:00:00\", \"2015-08-17T00:00:00\", \"2015-08-18T00:00:00\", \"2015-08-19T00:00:00\", \"2015-08-20T00:00:00\", \"2015-08-21T00:00:00\", \"2015-08-22T00:00:00\", \"2015-08-23T00:00:00\", \"2015-08-24T00:00:00\", \"2015-08-25T00:00:00\", \"2015-08-26T00:00:00\", \"2015-08-27T00:00:00\", \"2015-08-28T00:00:00\", \"2015-08-29T00:00:00\", \"2015-08-30T00:00:00\", \"2015-08-31T00:00:00\", \"2015-09-01T00:00:00\", \"2015-09-02T00:00:00\", \"2015-09-03T00:00:00\", \"2015-09-04T00:00:00\", \"2015-09-05T00:00:00\", \"2015-09-06T00:00:00\", \"2015-09-07T00:00:00\", \"2015-09-08T00:00:00\", \"2015-09-09T00:00:00\", \"2015-09-10T00:00:00\", \"2015-09-11T00:00:00\", \"2015-09-12T00:00:00\", \"2015-09-13T00:00:00\", \"2015-09-14T00:00:00\", \"2015-09-15T00:00:00\", \"2015-09-16T00:00:00\", \"2015-09-17T00:00:00\", \"2015-09-18T00:00:00\", \"2015-09-19T00:00:00\", \"2015-09-20T00:00:00\", \"2015-09-21T00:00:00\", \"2015-09-22T00:00:00\", \"2015-09-23T00:00:00\", \"2015-09-24T00:00:00\", \"2015-09-25T00:00:00\", \"2015-09-26T00:00:00\", \"2015-09-27T00:00:00\", \"2015-09-28T00:00:00\", \"2015-09-29T00:00:00\", \"2015-09-30T00:00:00\", \"2015-10-01T00:00:00\", \"2015-10-02T00:00:00\", \"2015-10-03T00:00:00\", \"2015-10-04T00:00:00\", \"2015-10-05T00:00:00\", \"2015-10-06T00:00:00\", \"2015-10-07T00:00:00\", \"2015-10-08T00:00:00\", \"2015-10-09T00:00:00\", \"2015-10-10T00:00:00\", \"2015-10-11T00:00:00\", \"2015-10-12T00:00:00\", \"2015-10-13T00:00:00\", \"2015-10-14T00:00:00\", \"2015-10-15T00:00:00\", \"2015-10-16T00:00:00\", \"2015-10-17T00:00:00\", \"2015-10-18T00:00:00\", \"2015-10-19T00:00:00\", \"2015-10-20T00:00:00\", \"2015-10-21T00:00:00\", \"2015-10-22T00:00:00\", \"2015-10-23T00:00:00\", \"2015-10-24T00:00:00\", \"2015-10-25T00:00:00\", \"2015-10-26T00:00:00\", \"2015-10-27T00:00:00\", \"2015-10-28T00:00:00\", \"2015-10-29T00:00:00\", \"2015-10-30T00:00:00\", \"2015-10-31T00:00:00\", \"2015-11-01T00:00:00\", \"2015-11-02T00:00:00\", \"2015-11-03T00:00:00\", \"2015-11-04T00:00:00\", \"2015-11-05T00:00:00\", \"2015-11-06T00:00:00\", \"2015-11-07T00:00:00\", \"2015-11-08T00:00:00\", \"2015-11-09T00:00:00\", \"2015-11-10T00:00:00\", \"2015-11-11T00:00:00\", \"2015-11-12T00:00:00\", \"2015-11-13T00:00:00\", \"2015-11-14T00:00:00\", \"2015-11-15T00:00:00\", \"2015-11-16T00:00:00\", \"2015-11-17T00:00:00\", \"2015-11-18T00:00:00\", \"2015-11-19T00:00:00\", \"2015-11-20T00:00:00\", \"2015-11-21T00:00:00\", \"2015-11-22T00:00:00\", \"2015-11-23T00:00:00\", \"2015-11-24T00:00:00\", \"2015-11-25T00:00:00\", \"2015-11-26T00:00:00\", \"2015-11-27T00:00:00\", \"2015-11-28T00:00:00\", \"2015-11-29T00:00:00\", \"2015-11-30T00:00:00\", \"2015-12-01T00:00:00\", \"2015-12-02T00:00:00\", \"2015-12-03T00:00:00\", \"2015-12-04T00:00:00\", \"2015-12-05T00:00:00\", \"2015-12-06T00:00:00\", \"2015-12-07T00:00:00\", \"2015-12-08T00:00:00\", \"2015-12-09T00:00:00\", \"2015-12-10T00:00:00\", \"2015-12-11T00:00:00\", \"2015-12-12T00:00:00\", \"2015-12-13T00:00:00\", \"2015-12-14T00:00:00\", \"2015-12-15T00:00:00\", \"2015-12-16T00:00:00\", \"2015-12-17T00:00:00\", \"2015-12-18T00:00:00\", \"2015-12-19T00:00:00\", \"2015-12-20T00:00:00\", \"2015-12-21T00:00:00\", \"2015-12-22T00:00:00\", \"2015-12-23T00:00:00\", \"2015-12-24T00:00:00\", \"2015-12-25T00:00:00\", \"2015-12-26T00:00:00\", \"2015-12-27T00:00:00\", \"2015-12-28T00:00:00\", \"2015-12-29T00:00:00\", \"2015-12-30T00:00:00\", \"2015-12-31T00:00:00\"], \"y\": [25.461, 28.971999999999998, 30.814, 29.799, 28.9, 28.218000000000004, 29.732, 28.397, 24.886, 37.937, 36.254, 25.743000000000002, 26.99, 31.825, 25.724, 29.938000000000002, 37.69, 30.524, 29.265, 35.126999999999995, 29.13, 25.795, 21.784000000000002, 28.348000000000003, 31.088, 21.52, 29.971999999999998, 22.603, 22.695999999999998, 26.845, 27.03, 32.056999999999995, 24.096999999999998, 31.655, 24.738000000000003, 19.95, 22.820999999999998, 28.893, 29.926, 24.061999999999998, 21.136999999999997, 26.805, 26.389, 24.219, 30.230999999999998, 24.968000000000004, 25.343000000000004, 17.399, 21.392, 22.921999999999997, 24.566999999999997, 30.943, 30.825, 25.691999999999997, 26.959, 25.366, 22.784000000000002, 26.241, 26.467, 27.475, 28.749000000000002, 24.146, 22.988000000000003, 30.3, 22.654, 29.09, 24.619, 20.016, 23.041999999999998, 22.933000000000003, 22.409000000000002, 21.281, 28.844, 32.872, 20.903000000000002, 26.275, 20.167, 23.628, 24.213, 28.631, 25.855, 21.406, 21.616999999999997, 22.401, 27.989, 24.974, 29.76, 26.116, 25.85, 24.925, 21.979, 22.116, 24.866999999999997, 33.45, 32.713, 22.355999999999998, 21.004, 23.362, 20.298, 24.862, 30.505, 25.07, 22.62, 22.000999999999998, 23.469, 21.735, 21.593000000000004, 33.821999999999996, 28.028000000000002, 24.304000000000002, 31.108, 19.113, 23.198, 24.388, 27.42, 30.479, 21.838, 20.811999999999998, 19.761, 20.452, 17.939, 25.272, 28.049, 25.316999999999997, 21.826, 20.68, 19.143, 18.146, 25.489, 23.537, 16.956, 19.052, 17.287, 20.3, 20.538, 23.701999999999998, 28.410999999999998, 21.073, 24.215, 19.525, 20.785999999999998, 20.429000000000002, 27.25, 31.386999999999997, 26.075, 22.162, 24.258000000000003, 24.683000000000003, 21.245, 25.936999999999998, 26.081, 16.227999999999998, 20.105999999999998, 21.055, 22.772, 25.142, 31.129, 30.498, 26.15, 21.326999999999998, 22.008000000000003, 24.615, 22.375, 29.607, 32.983000000000004, 19.119, 21.029, 23.898000000000003, 24.534000000000002, 16.748, 23.055, 28.857, 23.022, 27.146, 17.241, 19.463, 21.86, 24.226999999999997, 27.594, 24.863000000000003, 20.160999999999998, 20.824, 19.727, 14.94, 24.631999999999998, 21.294, 18.448, 21.237, 19.849, 20.74, 25.698, 26.691, 33.298, 25.64, 23.936999999999998, 28.741999999999997, 21.748, 22.031999999999996, 24.826999999999998, 32.473, 20.62, 21.825, 14.343, 19.029, 21.104, 20.738000000000003, 25.233, 18.975, 19.64, 22.522, 24.226999999999997, 24.726, 32.467, 31.663, 25.866999999999997, 27.724, 22.039, 26.127, 26.58, 31.31, 33.516999999999996, 23.180999999999997, 24.183000000000003, 24.594, 22.61, 25.479, 29.621, 26.272, 22.541, 23.07, 26.021, 17.655, 23.243000000000002, 30.177, 27.518, 23.21, 21.092, 23.357, 17.887999999999998, 22.217, 31.680999999999997, 31.833000000000002, 28.441, 22.389, 20.680999999999997, 24.221999999999998, 19.345, 21.826999999999998, 23.566, 20.227, 17.075, 16.977, 21.525, 21.454, 21.814, 21.252, 20.464000000000002, 30.775, 25.343000000000004, 33.93, 26.311, 31.836, 34.695, 29.829, 26.362, 32.589, 30.345, 29.410999999999998, 29.636999999999997, 32.184, 17.730999999999998, 24.114, 28.034000000000002, 22.664, 27.488000000000003, 24.875999999999998, 24.862, 24.679000000000002, 22.304000000000002, 30.329, 33.181999999999995, 23.849, 33.33, 34.496, 26.249000000000002, 26.523000000000003, 26.793000000000003, 35.861, 27.386999999999997, 32.666, 22.199, 24.0, 27.871, 31.139, 23.065, 26.594, 27.656999999999996, 26.594, 28.084, 27.581999999999997, 24.862, 22.634, 31.649, 35.781, 24.429000000000002, 20.648000000000003, 22.741, 21.479, 23.134, 20.575, 24.33, 28.61, 28.456, 27.964000000000002, 29.569000000000003, 29.267, 28.647, 26.836, 29.386, 24.609, 26.964000000000002, 23.614, 22.96, 20.332, 30.392, 31.933000000000003, 21.662, 21.689, 25.119, 25.285, 28.979, 34.382, 30.616999999999997, 20.238, 24.529, 30.471, 28.405, 29.513, 32.451, 32.78, 23.375, 27.713, 27.136999999999997, 22.933000000000003, 30.74, 29.579, 29.188000000000002, 28.131, 28.616999999999997, 21.061999999999998, 24.337, 27.041999999999998, 32.536, 30.127, 24.834, 26.828000000000003, 26.468000000000004, 31.572, 26.308000000000003, 21.955, 32.306999999999995, 26.095, 22.309, 20.467, 22.445999999999998]}],                        {\"autosize\": false, \"bargap\": 0.3, \"height\": 600, \"legend\": {\"orientation\": \"h\", \"x\": 1, \"xanchor\": \"right\", \"y\": 1.02, \"yanchor\": \"bottom\"}, \"margin\": {\"autoexpand\": false}, \"plot_bgcolor\": \"white\", \"showlegend\": true, \"template\": {\"data\": {\"bar\": [{\"error_x\": {\"color\": \"#2a3f5f\"}, \"error_y\": {\"color\": \"#2a3f5f\"}, \"marker\": {\"line\": {\"color\": \"#E5ECF6\", \"width\": 0.5}}, \"type\": \"bar\"}], \"barpolar\": [{\"marker\": {\"line\": {\"color\": \"#E5ECF6\", \"width\": 0.5}}, \"type\": \"barpolar\"}], \"carpet\": [{\"aaxis\": {\"endlinecolor\": \"#2a3f5f\", \"gridcolor\": \"white\", \"linecolor\": \"white\", \"minorgridcolor\": \"white\", \"startlinecolor\": \"#2a3f5f\"}, \"baxis\": {\"endlinecolor\": \"#2a3f5f\", \"gridcolor\": \"white\", \"linecolor\": \"white\", \"minorgridcolor\": \"white\", \"startlinecolor\": \"#2a3f5f\"}, \"type\": \"carpet\"}], \"choropleth\": [{\"colorbar\": {\"outlinewidth\": 0, \"ticks\": \"\"}, \"type\": \"choropleth\"}], \"contour\": [{\"colorbar\": {\"outlinewidth\": 0, \"ticks\": \"\"}, \"colorscale\": [[0.0, \"#0d0887\"], [0.1111111111111111, \"#46039f\"], [0.2222222222222222, \"#7201a8\"], [0.3333333333333333, \"#9c179e\"], [0.4444444444444444, \"#bd3786\"], [0.5555555555555556, \"#d8576b\"], [0.6666666666666666, \"#ed7953\"], [0.7777777777777778, \"#fb9f3a\"], [0.8888888888888888, \"#fdca26\"], [1.0, \"#f0f921\"]], \"type\": \"contour\"}], \"contourcarpet\": [{\"colorbar\": {\"outlinewidth\": 0, \"ticks\": \"\"}, \"type\": \"contourcarpet\"}], \"heatmap\": [{\"colorbar\": {\"outlinewidth\": 0, \"ticks\": \"\"}, \"colorscale\": [[0.0, \"#0d0887\"], [0.1111111111111111, \"#46039f\"], [0.2222222222222222, \"#7201a8\"], [0.3333333333333333, \"#9c179e\"], [0.4444444444444444, \"#bd3786\"], [0.5555555555555556, \"#d8576b\"], [0.6666666666666666, \"#ed7953\"], [0.7777777777777778, \"#fb9f3a\"], [0.8888888888888888, \"#fdca26\"], [1.0, \"#f0f921\"]], \"type\": \"heatmap\"}], \"heatmapgl\": [{\"colorbar\": {\"outlinewidth\": 0, \"ticks\": \"\"}, \"colorscale\": [[0.0, \"#0d0887\"], [0.1111111111111111, \"#46039f\"], [0.2222222222222222, \"#7201a8\"], [0.3333333333333333, \"#9c179e\"], [0.4444444444444444, \"#bd3786\"], [0.5555555555555556, \"#d8576b\"], [0.6666666666666666, \"#ed7953\"], [0.7777777777777778, \"#fb9f3a\"], [0.8888888888888888, \"#fdca26\"], [1.0, \"#f0f921\"]], \"type\": \"heatmapgl\"}], \"histogram\": [{\"marker\": {\"colorbar\": {\"outlinewidth\": 0, \"ticks\": \"\"}}, \"type\": \"histogram\"}], \"histogram2d\": [{\"colorbar\": {\"outlinewidth\": 0, \"ticks\": \"\"}, \"colorscale\": [[0.0, \"#0d0887\"], [0.1111111111111111, \"#46039f\"], [0.2222222222222222, \"#7201a8\"], [0.3333333333333333, \"#9c179e\"], [0.4444444444444444, \"#bd3786\"], [0.5555555555555556, \"#d8576b\"], [0.6666666666666666, \"#ed7953\"], [0.7777777777777778, \"#fb9f3a\"], [0.8888888888888888, \"#fdca26\"], [1.0, \"#f0f921\"]], \"type\": \"histogram2d\"}], \"histogram2dcontour\": [{\"colorbar\": {\"outlinewidth\": 0, \"ticks\": \"\"}, \"colorscale\": [[0.0, \"#0d0887\"], [0.1111111111111111, \"#46039f\"], [0.2222222222222222, \"#7201a8\"], [0.3333333333333333, \"#9c179e\"], [0.4444444444444444, \"#bd3786\"], [0.5555555555555556, \"#d8576b\"], [0.6666666666666666, \"#ed7953\"], [0.7777777777777778, \"#fb9f3a\"], [0.8888888888888888, \"#fdca26\"], [1.0, \"#f0f921\"]], \"type\": \"histogram2dcontour\"}], \"mesh3d\": [{\"colorbar\": {\"outlinewidth\": 0, \"ticks\": \"\"}, \"type\": \"mesh3d\"}], \"parcoords\": [{\"line\": {\"colorbar\": {\"outlinewidth\": 0, \"ticks\": \"\"}}, \"type\": \"parcoords\"}], \"pie\": [{\"automargin\": true, \"type\": \"pie\"}], \"scatter\": [{\"marker\": {\"colorbar\": {\"outlinewidth\": 0, \"ticks\": \"\"}}, \"type\": \"scatter\"}], \"scatter3d\": [{\"line\": {\"colorbar\": {\"outlinewidth\": 0, \"ticks\": \"\"}}, \"marker\": {\"colorbar\": {\"outlinewidth\": 0, \"ticks\": \"\"}}, \"type\": \"scatter3d\"}], \"scattercarpet\": [{\"marker\": {\"colorbar\": {\"outlinewidth\": 0, \"ticks\": \"\"}}, \"type\": \"scattercarpet\"}], \"scattergeo\": [{\"marker\": {\"colorbar\": {\"outlinewidth\": 0, \"ticks\": \"\"}}, \"type\": \"scattergeo\"}], \"scattergl\": [{\"marker\": {\"colorbar\": {\"outlinewidth\": 0, \"ticks\": \"\"}}, \"type\": \"scattergl\"}], \"scattermapbox\": [{\"marker\": {\"colorbar\": {\"outlinewidth\": 0, \"ticks\": \"\"}}, \"type\": \"scattermapbox\"}], \"scatterpolar\": [{\"marker\": {\"colorbar\": {\"outlinewidth\": 0, \"ticks\": \"\"}}, \"type\": \"scatterpolar\"}], \"scatterpolargl\": [{\"marker\": {\"colorbar\": {\"outlinewidth\": 0, \"ticks\": \"\"}}, \"type\": \"scatterpolargl\"}], \"scatterternary\": [{\"marker\": {\"colorbar\": {\"outlinewidth\": 0, \"ticks\": \"\"}}, \"type\": \"scatterternary\"}], \"surface\": [{\"colorbar\": {\"outlinewidth\": 0, \"ticks\": \"\"}, \"colorscale\": [[0.0, \"#0d0887\"], [0.1111111111111111, \"#46039f\"], [0.2222222222222222, \"#7201a8\"], [0.3333333333333333, \"#9c179e\"], [0.4444444444444444, \"#bd3786\"], [0.5555555555555556, \"#d8576b\"], [0.6666666666666666, \"#ed7953\"], [0.7777777777777778, \"#fb9f3a\"], [0.8888888888888888, \"#fdca26\"], [1.0, \"#f0f921\"]], \"type\": \"surface\"}], \"table\": [{\"cells\": {\"fill\": {\"color\": \"#EBF0F8\"}, \"line\": {\"color\": \"white\"}}, \"header\": {\"fill\": {\"color\": \"#C8D4E3\"}, \"line\": {\"color\": \"white\"}}, \"type\": \"table\"}]}, \"layout\": {\"annotationdefaults\": {\"arrowcolor\": \"#2a3f5f\", \"arrowhead\": 0, \"arrowwidth\": 1}, \"autotypenumbers\": \"strict\", \"coloraxis\": {\"colorbar\": {\"outlinewidth\": 0, \"ticks\": \"\"}}, \"colorscale\": {\"diverging\": [[0, \"#8e0152\"], [0.1, \"#c51b7d\"], [0.2, \"#de77ae\"], [0.3, \"#f1b6da\"], [0.4, \"#fde0ef\"], [0.5, \"#f7f7f7\"], [0.6, \"#e6f5d0\"], [0.7, \"#b8e186\"], [0.8, \"#7fbc41\"], [0.9, \"#4d9221\"], [1, \"#276419\"]], \"sequential\": [[0.0, \"#0d0887\"], [0.1111111111111111, \"#46039f\"], [0.2222222222222222, \"#7201a8\"], [0.3333333333333333, \"#9c179e\"], [0.4444444444444444, \"#bd3786\"], [0.5555555555555556, \"#d8576b\"], [0.6666666666666666, \"#ed7953\"], [0.7777777777777778, \"#fb9f3a\"], [0.8888888888888888, \"#fdca26\"], [1.0, \"#f0f921\"]], \"sequentialminus\": [[0.0, \"#0d0887\"], [0.1111111111111111, \"#46039f\"], [0.2222222222222222, \"#7201a8\"], [0.3333333333333333, \"#9c179e\"], [0.4444444444444444, \"#bd3786\"], [0.5555555555555556, \"#d8576b\"], [0.6666666666666666, \"#ed7953\"], [0.7777777777777778, \"#fb9f3a\"], [0.8888888888888888, \"#fdca26\"], [1.0, \"#f0f921\"]]}, \"colorway\": [\"#636efa\", \"#EF553B\", \"#00cc96\", \"#ab63fa\", \"#FFA15A\", \"#19d3f3\", \"#FF6692\", \"#B6E880\", \"#FF97FF\", \"#FECB52\"], \"font\": {\"color\": \"#2a3f5f\"}, \"geo\": {\"bgcolor\": \"white\", \"lakecolor\": \"white\", \"landcolor\": \"#E5ECF6\", \"showlakes\": true, \"showland\": true, \"subunitcolor\": \"white\"}, \"hoverlabel\": {\"align\": \"left\"}, \"hovermode\": \"closest\", \"mapbox\": {\"style\": \"light\"}, \"paper_bgcolor\": \"white\", \"plot_bgcolor\": \"#E5ECF6\", \"polar\": {\"angularaxis\": {\"gridcolor\": \"white\", \"linecolor\": \"white\", \"ticks\": \"\"}, \"bgcolor\": \"#E5ECF6\", \"radialaxis\": {\"gridcolor\": \"white\", \"linecolor\": \"white\", \"ticks\": \"\"}}, \"scene\": {\"xaxis\": {\"backgroundcolor\": \"#E5ECF6\", \"gridcolor\": \"white\", \"gridwidth\": 2, \"linecolor\": \"white\", \"showbackground\": true, \"ticks\": \"\", \"zerolinecolor\": \"white\"}, \"yaxis\": {\"backgroundcolor\": \"#E5ECF6\", \"gridcolor\": \"white\", \"gridwidth\": 2, \"linecolor\": \"white\", \"showbackground\": true, \"ticks\": \"\", \"zerolinecolor\": \"white\"}, \"zaxis\": {\"backgroundcolor\": \"#E5ECF6\", \"gridcolor\": \"white\", \"gridwidth\": 2, \"linecolor\": \"white\", \"showbackground\": true, \"ticks\": \"\", \"zerolinecolor\": \"white\"}}, \"shapedefaults\": {\"line\": {\"color\": \"#2a3f5f\"}}, \"ternary\": {\"aaxis\": {\"gridcolor\": \"white\", \"linecolor\": \"white\", \"ticks\": \"\"}, \"baxis\": {\"gridcolor\": \"white\", \"linecolor\": \"white\", \"ticks\": \"\"}, \"bgcolor\": \"#E5ECF6\", \"caxis\": {\"gridcolor\": \"white\", \"linecolor\": \"white\", \"ticks\": \"\"}}, \"title\": {\"x\": 0.05}, \"xaxis\": {\"automargin\": true, \"gridcolor\": \"white\", \"linecolor\": \"white\", \"ticks\": \"\", \"title\": {\"standoff\": 15}, \"zerolinecolor\": \"white\", \"zerolinewidth\": 2}, \"yaxis\": {\"automargin\": true, \"gridcolor\": \"white\", \"linecolor\": \"white\", \"ticks\": \"\", \"title\": {\"standoff\": 15}, \"zerolinecolor\": \"white\", \"zerolinewidth\": 2}}}, \"title\": {\"font\": {\"size\": 20}, \"pad\": {\"t\": 3}, \"text\": \"Consumo de Cerveja por dia entre 2015-2016\"}, \"width\": 1000, \"xaxis\": {\"title\": {\"font\": {\"size\": 18}}}, \"yaxis\": {\"title\": {\"font\": {\"size\": 18}, \"text\": \"Consumo(L)\"}}},                        {\"responsive\": true}                    ).then(function(){\n",
       "                            \n",
       "var gd = document.getElementById('20442ba7-5f00-41f8-8728-aab12f8e38e4');\n",
       "var x = new MutationObserver(function (mutations, observer) {{\n",
       "        var display = window.getComputedStyle(gd).display;\n",
       "        if (!display || display === 'none') {{\n",
       "            console.log([gd, 'removed!']);\n",
       "            Plotly.purge(gd);\n",
       "            observer.disconnect();\n",
       "        }}\n",
       "}});\n",
       "\n",
       "// Listen for the removal of the full notebook cells\n",
       "var notebookContainer = gd.closest('#notebook-container');\n",
       "if (notebookContainer) {{\n",
       "    x.observe(notebookContainer, {childList: true});\n",
       "}}\n",
       "\n",
       "// Listen for the clearing of the current output cell\n",
       "var outputEl = gd.closest('.output');\n",
       "if (outputEl) {{\n",
       "    x.observe(outputEl, {childList: true});\n",
       "}}\n",
       "\n",
       "                        })                };                });            </script>        </div>"
      ]
     },
     "metadata": {},
     "output_type": "display_data"
    }
   ],
   "source": [
    "fig = go.Figure()\n",
    "fig.add_trace(go.Scatter(x = df['Data'], y = df['Consumo de cerveja (litros)'].rolling(7).mean(), \n",
    "                         mode = 'lines', name=\"Média móvel de 7 dias do consumo de cerveja\",line = dict(color = 'red', width=1.5)))\n",
    "fig.add_trace(go.Bar(x = df['Data'], y = df['Consumo de cerveja (litros)'], \n",
    "                         name=\"Consumo de cerveja(L)\",marker_color='seagreen'))\n",
    "fig.update_layout(title = 'Consumo de Cerveja por dia entre 2015-2016',title_font_size=20,title_pad_t=3,\n",
    "                yaxis_title='Consumo(L)',margin = dict(autoexpand=False),\n",
    "             showlegend=True, plot_bgcolor='white',\n",
    "legend=dict(\n",
    "    orientation=\"h\",\n",
    "    yanchor=\"bottom\",\n",
    "    y=1.02,\n",
    "    xanchor=\"right\",\n",
    "    x=1\n",
    "))\n",
    "fig.update_layout(\n",
    "    autosize=False,\n",
    "    width=1000,\n",
    "    height=600,bargap=0.3)\n",
    "fig.update_xaxes(title_font_size=18)\n",
    "fig.update_yaxes(title_font_size=18)\n",
    "fig"
   ]
  },
  {
   "cell_type": "markdown",
   "metadata": {},
   "source": [
    "<p style=\"text-align: justify\"> É possível verificar uma oscilação no consumo de cerveja a longo do ano, com um consumo médio de aproximadamente 25 litros por dia. O consumo mais alto ocorreu no verão (10-01-2015) e o menor no inverno(22-07-2015). Esses valores podem indicar que o consumo de cerveja pode variar em relação a temperatura e precipitação. Abaixo segue esses gráficos:</p>"
   ]
  },
  {
   "cell_type": "code",
   "execution_count": 15,
   "metadata": {},
   "outputs": [
    {
     "data": {
      "application/vnd.plotly.v1+json": {
       "config": {
        "plotlyServerURL": "https://plot.ly"
       },
       "data": [
        {
         "marker": {
          "color": "deepskyblue"
         },
         "type": "bar",
         "width": 0.15,
         "x": [
          27.3,
          27.02,
          24.82,
          23.98,
          23.82,
          23.78,
          24,
          24.9,
          28.2,
          26.76,
          27.62,
          25.96,
          25.52,
          25.96,
          25.86,
          26.5,
          28.86,
          28.26,
          28.22,
          27.68,
          25.32,
          21.74,
          21.04,
          23.12,
          24.4,
          22.4,
          23.6,
          25.68,
          25,
          22.8,
          21.64,
          24.16,
          22.48,
          23.16,
          22.12,
          20.28,
          21.06,
          21.86,
          22.76,
          24,
          23.92,
          25.38,
          27.66,
          25.54,
          24.32,
          22.9,
          21.6,
          22.76,
          22.22,
          23.92,
          24.72,
          25.2,
          24.44,
          25.4,
          24.3,
          22.24,
          24.1,
          24.64,
          22.4,
          21.26,
          22.16,
          23.16,
          23.68,
          24.42,
          22.6,
          21.92,
          22.2,
          21.36,
          23.12,
          22.88,
          22.26,
          22.34,
          22.88,
          22.08,
          21.92,
          21.92,
          21.24,
          21.78,
          21.64,
          20.88,
          19.7,
          19.88,
          20.98,
          21.56,
          22.98,
          23.32,
          23.28,
          22.14,
          22.5,
          23.14,
          22.52,
          20.92,
          21.02,
          22.36,
          22.82,
          21.36,
          17.38,
          18.68,
          19.4,
          20.46,
          21.74,
          19.92,
          20.88,
          21.7,
          21.94,
          21.26,
          21.42,
          23.36,
          22.5,
          24,
          22.52,
          20.06,
          21.2,
          22.52,
          19.18,
          19.04,
          19.82,
          20.26,
          18.66,
          16.22,
          17.34,
          19.26,
          21.04,
          19.96,
          18.14,
          17.76,
          17.8,
          16.14,
          18.04,
          16.94,
          17.86,
          17.12,
          16.34,
          16.72,
          16.84,
          17.18,
          18.26,
          18.6,
          18.64,
          18.74,
          19.46,
          20.26,
          19.94,
          21.8,
          22.06,
          21.28,
          22.94,
          18.56,
          17.68,
          17.52,
          16.28,
          16.28,
          16.04,
          17.94,
          18.36,
          18.32,
          19.66,
          20.62,
          20.86,
          20.32,
          20.54,
          22.72,
          18.8,
          21.1,
          22.76,
          16.02,
          14.82,
          19.8,
          19.88,
          14.66,
          15.82,
          17.32,
          18.54,
          19.02,
          14.54,
          14.72,
          15.26,
          15.34,
          15.48,
          17.2,
          19.36,
          17.78,
          17.2,
          17.52,
          14.94,
          12.9,
          15.78,
          16.8,
          17.02,
          17.54,
          19.24,
          17.46,
          20.32,
          22.06,
          23.3,
          20.18,
          19.88,
          19.14,
          20.2,
          19.98,
          20.56,
          16.72,
          14.52,
          17.02,
          18.46,
          15.9,
          16.82,
          16.6,
          16.46,
          16.2,
          16.76,
          19.24,
          19.78,
          20.1,
          21.16,
          21.04,
          20.96,
          21.06,
          22.08,
          21.16,
          19.62,
          21.2,
          19.6,
          20.12,
          20.42,
          20.86,
          21.44,
          20.56,
          21.58,
          21.3,
          20.74,
          16.2,
          16.84,
          18.08,
          20.22,
          16.98,
          16.98,
          18.92,
          16.1,
          16.28,
          18.46,
          22.52,
          24.54,
          21.44,
          16.1,
          19.3,
          16.66,
          16.12,
          16.48,
          18.72,
          17.08,
          18.82,
          18.92,
          16.88,
          14,
          14.18,
          16.46,
          21.18,
          25.24,
          27.26,
          28.06,
          28,
          23.6,
          24.72,
          25.7,
          26.14,
          28.3,
          23.24,
          20.58,
          22.3,
          21.22,
          21.8,
          21.52,
          20.96,
          24.74,
          20.28,
          18.6,
          17.36,
          18.26,
          24.5,
          26.56,
          24.52,
          23.06,
          22.48,
          22.76,
          21.4,
          23.62,
          28.12,
          26.24,
          21.22,
          16.76,
          19.86,
          26.3,
          24.62,
          19.9,
          20.5,
          17.94,
          17.64,
          20.86,
          22,
          20.42,
          20.56,
          23.86,
          23.18,
          20.22,
          21.82,
          21.86,
          21.52,
          21.8,
          19.76,
          18.3,
          20.24,
          22.98,
          23.72,
          26.2,
          23.78,
          22.78,
          25.06,
          23.06,
          21.16,
          21.76,
          25.5,
          26.16,
          23.28,
          19.44,
          22.26,
          20.8,
          21.36,
          21.26,
          22.28,
          22.28,
          23.7,
          22.38,
          19.1,
          20.1,
          22.1,
          22.44,
          22.76,
          24.8,
          23.12,
          20.04,
          21.7,
          23.96,
          24,
          24.04,
          23.92,
          24.54,
          26.28,
          25.66,
          22.04,
          23.32,
          26.42,
          23.74,
          22.84,
          23.12,
          24.6,
          27.46,
          24.72,
          23.58,
          23.34,
          24,
          22.64,
          21.68,
          21.38,
          24.76
         ],
         "y": [
          25.461,
          28.971999999999998,
          30.814,
          29.799,
          28.9,
          28.218000000000004,
          29.732,
          28.397,
          24.886,
          37.937,
          36.254,
          25.743000000000002,
          26.99,
          31.825,
          25.724,
          29.938000000000002,
          37.69,
          30.524,
          29.265,
          35.126999999999995,
          29.13,
          25.795,
          21.784000000000002,
          28.348000000000003,
          31.088,
          21.52,
          29.971999999999998,
          22.603,
          22.695999999999998,
          26.845,
          27.03,
          32.056999999999995,
          24.096999999999998,
          31.655,
          24.738000000000003,
          19.95,
          22.820999999999998,
          28.893,
          29.926,
          24.061999999999998,
          21.136999999999997,
          26.805,
          26.389,
          24.219,
          30.230999999999998,
          24.968000000000004,
          25.343000000000004,
          17.399,
          21.392,
          22.921999999999997,
          24.566999999999997,
          30.943,
          30.825,
          25.691999999999997,
          26.959,
          25.366,
          22.784000000000002,
          26.241,
          26.467,
          27.475,
          28.749000000000002,
          24.146,
          22.988000000000003,
          30.3,
          22.654,
          29.09,
          24.619,
          20.016,
          23.041999999999998,
          22.933000000000003,
          22.409000000000002,
          21.281,
          28.844,
          32.872,
          20.903000000000002,
          26.275,
          20.167,
          23.628,
          24.213,
          28.631,
          25.855,
          21.406,
          21.616999999999997,
          22.401,
          27.989,
          24.974,
          29.76,
          26.116,
          25.85,
          24.925,
          21.979,
          22.116,
          24.866999999999997,
          33.45,
          32.713,
          22.355999999999998,
          21.004,
          23.362,
          20.298,
          24.862,
          30.505,
          25.07,
          22.62,
          22.000999999999998,
          23.469,
          21.735,
          21.593000000000004,
          33.821999999999996,
          28.028000000000002,
          24.304000000000002,
          31.108,
          19.113,
          23.198,
          24.388,
          27.42,
          30.479,
          21.838,
          20.811999999999998,
          19.761,
          20.452,
          17.939,
          25.272,
          28.049,
          25.316999999999997,
          21.826,
          20.68,
          19.143,
          18.146,
          25.489,
          23.537,
          16.956,
          19.052,
          17.287,
          20.3,
          20.538,
          23.701999999999998,
          28.410999999999998,
          21.073,
          24.215,
          19.525,
          20.785999999999998,
          20.429000000000002,
          27.25,
          31.386999999999997,
          26.075,
          22.162,
          24.258000000000003,
          24.683000000000003,
          21.245,
          25.936999999999998,
          26.081,
          16.227999999999998,
          20.105999999999998,
          21.055,
          22.772,
          25.142,
          31.129,
          30.498,
          26.15,
          21.326999999999998,
          22.008000000000003,
          24.615,
          22.375,
          29.607,
          32.983000000000004,
          19.119,
          21.029,
          23.898000000000003,
          24.534000000000002,
          16.748,
          23.055,
          28.857,
          23.022,
          27.146,
          17.241,
          19.463,
          21.86,
          24.226999999999997,
          27.594,
          24.863000000000003,
          20.160999999999998,
          20.824,
          19.727,
          14.94,
          24.631999999999998,
          21.294,
          18.448,
          21.237,
          19.849,
          20.74,
          25.698,
          26.691,
          33.298,
          25.64,
          23.936999999999998,
          28.741999999999997,
          21.748,
          22.031999999999996,
          24.826999999999998,
          32.473,
          20.62,
          21.825,
          14.343,
          19.029,
          21.104,
          20.738000000000003,
          25.233,
          18.975,
          19.64,
          22.522,
          24.226999999999997,
          24.726,
          32.467,
          31.663,
          25.866999999999997,
          27.724,
          22.039,
          26.127,
          26.58,
          31.31,
          33.516999999999996,
          23.180999999999997,
          24.183000000000003,
          24.594,
          22.61,
          25.479,
          29.621,
          26.272,
          22.541,
          23.07,
          26.021,
          17.655,
          23.243000000000002,
          30.177,
          27.518,
          23.21,
          21.092,
          23.357,
          17.887999999999998,
          22.217,
          31.680999999999997,
          31.833000000000002,
          28.441,
          22.389,
          20.680999999999997,
          24.221999999999998,
          19.345,
          21.826999999999998,
          23.566,
          20.227,
          17.075,
          16.977,
          21.525,
          21.454,
          21.814,
          21.252,
          20.464000000000002,
          30.775,
          25.343000000000004,
          33.93,
          26.311,
          31.836,
          34.695,
          29.829,
          26.362,
          32.589,
          30.345,
          29.410999999999998,
          29.636999999999997,
          32.184,
          17.730999999999998,
          24.114,
          28.034000000000002,
          22.664,
          27.488000000000003,
          24.875999999999998,
          24.862,
          24.679000000000002,
          22.304000000000002,
          30.329,
          33.181999999999995,
          23.849,
          33.33,
          34.496,
          26.249000000000002,
          26.523000000000003,
          26.793000000000003,
          35.861,
          27.386999999999997,
          32.666,
          22.199,
          24,
          27.871,
          31.139,
          23.065,
          26.594,
          27.656999999999996,
          26.594,
          28.084,
          27.581999999999997,
          24.862,
          22.634,
          31.649,
          35.781,
          24.429000000000002,
          20.648000000000003,
          22.741,
          21.479,
          23.134,
          20.575,
          24.33,
          28.61,
          28.456,
          27.964000000000002,
          29.569000000000003,
          29.267,
          28.647,
          26.836,
          29.386,
          24.609,
          26.964000000000002,
          23.614,
          22.96,
          20.332,
          30.392,
          31.933000000000003,
          21.662,
          21.689,
          25.119,
          25.285,
          28.979,
          34.382,
          30.616999999999997,
          20.238,
          24.529,
          30.471,
          28.405,
          29.513,
          32.451,
          32.78,
          23.375,
          27.713,
          27.136999999999997,
          22.933000000000003,
          30.74,
          29.579,
          29.188000000000002,
          28.131,
          28.616999999999997,
          21.061999999999998,
          24.337,
          27.041999999999998,
          32.536,
          30.127,
          24.834,
          26.828000000000003,
          26.468000000000004,
          31.572,
          26.308000000000003,
          21.955,
          32.306999999999995,
          26.095,
          22.309,
          20.467,
          22.445999999999998
         ]
        }
       ],
       "layout": {
        "autosize": false,
        "bargap": 0.7,
        "barmode": "group",
        "height": 600,
        "legend": {
         "orientation": "h",
         "x": 1,
         "xanchor": "right",
         "y": 1.02,
         "yanchor": "bottom"
        },
        "margin": {
         "autoexpand": false
        },
        "paper_bgcolor": "white",
        "plot_bgcolor": "white",
        "showlegend": false,
        "template": {
         "data": {
          "bar": [
           {
            "error_x": {
             "color": "#2a3f5f"
            },
            "error_y": {
             "color": "#2a3f5f"
            },
            "marker": {
             "line": {
              "color": "#E5ECF6",
              "width": 0.5
             }
            },
            "type": "bar"
           }
          ],
          "barpolar": [
           {
            "marker": {
             "line": {
              "color": "#E5ECF6",
              "width": 0.5
             }
            },
            "type": "barpolar"
           }
          ],
          "carpet": [
           {
            "aaxis": {
             "endlinecolor": "#2a3f5f",
             "gridcolor": "white",
             "linecolor": "white",
             "minorgridcolor": "white",
             "startlinecolor": "#2a3f5f"
            },
            "baxis": {
             "endlinecolor": "#2a3f5f",
             "gridcolor": "white",
             "linecolor": "white",
             "minorgridcolor": "white",
             "startlinecolor": "#2a3f5f"
            },
            "type": "carpet"
           }
          ],
          "choropleth": [
           {
            "colorbar": {
             "outlinewidth": 0,
             "ticks": ""
            },
            "type": "choropleth"
           }
          ],
          "contour": [
           {
            "colorbar": {
             "outlinewidth": 0,
             "ticks": ""
            },
            "colorscale": [
             [
              0,
              "#0d0887"
             ],
             [
              0.1111111111111111,
              "#46039f"
             ],
             [
              0.2222222222222222,
              "#7201a8"
             ],
             [
              0.3333333333333333,
              "#9c179e"
             ],
             [
              0.4444444444444444,
              "#bd3786"
             ],
             [
              0.5555555555555556,
              "#d8576b"
             ],
             [
              0.6666666666666666,
              "#ed7953"
             ],
             [
              0.7777777777777778,
              "#fb9f3a"
             ],
             [
              0.8888888888888888,
              "#fdca26"
             ],
             [
              1,
              "#f0f921"
             ]
            ],
            "type": "contour"
           }
          ],
          "contourcarpet": [
           {
            "colorbar": {
             "outlinewidth": 0,
             "ticks": ""
            },
            "type": "contourcarpet"
           }
          ],
          "heatmap": [
           {
            "colorbar": {
             "outlinewidth": 0,
             "ticks": ""
            },
            "colorscale": [
             [
              0,
              "#0d0887"
             ],
             [
              0.1111111111111111,
              "#46039f"
             ],
             [
              0.2222222222222222,
              "#7201a8"
             ],
             [
              0.3333333333333333,
              "#9c179e"
             ],
             [
              0.4444444444444444,
              "#bd3786"
             ],
             [
              0.5555555555555556,
              "#d8576b"
             ],
             [
              0.6666666666666666,
              "#ed7953"
             ],
             [
              0.7777777777777778,
              "#fb9f3a"
             ],
             [
              0.8888888888888888,
              "#fdca26"
             ],
             [
              1,
              "#f0f921"
             ]
            ],
            "type": "heatmap"
           }
          ],
          "heatmapgl": [
           {
            "colorbar": {
             "outlinewidth": 0,
             "ticks": ""
            },
            "colorscale": [
             [
              0,
              "#0d0887"
             ],
             [
              0.1111111111111111,
              "#46039f"
             ],
             [
              0.2222222222222222,
              "#7201a8"
             ],
             [
              0.3333333333333333,
              "#9c179e"
             ],
             [
              0.4444444444444444,
              "#bd3786"
             ],
             [
              0.5555555555555556,
              "#d8576b"
             ],
             [
              0.6666666666666666,
              "#ed7953"
             ],
             [
              0.7777777777777778,
              "#fb9f3a"
             ],
             [
              0.8888888888888888,
              "#fdca26"
             ],
             [
              1,
              "#f0f921"
             ]
            ],
            "type": "heatmapgl"
           }
          ],
          "histogram": [
           {
            "marker": {
             "colorbar": {
              "outlinewidth": 0,
              "ticks": ""
             }
            },
            "type": "histogram"
           }
          ],
          "histogram2d": [
           {
            "colorbar": {
             "outlinewidth": 0,
             "ticks": ""
            },
            "colorscale": [
             [
              0,
              "#0d0887"
             ],
             [
              0.1111111111111111,
              "#46039f"
             ],
             [
              0.2222222222222222,
              "#7201a8"
             ],
             [
              0.3333333333333333,
              "#9c179e"
             ],
             [
              0.4444444444444444,
              "#bd3786"
             ],
             [
              0.5555555555555556,
              "#d8576b"
             ],
             [
              0.6666666666666666,
              "#ed7953"
             ],
             [
              0.7777777777777778,
              "#fb9f3a"
             ],
             [
              0.8888888888888888,
              "#fdca26"
             ],
             [
              1,
              "#f0f921"
             ]
            ],
            "type": "histogram2d"
           }
          ],
          "histogram2dcontour": [
           {
            "colorbar": {
             "outlinewidth": 0,
             "ticks": ""
            },
            "colorscale": [
             [
              0,
              "#0d0887"
             ],
             [
              0.1111111111111111,
              "#46039f"
             ],
             [
              0.2222222222222222,
              "#7201a8"
             ],
             [
              0.3333333333333333,
              "#9c179e"
             ],
             [
              0.4444444444444444,
              "#bd3786"
             ],
             [
              0.5555555555555556,
              "#d8576b"
             ],
             [
              0.6666666666666666,
              "#ed7953"
             ],
             [
              0.7777777777777778,
              "#fb9f3a"
             ],
             [
              0.8888888888888888,
              "#fdca26"
             ],
             [
              1,
              "#f0f921"
             ]
            ],
            "type": "histogram2dcontour"
           }
          ],
          "mesh3d": [
           {
            "colorbar": {
             "outlinewidth": 0,
             "ticks": ""
            },
            "type": "mesh3d"
           }
          ],
          "parcoords": [
           {
            "line": {
             "colorbar": {
              "outlinewidth": 0,
              "ticks": ""
             }
            },
            "type": "parcoords"
           }
          ],
          "pie": [
           {
            "automargin": true,
            "type": "pie"
           }
          ],
          "scatter": [
           {
            "marker": {
             "colorbar": {
              "outlinewidth": 0,
              "ticks": ""
             }
            },
            "type": "scatter"
           }
          ],
          "scatter3d": [
           {
            "line": {
             "colorbar": {
              "outlinewidth": 0,
              "ticks": ""
             }
            },
            "marker": {
             "colorbar": {
              "outlinewidth": 0,
              "ticks": ""
             }
            },
            "type": "scatter3d"
           }
          ],
          "scattercarpet": [
           {
            "marker": {
             "colorbar": {
              "outlinewidth": 0,
              "ticks": ""
             }
            },
            "type": "scattercarpet"
           }
          ],
          "scattergeo": [
           {
            "marker": {
             "colorbar": {
              "outlinewidth": 0,
              "ticks": ""
             }
            },
            "type": "scattergeo"
           }
          ],
          "scattergl": [
           {
            "marker": {
             "colorbar": {
              "outlinewidth": 0,
              "ticks": ""
             }
            },
            "type": "scattergl"
           }
          ],
          "scattermapbox": [
           {
            "marker": {
             "colorbar": {
              "outlinewidth": 0,
              "ticks": ""
             }
            },
            "type": "scattermapbox"
           }
          ],
          "scatterpolar": [
           {
            "marker": {
             "colorbar": {
              "outlinewidth": 0,
              "ticks": ""
             }
            },
            "type": "scatterpolar"
           }
          ],
          "scatterpolargl": [
           {
            "marker": {
             "colorbar": {
              "outlinewidth": 0,
              "ticks": ""
             }
            },
            "type": "scatterpolargl"
           }
          ],
          "scatterternary": [
           {
            "marker": {
             "colorbar": {
              "outlinewidth": 0,
              "ticks": ""
             }
            },
            "type": "scatterternary"
           }
          ],
          "surface": [
           {
            "colorbar": {
             "outlinewidth": 0,
             "ticks": ""
            },
            "colorscale": [
             [
              0,
              "#0d0887"
             ],
             [
              0.1111111111111111,
              "#46039f"
             ],
             [
              0.2222222222222222,
              "#7201a8"
             ],
             [
              0.3333333333333333,
              "#9c179e"
             ],
             [
              0.4444444444444444,
              "#bd3786"
             ],
             [
              0.5555555555555556,
              "#d8576b"
             ],
             [
              0.6666666666666666,
              "#ed7953"
             ],
             [
              0.7777777777777778,
              "#fb9f3a"
             ],
             [
              0.8888888888888888,
              "#fdca26"
             ],
             [
              1,
              "#f0f921"
             ]
            ],
            "type": "surface"
           }
          ],
          "table": [
           {
            "cells": {
             "fill": {
              "color": "#EBF0F8"
             },
             "line": {
              "color": "white"
             }
            },
            "header": {
             "fill": {
              "color": "#C8D4E3"
             },
             "line": {
              "color": "white"
             }
            },
            "type": "table"
           }
          ]
         },
         "layout": {
          "annotationdefaults": {
           "arrowcolor": "#2a3f5f",
           "arrowhead": 0,
           "arrowwidth": 1
          },
          "autotypenumbers": "strict",
          "coloraxis": {
           "colorbar": {
            "outlinewidth": 0,
            "ticks": ""
           }
          },
          "colorscale": {
           "diverging": [
            [
             0,
             "#8e0152"
            ],
            [
             0.1,
             "#c51b7d"
            ],
            [
             0.2,
             "#de77ae"
            ],
            [
             0.3,
             "#f1b6da"
            ],
            [
             0.4,
             "#fde0ef"
            ],
            [
             0.5,
             "#f7f7f7"
            ],
            [
             0.6,
             "#e6f5d0"
            ],
            [
             0.7,
             "#b8e186"
            ],
            [
             0.8,
             "#7fbc41"
            ],
            [
             0.9,
             "#4d9221"
            ],
            [
             1,
             "#276419"
            ]
           ],
           "sequential": [
            [
             0,
             "#0d0887"
            ],
            [
             0.1111111111111111,
             "#46039f"
            ],
            [
             0.2222222222222222,
             "#7201a8"
            ],
            [
             0.3333333333333333,
             "#9c179e"
            ],
            [
             0.4444444444444444,
             "#bd3786"
            ],
            [
             0.5555555555555556,
             "#d8576b"
            ],
            [
             0.6666666666666666,
             "#ed7953"
            ],
            [
             0.7777777777777778,
             "#fb9f3a"
            ],
            [
             0.8888888888888888,
             "#fdca26"
            ],
            [
             1,
             "#f0f921"
            ]
           ],
           "sequentialminus": [
            [
             0,
             "#0d0887"
            ],
            [
             0.1111111111111111,
             "#46039f"
            ],
            [
             0.2222222222222222,
             "#7201a8"
            ],
            [
             0.3333333333333333,
             "#9c179e"
            ],
            [
             0.4444444444444444,
             "#bd3786"
            ],
            [
             0.5555555555555556,
             "#d8576b"
            ],
            [
             0.6666666666666666,
             "#ed7953"
            ],
            [
             0.7777777777777778,
             "#fb9f3a"
            ],
            [
             0.8888888888888888,
             "#fdca26"
            ],
            [
             1,
             "#f0f921"
            ]
           ]
          },
          "colorway": [
           "#636efa",
           "#EF553B",
           "#00cc96",
           "#ab63fa",
           "#FFA15A",
           "#19d3f3",
           "#FF6692",
           "#B6E880",
           "#FF97FF",
           "#FECB52"
          ],
          "font": {
           "color": "#2a3f5f"
          },
          "geo": {
           "bgcolor": "white",
           "lakecolor": "white",
           "landcolor": "#E5ECF6",
           "showlakes": true,
           "showland": true,
           "subunitcolor": "white"
          },
          "hoverlabel": {
           "align": "left"
          },
          "hovermode": "closest",
          "mapbox": {
           "style": "light"
          },
          "paper_bgcolor": "white",
          "plot_bgcolor": "#E5ECF6",
          "polar": {
           "angularaxis": {
            "gridcolor": "white",
            "linecolor": "white",
            "ticks": ""
           },
           "bgcolor": "#E5ECF6",
           "radialaxis": {
            "gridcolor": "white",
            "linecolor": "white",
            "ticks": ""
           }
          },
          "scene": {
           "xaxis": {
            "backgroundcolor": "#E5ECF6",
            "gridcolor": "white",
            "gridwidth": 2,
            "linecolor": "white",
            "showbackground": true,
            "ticks": "",
            "zerolinecolor": "white"
           },
           "yaxis": {
            "backgroundcolor": "#E5ECF6",
            "gridcolor": "white",
            "gridwidth": 2,
            "linecolor": "white",
            "showbackground": true,
            "ticks": "",
            "zerolinecolor": "white"
           },
           "zaxis": {
            "backgroundcolor": "#E5ECF6",
            "gridcolor": "white",
            "gridwidth": 2,
            "linecolor": "white",
            "showbackground": true,
            "ticks": "",
            "zerolinecolor": "white"
           }
          },
          "shapedefaults": {
           "line": {
            "color": "#2a3f5f"
           }
          },
          "ternary": {
           "aaxis": {
            "gridcolor": "white",
            "linecolor": "white",
            "ticks": ""
           },
           "baxis": {
            "gridcolor": "white",
            "linecolor": "white",
            "ticks": ""
           },
           "bgcolor": "#E5ECF6",
           "caxis": {
            "gridcolor": "white",
            "linecolor": "white",
            "ticks": ""
           }
          },
          "title": {
           "x": 0.05
          },
          "xaxis": {
           "automargin": true,
           "gridcolor": "white",
           "linecolor": "white",
           "ticks": "",
           "title": {
            "standoff": 15
           },
           "zerolinecolor": "white",
           "zerolinewidth": 2
          },
          "yaxis": {
           "automargin": true,
           "gridcolor": "white",
           "linecolor": "white",
           "ticks": "",
           "title": {
            "standoff": 15
           },
           "zerolinecolor": "white",
           "zerolinewidth": 2
          }
         }
        },
        "title": {
         "font": {
          "size": 20
         },
         "pad": {
          "t": 3
         },
         "text": "Consumo de cerveja com relação a temperatura média"
        },
        "width": 1000,
        "xaxis": {
         "title": {
          "font": {
           "size": 18
          },
          "text": "Temperatura média(C)"
         }
        },
        "yaxis": {
         "title": {
          "font": {
           "size": 18
          },
          "text": "Consumo(L)"
         }
        }
       }
      },
      "text/html": [
       "<div>                            <div id=\"786877a1-c489-4d48-a7bf-9a8ae7ef5a08\" class=\"plotly-graph-div\" style=\"height:600px; width:1000px;\"></div>            <script type=\"text/javascript\">                require([\"plotly\"], function(Plotly) {                    window.PLOTLYENV=window.PLOTLYENV || {};                                    if (document.getElementById(\"786877a1-c489-4d48-a7bf-9a8ae7ef5a08\")) {                    Plotly.newPlot(                        \"786877a1-c489-4d48-a7bf-9a8ae7ef5a08\",                        [{\"marker\": {\"color\": \"deepskyblue\"}, \"type\": \"bar\", \"width\": 0.15, \"x\": [27.3, 27.02, 24.82, 23.98, 23.82, 23.78, 24.0, 24.9, 28.2, 26.76, 27.62, 25.96, 25.52, 25.96, 25.86, 26.5, 28.86, 28.26, 28.22, 27.68, 25.32, 21.74, 21.04, 23.12, 24.4, 22.4, 23.6, 25.68, 25.0, 22.8, 21.64, 24.16, 22.48, 23.16, 22.12, 20.28, 21.06, 21.86, 22.76, 24.0, 23.92, 25.38, 27.66, 25.54, 24.32, 22.9, 21.6, 22.76, 22.22, 23.92, 24.72, 25.2, 24.44, 25.4, 24.3, 22.24, 24.1, 24.64, 22.4, 21.26, 22.16, 23.16, 23.68, 24.42, 22.6, 21.92, 22.2, 21.36, 23.12, 22.88, 22.26, 22.34, 22.88, 22.08, 21.92, 21.92, 21.24, 21.78, 21.64, 20.88, 19.7, 19.88, 20.98, 21.56, 22.98, 23.32, 23.28, 22.14, 22.5, 23.14, 22.52, 20.92, 21.02, 22.36, 22.82, 21.36, 17.38, 18.68, 19.4, 20.46, 21.74, 19.92, 20.88, 21.7, 21.94, 21.26, 21.42, 23.36, 22.5, 24.0, 22.52, 20.06, 21.2, 22.52, 19.18, 19.04, 19.82, 20.26, 18.66, 16.22, 17.34, 19.26, 21.04, 19.96, 18.14, 17.76, 17.8, 16.14, 18.04, 16.94, 17.86, 17.12, 16.34, 16.72, 16.84, 17.18, 18.26, 18.6, 18.64, 18.74, 19.46, 20.26, 19.94, 21.8, 22.06, 21.28, 22.94, 18.56, 17.68, 17.52, 16.28, 16.28, 16.04, 17.94, 18.36, 18.32, 19.66, 20.62, 20.86, 20.32, 20.54, 22.72, 18.8, 21.1, 22.76, 16.02, 14.82, 19.8, 19.88, 14.66, 15.82, 17.32, 18.54, 19.02, 14.54, 14.72, 15.26, 15.34, 15.48, 17.2, 19.36, 17.78, 17.2, 17.52, 14.94, 12.9, 15.78, 16.8, 17.02, 17.54, 19.24, 17.46, 20.32, 22.06, 23.3, 20.18, 19.88, 19.14, 20.2, 19.98, 20.56, 16.72, 14.52, 17.02, 18.46, 15.9, 16.82, 16.6, 16.46, 16.2, 16.76, 19.24, 19.78, 20.1, 21.16, 21.04, 20.96, 21.06, 22.08, 21.16, 19.62, 21.2, 19.6, 20.12, 20.42, 20.86, 21.44, 20.56, 21.58, 21.3, 20.74, 16.2, 16.84, 18.08, 20.22, 16.98, 16.98, 18.92, 16.1, 16.28, 18.46, 22.52, 24.54, 21.44, 16.1, 19.3, 16.66, 16.12, 16.48, 18.72, 17.08, 18.82, 18.92, 16.88, 14.0, 14.18, 16.46, 21.18, 25.24, 27.26, 28.06, 28.0, 23.6, 24.72, 25.7, 26.14, 28.3, 23.24, 20.58, 22.3, 21.22, 21.8, 21.52, 20.96, 24.74, 20.28, 18.6, 17.36, 18.26, 24.5, 26.56, 24.52, 23.06, 22.48, 22.76, 21.4, 23.62, 28.12, 26.24, 21.22, 16.76, 19.86, 26.3, 24.62, 19.9, 20.5, 17.94, 17.64, 20.86, 22.0, 20.42, 20.56, 23.86, 23.18, 20.22, 21.82, 21.86, 21.52, 21.8, 19.76, 18.3, 20.24, 22.98, 23.72, 26.2, 23.78, 22.78, 25.06, 23.06, 21.16, 21.76, 25.5, 26.16, 23.28, 19.44, 22.26, 20.8, 21.36, 21.26, 22.28, 22.28, 23.7, 22.38, 19.1, 20.1, 22.1, 22.44, 22.76, 24.8, 23.12, 20.04, 21.7, 23.96, 24.0, 24.04, 23.92, 24.54, 26.28, 25.66, 22.04, 23.32, 26.42, 23.74, 22.84, 23.12, 24.6, 27.46, 24.72, 23.58, 23.34, 24.0, 22.64, 21.68, 21.38, 24.76], \"y\": [25.461, 28.971999999999998, 30.814, 29.799, 28.9, 28.218000000000004, 29.732, 28.397, 24.886, 37.937, 36.254, 25.743000000000002, 26.99, 31.825, 25.724, 29.938000000000002, 37.69, 30.524, 29.265, 35.126999999999995, 29.13, 25.795, 21.784000000000002, 28.348000000000003, 31.088, 21.52, 29.971999999999998, 22.603, 22.695999999999998, 26.845, 27.03, 32.056999999999995, 24.096999999999998, 31.655, 24.738000000000003, 19.95, 22.820999999999998, 28.893, 29.926, 24.061999999999998, 21.136999999999997, 26.805, 26.389, 24.219, 30.230999999999998, 24.968000000000004, 25.343000000000004, 17.399, 21.392, 22.921999999999997, 24.566999999999997, 30.943, 30.825, 25.691999999999997, 26.959, 25.366, 22.784000000000002, 26.241, 26.467, 27.475, 28.749000000000002, 24.146, 22.988000000000003, 30.3, 22.654, 29.09, 24.619, 20.016, 23.041999999999998, 22.933000000000003, 22.409000000000002, 21.281, 28.844, 32.872, 20.903000000000002, 26.275, 20.167, 23.628, 24.213, 28.631, 25.855, 21.406, 21.616999999999997, 22.401, 27.989, 24.974, 29.76, 26.116, 25.85, 24.925, 21.979, 22.116, 24.866999999999997, 33.45, 32.713, 22.355999999999998, 21.004, 23.362, 20.298, 24.862, 30.505, 25.07, 22.62, 22.000999999999998, 23.469, 21.735, 21.593000000000004, 33.821999999999996, 28.028000000000002, 24.304000000000002, 31.108, 19.113, 23.198, 24.388, 27.42, 30.479, 21.838, 20.811999999999998, 19.761, 20.452, 17.939, 25.272, 28.049, 25.316999999999997, 21.826, 20.68, 19.143, 18.146, 25.489, 23.537, 16.956, 19.052, 17.287, 20.3, 20.538, 23.701999999999998, 28.410999999999998, 21.073, 24.215, 19.525, 20.785999999999998, 20.429000000000002, 27.25, 31.386999999999997, 26.075, 22.162, 24.258000000000003, 24.683000000000003, 21.245, 25.936999999999998, 26.081, 16.227999999999998, 20.105999999999998, 21.055, 22.772, 25.142, 31.129, 30.498, 26.15, 21.326999999999998, 22.008000000000003, 24.615, 22.375, 29.607, 32.983000000000004, 19.119, 21.029, 23.898000000000003, 24.534000000000002, 16.748, 23.055, 28.857, 23.022, 27.146, 17.241, 19.463, 21.86, 24.226999999999997, 27.594, 24.863000000000003, 20.160999999999998, 20.824, 19.727, 14.94, 24.631999999999998, 21.294, 18.448, 21.237, 19.849, 20.74, 25.698, 26.691, 33.298, 25.64, 23.936999999999998, 28.741999999999997, 21.748, 22.031999999999996, 24.826999999999998, 32.473, 20.62, 21.825, 14.343, 19.029, 21.104, 20.738000000000003, 25.233, 18.975, 19.64, 22.522, 24.226999999999997, 24.726, 32.467, 31.663, 25.866999999999997, 27.724, 22.039, 26.127, 26.58, 31.31, 33.516999999999996, 23.180999999999997, 24.183000000000003, 24.594, 22.61, 25.479, 29.621, 26.272, 22.541, 23.07, 26.021, 17.655, 23.243000000000002, 30.177, 27.518, 23.21, 21.092, 23.357, 17.887999999999998, 22.217, 31.680999999999997, 31.833000000000002, 28.441, 22.389, 20.680999999999997, 24.221999999999998, 19.345, 21.826999999999998, 23.566, 20.227, 17.075, 16.977, 21.525, 21.454, 21.814, 21.252, 20.464000000000002, 30.775, 25.343000000000004, 33.93, 26.311, 31.836, 34.695, 29.829, 26.362, 32.589, 30.345, 29.410999999999998, 29.636999999999997, 32.184, 17.730999999999998, 24.114, 28.034000000000002, 22.664, 27.488000000000003, 24.875999999999998, 24.862, 24.679000000000002, 22.304000000000002, 30.329, 33.181999999999995, 23.849, 33.33, 34.496, 26.249000000000002, 26.523000000000003, 26.793000000000003, 35.861, 27.386999999999997, 32.666, 22.199, 24.0, 27.871, 31.139, 23.065, 26.594, 27.656999999999996, 26.594, 28.084, 27.581999999999997, 24.862, 22.634, 31.649, 35.781, 24.429000000000002, 20.648000000000003, 22.741, 21.479, 23.134, 20.575, 24.33, 28.61, 28.456, 27.964000000000002, 29.569000000000003, 29.267, 28.647, 26.836, 29.386, 24.609, 26.964000000000002, 23.614, 22.96, 20.332, 30.392, 31.933000000000003, 21.662, 21.689, 25.119, 25.285, 28.979, 34.382, 30.616999999999997, 20.238, 24.529, 30.471, 28.405, 29.513, 32.451, 32.78, 23.375, 27.713, 27.136999999999997, 22.933000000000003, 30.74, 29.579, 29.188000000000002, 28.131, 28.616999999999997, 21.061999999999998, 24.337, 27.041999999999998, 32.536, 30.127, 24.834, 26.828000000000003, 26.468000000000004, 31.572, 26.308000000000003, 21.955, 32.306999999999995, 26.095, 22.309, 20.467, 22.445999999999998]}],                        {\"autosize\": false, \"bargap\": 0.7, \"barmode\": \"group\", \"height\": 600, \"legend\": {\"orientation\": \"h\", \"x\": 1, \"xanchor\": \"right\", \"y\": 1.02, \"yanchor\": \"bottom\"}, \"margin\": {\"autoexpand\": false}, \"paper_bgcolor\": \"white\", \"plot_bgcolor\": \"white\", \"showlegend\": false, \"template\": {\"data\": {\"bar\": [{\"error_x\": {\"color\": \"#2a3f5f\"}, \"error_y\": {\"color\": \"#2a3f5f\"}, \"marker\": {\"line\": {\"color\": \"#E5ECF6\", \"width\": 0.5}}, \"type\": \"bar\"}], \"barpolar\": [{\"marker\": {\"line\": {\"color\": \"#E5ECF6\", \"width\": 0.5}}, \"type\": \"barpolar\"}], \"carpet\": [{\"aaxis\": {\"endlinecolor\": \"#2a3f5f\", \"gridcolor\": \"white\", \"linecolor\": \"white\", \"minorgridcolor\": \"white\", \"startlinecolor\": \"#2a3f5f\"}, \"baxis\": {\"endlinecolor\": \"#2a3f5f\", \"gridcolor\": \"white\", \"linecolor\": \"white\", \"minorgridcolor\": \"white\", \"startlinecolor\": \"#2a3f5f\"}, \"type\": \"carpet\"}], \"choropleth\": [{\"colorbar\": {\"outlinewidth\": 0, \"ticks\": \"\"}, \"type\": \"choropleth\"}], \"contour\": [{\"colorbar\": {\"outlinewidth\": 0, \"ticks\": \"\"}, \"colorscale\": [[0.0, \"#0d0887\"], [0.1111111111111111, \"#46039f\"], [0.2222222222222222, \"#7201a8\"], [0.3333333333333333, \"#9c179e\"], [0.4444444444444444, \"#bd3786\"], [0.5555555555555556, \"#d8576b\"], [0.6666666666666666, \"#ed7953\"], [0.7777777777777778, \"#fb9f3a\"], [0.8888888888888888, \"#fdca26\"], [1.0, \"#f0f921\"]], \"type\": \"contour\"}], \"contourcarpet\": [{\"colorbar\": {\"outlinewidth\": 0, \"ticks\": \"\"}, \"type\": \"contourcarpet\"}], \"heatmap\": [{\"colorbar\": {\"outlinewidth\": 0, \"ticks\": \"\"}, \"colorscale\": [[0.0, \"#0d0887\"], [0.1111111111111111, \"#46039f\"], [0.2222222222222222, \"#7201a8\"], [0.3333333333333333, \"#9c179e\"], [0.4444444444444444, \"#bd3786\"], [0.5555555555555556, \"#d8576b\"], [0.6666666666666666, \"#ed7953\"], [0.7777777777777778, \"#fb9f3a\"], [0.8888888888888888, \"#fdca26\"], [1.0, \"#f0f921\"]], \"type\": \"heatmap\"}], \"heatmapgl\": [{\"colorbar\": {\"outlinewidth\": 0, \"ticks\": \"\"}, \"colorscale\": [[0.0, \"#0d0887\"], [0.1111111111111111, \"#46039f\"], [0.2222222222222222, \"#7201a8\"], [0.3333333333333333, \"#9c179e\"], [0.4444444444444444, \"#bd3786\"], [0.5555555555555556, \"#d8576b\"], [0.6666666666666666, \"#ed7953\"], [0.7777777777777778, \"#fb9f3a\"], [0.8888888888888888, \"#fdca26\"], [1.0, \"#f0f921\"]], \"type\": \"heatmapgl\"}], \"histogram\": [{\"marker\": {\"colorbar\": {\"outlinewidth\": 0, \"ticks\": \"\"}}, \"type\": \"histogram\"}], \"histogram2d\": [{\"colorbar\": {\"outlinewidth\": 0, \"ticks\": \"\"}, \"colorscale\": [[0.0, \"#0d0887\"], [0.1111111111111111, \"#46039f\"], [0.2222222222222222, \"#7201a8\"], [0.3333333333333333, \"#9c179e\"], [0.4444444444444444, \"#bd3786\"], [0.5555555555555556, \"#d8576b\"], [0.6666666666666666, \"#ed7953\"], [0.7777777777777778, \"#fb9f3a\"], [0.8888888888888888, \"#fdca26\"], [1.0, \"#f0f921\"]], \"type\": \"histogram2d\"}], \"histogram2dcontour\": [{\"colorbar\": {\"outlinewidth\": 0, \"ticks\": \"\"}, \"colorscale\": [[0.0, \"#0d0887\"], [0.1111111111111111, \"#46039f\"], [0.2222222222222222, \"#7201a8\"], [0.3333333333333333, \"#9c179e\"], [0.4444444444444444, \"#bd3786\"], [0.5555555555555556, \"#d8576b\"], [0.6666666666666666, \"#ed7953\"], [0.7777777777777778, \"#fb9f3a\"], [0.8888888888888888, \"#fdca26\"], [1.0, \"#f0f921\"]], \"type\": \"histogram2dcontour\"}], \"mesh3d\": [{\"colorbar\": {\"outlinewidth\": 0, \"ticks\": \"\"}, \"type\": \"mesh3d\"}], \"parcoords\": [{\"line\": {\"colorbar\": {\"outlinewidth\": 0, \"ticks\": \"\"}}, \"type\": \"parcoords\"}], \"pie\": [{\"automargin\": true, \"type\": \"pie\"}], \"scatter\": [{\"marker\": {\"colorbar\": {\"outlinewidth\": 0, \"ticks\": \"\"}}, \"type\": \"scatter\"}], \"scatter3d\": [{\"line\": {\"colorbar\": {\"outlinewidth\": 0, \"ticks\": \"\"}}, \"marker\": {\"colorbar\": {\"outlinewidth\": 0, \"ticks\": \"\"}}, \"type\": \"scatter3d\"}], \"scattercarpet\": [{\"marker\": {\"colorbar\": {\"outlinewidth\": 0, \"ticks\": \"\"}}, \"type\": \"scattercarpet\"}], \"scattergeo\": [{\"marker\": {\"colorbar\": {\"outlinewidth\": 0, \"ticks\": \"\"}}, \"type\": \"scattergeo\"}], \"scattergl\": [{\"marker\": {\"colorbar\": {\"outlinewidth\": 0, \"ticks\": \"\"}}, \"type\": \"scattergl\"}], \"scattermapbox\": [{\"marker\": {\"colorbar\": {\"outlinewidth\": 0, \"ticks\": \"\"}}, \"type\": \"scattermapbox\"}], \"scatterpolar\": [{\"marker\": {\"colorbar\": {\"outlinewidth\": 0, \"ticks\": \"\"}}, \"type\": \"scatterpolar\"}], \"scatterpolargl\": [{\"marker\": {\"colorbar\": {\"outlinewidth\": 0, \"ticks\": \"\"}}, \"type\": \"scatterpolargl\"}], \"scatterternary\": [{\"marker\": {\"colorbar\": {\"outlinewidth\": 0, \"ticks\": \"\"}}, \"type\": \"scatterternary\"}], \"surface\": [{\"colorbar\": {\"outlinewidth\": 0, \"ticks\": \"\"}, \"colorscale\": [[0.0, \"#0d0887\"], [0.1111111111111111, \"#46039f\"], [0.2222222222222222, \"#7201a8\"], [0.3333333333333333, \"#9c179e\"], [0.4444444444444444, \"#bd3786\"], [0.5555555555555556, \"#d8576b\"], [0.6666666666666666, \"#ed7953\"], [0.7777777777777778, \"#fb9f3a\"], [0.8888888888888888, \"#fdca26\"], [1.0, \"#f0f921\"]], \"type\": \"surface\"}], \"table\": [{\"cells\": {\"fill\": {\"color\": \"#EBF0F8\"}, \"line\": {\"color\": \"white\"}}, \"header\": {\"fill\": {\"color\": \"#C8D4E3\"}, \"line\": {\"color\": \"white\"}}, \"type\": \"table\"}]}, \"layout\": {\"annotationdefaults\": {\"arrowcolor\": \"#2a3f5f\", \"arrowhead\": 0, \"arrowwidth\": 1}, \"autotypenumbers\": \"strict\", \"coloraxis\": {\"colorbar\": {\"outlinewidth\": 0, \"ticks\": \"\"}}, \"colorscale\": {\"diverging\": [[0, \"#8e0152\"], [0.1, \"#c51b7d\"], [0.2, \"#de77ae\"], [0.3, \"#f1b6da\"], [0.4, \"#fde0ef\"], [0.5, \"#f7f7f7\"], [0.6, \"#e6f5d0\"], [0.7, \"#b8e186\"], [0.8, \"#7fbc41\"], [0.9, \"#4d9221\"], [1, \"#276419\"]], \"sequential\": [[0.0, \"#0d0887\"], [0.1111111111111111, \"#46039f\"], [0.2222222222222222, \"#7201a8\"], [0.3333333333333333, \"#9c179e\"], [0.4444444444444444, \"#bd3786\"], [0.5555555555555556, \"#d8576b\"], [0.6666666666666666, \"#ed7953\"], [0.7777777777777778, \"#fb9f3a\"], [0.8888888888888888, \"#fdca26\"], [1.0, \"#f0f921\"]], \"sequentialminus\": [[0.0, \"#0d0887\"], [0.1111111111111111, \"#46039f\"], [0.2222222222222222, \"#7201a8\"], [0.3333333333333333, \"#9c179e\"], [0.4444444444444444, \"#bd3786\"], [0.5555555555555556, \"#d8576b\"], [0.6666666666666666, \"#ed7953\"], [0.7777777777777778, \"#fb9f3a\"], [0.8888888888888888, \"#fdca26\"], [1.0, \"#f0f921\"]]}, \"colorway\": [\"#636efa\", \"#EF553B\", \"#00cc96\", \"#ab63fa\", \"#FFA15A\", \"#19d3f3\", \"#FF6692\", \"#B6E880\", \"#FF97FF\", \"#FECB52\"], \"font\": {\"color\": \"#2a3f5f\"}, \"geo\": {\"bgcolor\": \"white\", \"lakecolor\": \"white\", \"landcolor\": \"#E5ECF6\", \"showlakes\": true, \"showland\": true, \"subunitcolor\": \"white\"}, \"hoverlabel\": {\"align\": \"left\"}, \"hovermode\": \"closest\", \"mapbox\": {\"style\": \"light\"}, \"paper_bgcolor\": \"white\", \"plot_bgcolor\": \"#E5ECF6\", \"polar\": {\"angularaxis\": {\"gridcolor\": \"white\", \"linecolor\": \"white\", \"ticks\": \"\"}, \"bgcolor\": \"#E5ECF6\", \"radialaxis\": {\"gridcolor\": \"white\", \"linecolor\": \"white\", \"ticks\": \"\"}}, \"scene\": {\"xaxis\": {\"backgroundcolor\": \"#E5ECF6\", \"gridcolor\": \"white\", \"gridwidth\": 2, \"linecolor\": \"white\", \"showbackground\": true, \"ticks\": \"\", \"zerolinecolor\": \"white\"}, \"yaxis\": {\"backgroundcolor\": \"#E5ECF6\", \"gridcolor\": \"white\", \"gridwidth\": 2, \"linecolor\": \"white\", \"showbackground\": true, \"ticks\": \"\", \"zerolinecolor\": \"white\"}, \"zaxis\": {\"backgroundcolor\": \"#E5ECF6\", \"gridcolor\": \"white\", \"gridwidth\": 2, \"linecolor\": \"white\", \"showbackground\": true, \"ticks\": \"\", \"zerolinecolor\": \"white\"}}, \"shapedefaults\": {\"line\": {\"color\": \"#2a3f5f\"}}, \"ternary\": {\"aaxis\": {\"gridcolor\": \"white\", \"linecolor\": \"white\", \"ticks\": \"\"}, \"baxis\": {\"gridcolor\": \"white\", \"linecolor\": \"white\", \"ticks\": \"\"}, \"bgcolor\": \"#E5ECF6\", \"caxis\": {\"gridcolor\": \"white\", \"linecolor\": \"white\", \"ticks\": \"\"}}, \"title\": {\"x\": 0.05}, \"xaxis\": {\"automargin\": true, \"gridcolor\": \"white\", \"linecolor\": \"white\", \"ticks\": \"\", \"title\": {\"standoff\": 15}, \"zerolinecolor\": \"white\", \"zerolinewidth\": 2}, \"yaxis\": {\"automargin\": true, \"gridcolor\": \"white\", \"linecolor\": \"white\", \"ticks\": \"\", \"title\": {\"standoff\": 15}, \"zerolinecolor\": \"white\", \"zerolinewidth\": 2}}}, \"title\": {\"font\": {\"size\": 20}, \"pad\": {\"t\": 3}, \"text\": \"Consumo de cerveja com rela\\u00e7\\u00e3o a temperatura m\\u00e9dia\"}, \"width\": 1000, \"xaxis\": {\"title\": {\"font\": {\"size\": 18}, \"text\": \"Temperatura m\\u00e9dia(C)\"}}, \"yaxis\": {\"title\": {\"font\": {\"size\": 18}, \"text\": \"Consumo(L)\"}}},                        {\"responsive\": true}                    ).then(function(){\n",
       "                            \n",
       "var gd = document.getElementById('786877a1-c489-4d48-a7bf-9a8ae7ef5a08');\n",
       "var x = new MutationObserver(function (mutations, observer) {{\n",
       "        var display = window.getComputedStyle(gd).display;\n",
       "        if (!display || display === 'none') {{\n",
       "            console.log([gd, 'removed!']);\n",
       "            Plotly.purge(gd);\n",
       "            observer.disconnect();\n",
       "        }}\n",
       "}});\n",
       "\n",
       "// Listen for the removal of the full notebook cells\n",
       "var notebookContainer = gd.closest('#notebook-container');\n",
       "if (notebookContainer) {{\n",
       "    x.observe(notebookContainer, {childList: true});\n",
       "}}\n",
       "\n",
       "// Listen for the clearing of the current output cell\n",
       "var outputEl = gd.closest('.output');\n",
       "if (outputEl) {{\n",
       "    x.observe(outputEl, {childList: true});\n",
       "}}\n",
       "\n",
       "                        })                };                });            </script>        </div>"
      ]
     },
     "metadata": {},
     "output_type": "display_data"
    }
   ],
   "source": [
    "fig=go.Figure()\n",
    "\n",
    "fig.add_trace(go.Bar(x = df['Temperatura Media (C)'], y = df['Consumo de cerveja (litros)'], \n",
    "                         marker_color='deepskyblue', width=0.15))\n",
    "fig.update_layout(title = 'Consumo de cerveja com relação a temperatura média',\n",
    "                  title_font_size=20,title_pad_t=3,xaxis_title='Temperatura média(C)', yaxis_title='Consumo(L)',\n",
    "                  margin = dict(autoexpand=False),\n",
    "             showlegend=False, plot_bgcolor='white',legend=dict(\n",
    "    orientation=\"h\",\n",
    "    yanchor=\"bottom\",\n",
    "    y=1.02,\n",
    "    xanchor=\"right\",\n",
    "    x=1\n",
    "),barmode='group',bargap=0.7)\n",
    "fig.update_layout(\n",
    "    autosize=False,\n",
    "    width=1000,\n",
    "    height=600,\n",
    "    paper_bgcolor=\"white\")\n",
    "fig.update_xaxes(title_font_size=18)\n",
    "fig.update_yaxes(title_font_size=18)\n",
    "\n",
    "fig"
   ]
  },
  {
   "cell_type": "markdown",
   "metadata": {},
   "source": [
    "<p style=\"text-align: justify\">Como esperado, o consumo de cerveja cresceu quando a temperatura média variou entre 21° e 24°C. Entretanto, valores acima dos 24°C tiveram valores mais baixos de consumo de cerveja.</p>"
   ]
  },
  {
   "cell_type": "code",
   "execution_count": 16,
   "metadata": {},
   "outputs": [
    {
     "data": {
      "application/vnd.plotly.v1+json": {
       "config": {
        "plotlyServerURL": "https://plot.ly"
       },
       "data": [
        {
         "marker": {
          "color": "deepskyblue"
         },
         "mode": "markers",
         "type": "scatter",
         "x": [
          0,
          0,
          0,
          1.2,
          0,
          12.2,
          0,
          48.6,
          4.4,
          0,
          3.4,
          0,
          0.8,
          1.6,
          3,
          2,
          0,
          0,
          3.7,
          0.6,
          0,
          31,
          3.6,
          13,
          0,
          20.8,
          1.2,
          4.9,
          0,
          0,
          0.2,
          0,
          4.5,
          1.6,
          3.2,
          5.6,
          18.4,
          16.7,
          10.4,
          0,
          32.2,
          2.2,
          0,
          0,
          0,
          17.4,
          22.7,
          85.3,
          13.4,
          2.4,
          0,
          0,
          0,
          0,
          0,
          2,
          34.4,
          0.6,
          0,
          3,
          0,
          0,
          0,
          0,
          0,
          38.2,
          69.2,
          77,
          9.7,
          9.5,
          1.2,
          0,
          12.2,
          0.3,
          22.4,
          24.2,
          0,
          3.2,
          7.4,
          14.7,
          1.7,
          19.2,
          0,
          0,
          0,
          0,
          0,
          0,
          18.6,
          1,
          0,
          0,
          0,
          0,
          0,
          0,
          7.1,
          0.4,
          0,
          0,
          0,
          0,
          0,
          0,
          0,
          25.4,
          37.2,
          0,
          0,
          20.2,
          0,
          2.4,
          14.6,
          0,
          0,
          0.8,
          0,
          0,
          0,
          0,
          0,
          0,
          0,
          1,
          9.9,
          0,
          0,
          0,
          0,
          0,
          22.2,
          0,
          2.8,
          0,
          0,
          0,
          0,
          0,
          0,
          0.2,
          0,
          0,
          0,
          0,
          0,
          0,
          0,
          1.8,
          7.2,
          0,
          5.6,
          2.2,
          0.5,
          0,
          0,
          0,
          0,
          0,
          0,
          0,
          0,
          0,
          0,
          0,
          0,
          0,
          9,
          0,
          0,
          3.8,
          0,
          0,
          0,
          0,
          3.8,
          1,
          0,
          0,
          0,
          0,
          0,
          0,
          1.6,
          17.8,
          15.2,
          4.4,
          0,
          0,
          4.5,
          0,
          0,
          0,
          3,
          0,
          0,
          0,
          0,
          0,
          0,
          0,
          0,
          0,
          0,
          0,
          0,
          16.6,
          2,
          0,
          0,
          0,
          0,
          0,
          0,
          0,
          0,
          0,
          0,
          0,
          0,
          0,
          0,
          0,
          0,
          0,
          0,
          0,
          0,
          0,
          0,
          0,
          0,
          0,
          1,
          0,
          0,
          0,
          2.4,
          0.6,
          2.6,
          25,
          0,
          0,
          0,
          0,
          0.4,
          0,
          0,
          2.4,
          0,
          0.1,
          23.6,
          58,
          0,
          31.8,
          27.6,
          0,
          0.2,
          0,
          0,
          0,
          0,
          0,
          0,
          0,
          0,
          0,
          0,
          0,
          28.6,
          1.8,
          27.2,
          0,
          0,
          7.6,
          0,
          25,
          0.2,
          0,
          0,
          0,
          0,
          0,
          0.3,
          0,
          0,
          2.4,
          0,
          0,
          0,
          0,
          0.1,
          0,
          0,
          0,
          14.6,
          13.4,
          0,
          0,
          28.4,
          0.1,
          0,
          0,
          0,
          0,
          27.2,
          39.6,
          3.4,
          6.8,
          39.3,
          0,
          1.2,
          0.6,
          4.4,
          10.4,
          0,
          0,
          0,
          16.4,
          8,
          0,
          0,
          14.1,
          0,
          6.8,
          7.2,
          0,
          13.6,
          7,
          0.4,
          0,
          0,
          0,
          17.4,
          23.4,
          0,
          0,
          0,
          0,
          0.1,
          0.1,
          47.8,
          0,
          0,
          0,
          0,
          0,
          12.2,
          2,
          4,
          1.5,
          0,
          0.1,
          1.3,
          8.4,
          27.2,
          43,
          3,
          3.4,
          39,
          94.8,
          13.6,
          0,
          10.3,
          6.3,
          0
         ],
         "y": [
          25.461,
          28.971999999999998,
          30.814,
          29.799,
          28.9,
          28.218000000000004,
          29.732,
          28.397,
          24.886,
          37.937,
          36.254,
          25.743000000000002,
          26.99,
          31.825,
          25.724,
          29.938000000000002,
          37.69,
          30.524,
          29.265,
          35.126999999999995,
          29.13,
          25.795,
          21.784000000000002,
          28.348000000000003,
          31.088,
          21.52,
          29.971999999999998,
          22.603,
          22.695999999999998,
          26.845,
          27.03,
          32.056999999999995,
          24.096999999999998,
          31.655,
          24.738000000000003,
          19.95,
          22.820999999999998,
          28.893,
          29.926,
          24.061999999999998,
          21.136999999999997,
          26.805,
          26.389,
          24.219,
          30.230999999999998,
          24.968000000000004,
          25.343000000000004,
          17.399,
          21.392,
          22.921999999999997,
          24.566999999999997,
          30.943,
          30.825,
          25.691999999999997,
          26.959,
          25.366,
          22.784000000000002,
          26.241,
          26.467,
          27.475,
          28.749000000000002,
          24.146,
          22.988000000000003,
          30.3,
          22.654,
          29.09,
          24.619,
          20.016,
          23.041999999999998,
          22.933000000000003,
          22.409000000000002,
          21.281,
          28.844,
          32.872,
          20.903000000000002,
          26.275,
          20.167,
          23.628,
          24.213,
          28.631,
          25.855,
          21.406,
          21.616999999999997,
          22.401,
          27.989,
          24.974,
          29.76,
          26.116,
          25.85,
          24.925,
          21.979,
          22.116,
          24.866999999999997,
          33.45,
          32.713,
          22.355999999999998,
          21.004,
          23.362,
          20.298,
          24.862,
          30.505,
          25.07,
          22.62,
          22.000999999999998,
          23.469,
          21.735,
          21.593000000000004,
          33.821999999999996,
          28.028000000000002,
          24.304000000000002,
          31.108,
          19.113,
          23.198,
          24.388,
          27.42,
          30.479,
          21.838,
          20.811999999999998,
          19.761,
          20.452,
          17.939,
          25.272,
          28.049,
          25.316999999999997,
          21.826,
          20.68,
          19.143,
          18.146,
          25.489,
          23.537,
          16.956,
          19.052,
          17.287,
          20.3,
          20.538,
          23.701999999999998,
          28.410999999999998,
          21.073,
          24.215,
          19.525,
          20.785999999999998,
          20.429000000000002,
          27.25,
          31.386999999999997,
          26.075,
          22.162,
          24.258000000000003,
          24.683000000000003,
          21.245,
          25.936999999999998,
          26.081,
          16.227999999999998,
          20.105999999999998,
          21.055,
          22.772,
          25.142,
          31.129,
          30.498,
          26.15,
          21.326999999999998,
          22.008000000000003,
          24.615,
          22.375,
          29.607,
          32.983000000000004,
          19.119,
          21.029,
          23.898000000000003,
          24.534000000000002,
          16.748,
          23.055,
          28.857,
          23.022,
          27.146,
          17.241,
          19.463,
          21.86,
          24.226999999999997,
          27.594,
          24.863000000000003,
          20.160999999999998,
          20.824,
          19.727,
          14.94,
          24.631999999999998,
          21.294,
          18.448,
          21.237,
          19.849,
          20.74,
          25.698,
          26.691,
          33.298,
          25.64,
          23.936999999999998,
          28.741999999999997,
          21.748,
          22.031999999999996,
          24.826999999999998,
          32.473,
          20.62,
          21.825,
          14.343,
          19.029,
          21.104,
          20.738000000000003,
          25.233,
          18.975,
          19.64,
          22.522,
          24.226999999999997,
          24.726,
          32.467,
          31.663,
          25.866999999999997,
          27.724,
          22.039,
          26.127,
          26.58,
          31.31,
          33.516999999999996,
          23.180999999999997,
          24.183000000000003,
          24.594,
          22.61,
          25.479,
          29.621,
          26.272,
          22.541,
          23.07,
          26.021,
          17.655,
          23.243000000000002,
          30.177,
          27.518,
          23.21,
          21.092,
          23.357,
          17.887999999999998,
          22.217,
          31.680999999999997,
          31.833000000000002,
          28.441,
          22.389,
          20.680999999999997,
          24.221999999999998,
          19.345,
          21.826999999999998,
          23.566,
          20.227,
          17.075,
          16.977,
          21.525,
          21.454,
          21.814,
          21.252,
          20.464000000000002,
          30.775,
          25.343000000000004,
          33.93,
          26.311,
          31.836,
          34.695,
          29.829,
          26.362,
          32.589,
          30.345,
          29.410999999999998,
          29.636999999999997,
          32.184,
          17.730999999999998,
          24.114,
          28.034000000000002,
          22.664,
          27.488000000000003,
          24.875999999999998,
          24.862,
          24.679000000000002,
          22.304000000000002,
          30.329,
          33.181999999999995,
          23.849,
          33.33,
          34.496,
          26.249000000000002,
          26.523000000000003,
          26.793000000000003,
          35.861,
          27.386999999999997,
          32.666,
          22.199,
          24,
          27.871,
          31.139,
          23.065,
          26.594,
          27.656999999999996,
          26.594,
          28.084,
          27.581999999999997,
          24.862,
          22.634,
          31.649,
          35.781,
          24.429000000000002,
          20.648000000000003,
          22.741,
          21.479,
          23.134,
          20.575,
          24.33,
          28.61,
          28.456,
          27.964000000000002,
          29.569000000000003,
          29.267,
          28.647,
          26.836,
          29.386,
          24.609,
          26.964000000000002,
          23.614,
          22.96,
          20.332,
          30.392,
          31.933000000000003,
          21.662,
          21.689,
          25.119,
          25.285,
          28.979,
          34.382,
          30.616999999999997,
          20.238,
          24.529,
          30.471,
          28.405,
          29.513,
          32.451,
          32.78,
          23.375,
          27.713,
          27.136999999999997,
          22.933000000000003,
          30.74,
          29.579,
          29.188000000000002,
          28.131,
          28.616999999999997,
          21.061999999999998,
          24.337,
          27.041999999999998,
          32.536,
          30.127,
          24.834,
          26.828000000000003,
          26.468000000000004,
          31.572,
          26.308000000000003,
          21.955,
          32.306999999999995,
          26.095,
          22.309,
          20.467,
          22.445999999999998
         ]
        }
       ],
       "layout": {
        "autosize": false,
        "barmode": "group",
        "height": 600,
        "legend": {
         "orientation": "h",
         "x": 1,
         "xanchor": "right",
         "y": 1.02,
         "yanchor": "bottom"
        },
        "margin": {
         "autoexpand": false
        },
        "paper_bgcolor": "white",
        "plot_bgcolor": "white",
        "showlegend": false,
        "template": {
         "data": {
          "bar": [
           {
            "error_x": {
             "color": "#2a3f5f"
            },
            "error_y": {
             "color": "#2a3f5f"
            },
            "marker": {
             "line": {
              "color": "#E5ECF6",
              "width": 0.5
             }
            },
            "type": "bar"
           }
          ],
          "barpolar": [
           {
            "marker": {
             "line": {
              "color": "#E5ECF6",
              "width": 0.5
             }
            },
            "type": "barpolar"
           }
          ],
          "carpet": [
           {
            "aaxis": {
             "endlinecolor": "#2a3f5f",
             "gridcolor": "white",
             "linecolor": "white",
             "minorgridcolor": "white",
             "startlinecolor": "#2a3f5f"
            },
            "baxis": {
             "endlinecolor": "#2a3f5f",
             "gridcolor": "white",
             "linecolor": "white",
             "minorgridcolor": "white",
             "startlinecolor": "#2a3f5f"
            },
            "type": "carpet"
           }
          ],
          "choropleth": [
           {
            "colorbar": {
             "outlinewidth": 0,
             "ticks": ""
            },
            "type": "choropleth"
           }
          ],
          "contour": [
           {
            "colorbar": {
             "outlinewidth": 0,
             "ticks": ""
            },
            "colorscale": [
             [
              0,
              "#0d0887"
             ],
             [
              0.1111111111111111,
              "#46039f"
             ],
             [
              0.2222222222222222,
              "#7201a8"
             ],
             [
              0.3333333333333333,
              "#9c179e"
             ],
             [
              0.4444444444444444,
              "#bd3786"
             ],
             [
              0.5555555555555556,
              "#d8576b"
             ],
             [
              0.6666666666666666,
              "#ed7953"
             ],
             [
              0.7777777777777778,
              "#fb9f3a"
             ],
             [
              0.8888888888888888,
              "#fdca26"
             ],
             [
              1,
              "#f0f921"
             ]
            ],
            "type": "contour"
           }
          ],
          "contourcarpet": [
           {
            "colorbar": {
             "outlinewidth": 0,
             "ticks": ""
            },
            "type": "contourcarpet"
           }
          ],
          "heatmap": [
           {
            "colorbar": {
             "outlinewidth": 0,
             "ticks": ""
            },
            "colorscale": [
             [
              0,
              "#0d0887"
             ],
             [
              0.1111111111111111,
              "#46039f"
             ],
             [
              0.2222222222222222,
              "#7201a8"
             ],
             [
              0.3333333333333333,
              "#9c179e"
             ],
             [
              0.4444444444444444,
              "#bd3786"
             ],
             [
              0.5555555555555556,
              "#d8576b"
             ],
             [
              0.6666666666666666,
              "#ed7953"
             ],
             [
              0.7777777777777778,
              "#fb9f3a"
             ],
             [
              0.8888888888888888,
              "#fdca26"
             ],
             [
              1,
              "#f0f921"
             ]
            ],
            "type": "heatmap"
           }
          ],
          "heatmapgl": [
           {
            "colorbar": {
             "outlinewidth": 0,
             "ticks": ""
            },
            "colorscale": [
             [
              0,
              "#0d0887"
             ],
             [
              0.1111111111111111,
              "#46039f"
             ],
             [
              0.2222222222222222,
              "#7201a8"
             ],
             [
              0.3333333333333333,
              "#9c179e"
             ],
             [
              0.4444444444444444,
              "#bd3786"
             ],
             [
              0.5555555555555556,
              "#d8576b"
             ],
             [
              0.6666666666666666,
              "#ed7953"
             ],
             [
              0.7777777777777778,
              "#fb9f3a"
             ],
             [
              0.8888888888888888,
              "#fdca26"
             ],
             [
              1,
              "#f0f921"
             ]
            ],
            "type": "heatmapgl"
           }
          ],
          "histogram": [
           {
            "marker": {
             "colorbar": {
              "outlinewidth": 0,
              "ticks": ""
             }
            },
            "type": "histogram"
           }
          ],
          "histogram2d": [
           {
            "colorbar": {
             "outlinewidth": 0,
             "ticks": ""
            },
            "colorscale": [
             [
              0,
              "#0d0887"
             ],
             [
              0.1111111111111111,
              "#46039f"
             ],
             [
              0.2222222222222222,
              "#7201a8"
             ],
             [
              0.3333333333333333,
              "#9c179e"
             ],
             [
              0.4444444444444444,
              "#bd3786"
             ],
             [
              0.5555555555555556,
              "#d8576b"
             ],
             [
              0.6666666666666666,
              "#ed7953"
             ],
             [
              0.7777777777777778,
              "#fb9f3a"
             ],
             [
              0.8888888888888888,
              "#fdca26"
             ],
             [
              1,
              "#f0f921"
             ]
            ],
            "type": "histogram2d"
           }
          ],
          "histogram2dcontour": [
           {
            "colorbar": {
             "outlinewidth": 0,
             "ticks": ""
            },
            "colorscale": [
             [
              0,
              "#0d0887"
             ],
             [
              0.1111111111111111,
              "#46039f"
             ],
             [
              0.2222222222222222,
              "#7201a8"
             ],
             [
              0.3333333333333333,
              "#9c179e"
             ],
             [
              0.4444444444444444,
              "#bd3786"
             ],
             [
              0.5555555555555556,
              "#d8576b"
             ],
             [
              0.6666666666666666,
              "#ed7953"
             ],
             [
              0.7777777777777778,
              "#fb9f3a"
             ],
             [
              0.8888888888888888,
              "#fdca26"
             ],
             [
              1,
              "#f0f921"
             ]
            ],
            "type": "histogram2dcontour"
           }
          ],
          "mesh3d": [
           {
            "colorbar": {
             "outlinewidth": 0,
             "ticks": ""
            },
            "type": "mesh3d"
           }
          ],
          "parcoords": [
           {
            "line": {
             "colorbar": {
              "outlinewidth": 0,
              "ticks": ""
             }
            },
            "type": "parcoords"
           }
          ],
          "pie": [
           {
            "automargin": true,
            "type": "pie"
           }
          ],
          "scatter": [
           {
            "marker": {
             "colorbar": {
              "outlinewidth": 0,
              "ticks": ""
             }
            },
            "type": "scatter"
           }
          ],
          "scatter3d": [
           {
            "line": {
             "colorbar": {
              "outlinewidth": 0,
              "ticks": ""
             }
            },
            "marker": {
             "colorbar": {
              "outlinewidth": 0,
              "ticks": ""
             }
            },
            "type": "scatter3d"
           }
          ],
          "scattercarpet": [
           {
            "marker": {
             "colorbar": {
              "outlinewidth": 0,
              "ticks": ""
             }
            },
            "type": "scattercarpet"
           }
          ],
          "scattergeo": [
           {
            "marker": {
             "colorbar": {
              "outlinewidth": 0,
              "ticks": ""
             }
            },
            "type": "scattergeo"
           }
          ],
          "scattergl": [
           {
            "marker": {
             "colorbar": {
              "outlinewidth": 0,
              "ticks": ""
             }
            },
            "type": "scattergl"
           }
          ],
          "scattermapbox": [
           {
            "marker": {
             "colorbar": {
              "outlinewidth": 0,
              "ticks": ""
             }
            },
            "type": "scattermapbox"
           }
          ],
          "scatterpolar": [
           {
            "marker": {
             "colorbar": {
              "outlinewidth": 0,
              "ticks": ""
             }
            },
            "type": "scatterpolar"
           }
          ],
          "scatterpolargl": [
           {
            "marker": {
             "colorbar": {
              "outlinewidth": 0,
              "ticks": ""
             }
            },
            "type": "scatterpolargl"
           }
          ],
          "scatterternary": [
           {
            "marker": {
             "colorbar": {
              "outlinewidth": 0,
              "ticks": ""
             }
            },
            "type": "scatterternary"
           }
          ],
          "surface": [
           {
            "colorbar": {
             "outlinewidth": 0,
             "ticks": ""
            },
            "colorscale": [
             [
              0,
              "#0d0887"
             ],
             [
              0.1111111111111111,
              "#46039f"
             ],
             [
              0.2222222222222222,
              "#7201a8"
             ],
             [
              0.3333333333333333,
              "#9c179e"
             ],
             [
              0.4444444444444444,
              "#bd3786"
             ],
             [
              0.5555555555555556,
              "#d8576b"
             ],
             [
              0.6666666666666666,
              "#ed7953"
             ],
             [
              0.7777777777777778,
              "#fb9f3a"
             ],
             [
              0.8888888888888888,
              "#fdca26"
             ],
             [
              1,
              "#f0f921"
             ]
            ],
            "type": "surface"
           }
          ],
          "table": [
           {
            "cells": {
             "fill": {
              "color": "#EBF0F8"
             },
             "line": {
              "color": "white"
             }
            },
            "header": {
             "fill": {
              "color": "#C8D4E3"
             },
             "line": {
              "color": "white"
             }
            },
            "type": "table"
           }
          ]
         },
         "layout": {
          "annotationdefaults": {
           "arrowcolor": "#2a3f5f",
           "arrowhead": 0,
           "arrowwidth": 1
          },
          "autotypenumbers": "strict",
          "coloraxis": {
           "colorbar": {
            "outlinewidth": 0,
            "ticks": ""
           }
          },
          "colorscale": {
           "diverging": [
            [
             0,
             "#8e0152"
            ],
            [
             0.1,
             "#c51b7d"
            ],
            [
             0.2,
             "#de77ae"
            ],
            [
             0.3,
             "#f1b6da"
            ],
            [
             0.4,
             "#fde0ef"
            ],
            [
             0.5,
             "#f7f7f7"
            ],
            [
             0.6,
             "#e6f5d0"
            ],
            [
             0.7,
             "#b8e186"
            ],
            [
             0.8,
             "#7fbc41"
            ],
            [
             0.9,
             "#4d9221"
            ],
            [
             1,
             "#276419"
            ]
           ],
           "sequential": [
            [
             0,
             "#0d0887"
            ],
            [
             0.1111111111111111,
             "#46039f"
            ],
            [
             0.2222222222222222,
             "#7201a8"
            ],
            [
             0.3333333333333333,
             "#9c179e"
            ],
            [
             0.4444444444444444,
             "#bd3786"
            ],
            [
             0.5555555555555556,
             "#d8576b"
            ],
            [
             0.6666666666666666,
             "#ed7953"
            ],
            [
             0.7777777777777778,
             "#fb9f3a"
            ],
            [
             0.8888888888888888,
             "#fdca26"
            ],
            [
             1,
             "#f0f921"
            ]
           ],
           "sequentialminus": [
            [
             0,
             "#0d0887"
            ],
            [
             0.1111111111111111,
             "#46039f"
            ],
            [
             0.2222222222222222,
             "#7201a8"
            ],
            [
             0.3333333333333333,
             "#9c179e"
            ],
            [
             0.4444444444444444,
             "#bd3786"
            ],
            [
             0.5555555555555556,
             "#d8576b"
            ],
            [
             0.6666666666666666,
             "#ed7953"
            ],
            [
             0.7777777777777778,
             "#fb9f3a"
            ],
            [
             0.8888888888888888,
             "#fdca26"
            ],
            [
             1,
             "#f0f921"
            ]
           ]
          },
          "colorway": [
           "#636efa",
           "#EF553B",
           "#00cc96",
           "#ab63fa",
           "#FFA15A",
           "#19d3f3",
           "#FF6692",
           "#B6E880",
           "#FF97FF",
           "#FECB52"
          ],
          "font": {
           "color": "#2a3f5f"
          },
          "geo": {
           "bgcolor": "white",
           "lakecolor": "white",
           "landcolor": "#E5ECF6",
           "showlakes": true,
           "showland": true,
           "subunitcolor": "white"
          },
          "hoverlabel": {
           "align": "left"
          },
          "hovermode": "closest",
          "mapbox": {
           "style": "light"
          },
          "paper_bgcolor": "white",
          "plot_bgcolor": "#E5ECF6",
          "polar": {
           "angularaxis": {
            "gridcolor": "white",
            "linecolor": "white",
            "ticks": ""
           },
           "bgcolor": "#E5ECF6",
           "radialaxis": {
            "gridcolor": "white",
            "linecolor": "white",
            "ticks": ""
           }
          },
          "scene": {
           "xaxis": {
            "backgroundcolor": "#E5ECF6",
            "gridcolor": "white",
            "gridwidth": 2,
            "linecolor": "white",
            "showbackground": true,
            "ticks": "",
            "zerolinecolor": "white"
           },
           "yaxis": {
            "backgroundcolor": "#E5ECF6",
            "gridcolor": "white",
            "gridwidth": 2,
            "linecolor": "white",
            "showbackground": true,
            "ticks": "",
            "zerolinecolor": "white"
           },
           "zaxis": {
            "backgroundcolor": "#E5ECF6",
            "gridcolor": "white",
            "gridwidth": 2,
            "linecolor": "white",
            "showbackground": true,
            "ticks": "",
            "zerolinecolor": "white"
           }
          },
          "shapedefaults": {
           "line": {
            "color": "#2a3f5f"
           }
          },
          "ternary": {
           "aaxis": {
            "gridcolor": "white",
            "linecolor": "white",
            "ticks": ""
           },
           "baxis": {
            "gridcolor": "white",
            "linecolor": "white",
            "ticks": ""
           },
           "bgcolor": "#E5ECF6",
           "caxis": {
            "gridcolor": "white",
            "linecolor": "white",
            "ticks": ""
           }
          },
          "title": {
           "x": 0.05
          },
          "xaxis": {
           "automargin": true,
           "gridcolor": "white",
           "linecolor": "white",
           "ticks": "",
           "title": {
            "standoff": 15
           },
           "zerolinecolor": "white",
           "zerolinewidth": 2
          },
          "yaxis": {
           "automargin": true,
           "gridcolor": "white",
           "linecolor": "white",
           "ticks": "",
           "title": {
            "standoff": 15
           },
           "zerolinecolor": "white",
           "zerolinewidth": 2
          }
         }
        },
        "title": {
         "font": {
          "size": 20
         },
         "pad": {
          "t": 3
         },
         "text": "Consumo de cerveja com relação a precipitação"
        },
        "width": 1000,
        "xaxis": {
         "title": {
          "font": {
           "size": 18
          },
          "text": "Precipitacao (mm)"
         }
        },
        "yaxis": {
         "title": {
          "font": {
           "size": 18
          },
          "text": "Consumo(L)"
         }
        }
       }
      },
      "text/html": [
       "<div>                            <div id=\"a7ed3226-0641-498f-8cb3-9e5cdbda94bc\" class=\"plotly-graph-div\" style=\"height:600px; width:1000px;\"></div>            <script type=\"text/javascript\">                require([\"plotly\"], function(Plotly) {                    window.PLOTLYENV=window.PLOTLYENV || {};                                    if (document.getElementById(\"a7ed3226-0641-498f-8cb3-9e5cdbda94bc\")) {                    Plotly.newPlot(                        \"a7ed3226-0641-498f-8cb3-9e5cdbda94bc\",                        [{\"marker\": {\"color\": \"deepskyblue\"}, \"mode\": \"markers\", \"type\": \"scatter\", \"x\": [0.0, 0.0, 0.0, 1.2, 0.0, 12.2, 0.0, 48.6, 4.4, 0.0, 3.4, 0.0, 0.8, 1.6, 3.0, 2.0, 0.0, 0.0, 3.7, 0.6, 0.0, 31.0, 3.6, 13.0, 0.0, 20.8, 1.2, 4.9, 0.0, 0.0, 0.2, 0.0, 4.5, 1.6, 3.2, 5.6, 18.4, 16.7, 10.4, 0.0, 32.2, 2.2, 0.0, 0.0, 0.0, 17.4, 22.7, 85.3, 13.4, 2.4, 0.0, 0.0, 0.0, 0.0, 0.0, 2.0, 34.4, 0.6, 0.0, 3.0, 0.0, 0.0, 0.0, 0.0, 0.0, 38.2, 69.2, 77.0, 9.7, 9.5, 1.2, 0.0, 12.2, 0.3, 22.4, 24.2, 0.0, 3.2, 7.4, 14.7, 1.7, 19.2, 0.0, 0.0, 0.0, 0.0, 0.0, 0.0, 18.6, 1.0, 0.0, 0.0, 0.0, 0.0, 0.0, 0.0, 7.1, 0.4, 0.0, 0.0, 0.0, 0.0, 0.0, 0.0, 0.0, 25.4, 37.2, 0.0, 0.0, 20.2, 0.0, 2.4, 14.6, 0.0, 0.0, 0.8, 0.0, 0.0, 0.0, 0.0, 0.0, 0.0, 0.0, 1.0, 9.9, 0.0, 0.0, 0.0, 0.0, 0.0, 22.2, 0.0, 2.8, 0.0, 0.0, 0.0, 0.0, 0.0, 0.0, 0.2, 0.0, 0.0, 0.0, 0.0, 0.0, 0.0, 0.0, 1.8, 7.2, 0.0, 5.6, 2.2, 0.5, 0.0, 0.0, 0.0, 0.0, 0.0, 0.0, 0.0, 0.0, 0.0, 0.0, 0.0, 0.0, 0.0, 9.0, 0.0, 0.0, 3.8, 0.0, 0.0, 0.0, 0.0, 3.8, 1.0, 0.0, 0.0, 0.0, 0.0, 0.0, 0.0, 1.6, 17.8, 15.2, 4.4, 0.0, 0.0, 4.5, 0.0, 0.0, 0.0, 3.0, 0.0, 0.0, 0.0, 0.0, 0.0, 0.0, 0.0, 0.0, 0.0, 0.0, 0.0, 0.0, 16.6, 2.0, 0.0, 0.0, 0.0, 0.0, 0.0, 0.0, 0.0, 0.0, 0.0, 0.0, 0.0, 0.0, 0.0, 0.0, 0.0, 0.0, 0.0, 0.0, 0.0, 0.0, 0.0, 0.0, 0.0, 0.0, 0.0, 1.0, 0.0, 0.0, 0.0, 2.4, 0.6, 2.6, 25.0, 0.0, 0.0, 0.0, 0.0, 0.4, 0.0, 0.0, 2.4, 0.0, 0.1, 23.6, 58.0, 0.0, 31.8, 27.6, 0.0, 0.2, 0.0, 0.0, 0.0, 0.0, 0.0, 0.0, 0.0, 0.0, 0.0, 0.0, 0.0, 28.6, 1.8, 27.2, 0.0, 0.0, 7.6, 0.0, 25.0, 0.2, 0.0, 0.0, 0.0, 0.0, 0.0, 0.3, 0.0, 0.0, 2.4, 0.0, 0.0, 0.0, 0.0, 0.1, 0.0, 0.0, 0.0, 14.6, 13.4, 0.0, 0.0, 28.4, 0.1, 0.0, 0.0, 0.0, 0.0, 27.2, 39.6, 3.4, 6.8, 39.3, 0.0, 1.2, 0.6, 4.4, 10.4, 0.0, 0.0, 0.0, 16.4, 8.0, 0.0, 0.0, 14.1, 0.0, 6.8, 7.2, 0.0, 13.6, 7.0, 0.4, 0.0, 0.0, 0.0, 17.4, 23.4, 0.0, 0.0, 0.0, 0.0, 0.1, 0.1, 47.8, 0.0, 0.0, 0.0, 0.0, 0.0, 12.2, 2.0, 4.0, 1.5, 0.0, 0.1, 1.3, 8.4, 27.2, 43.0, 3.0, 3.4, 39.0, 94.8, 13.6, 0.0, 10.3, 6.3, 0.0], \"y\": [25.461, 28.971999999999998, 30.814, 29.799, 28.9, 28.218000000000004, 29.732, 28.397, 24.886, 37.937, 36.254, 25.743000000000002, 26.99, 31.825, 25.724, 29.938000000000002, 37.69, 30.524, 29.265, 35.126999999999995, 29.13, 25.795, 21.784000000000002, 28.348000000000003, 31.088, 21.52, 29.971999999999998, 22.603, 22.695999999999998, 26.845, 27.03, 32.056999999999995, 24.096999999999998, 31.655, 24.738000000000003, 19.95, 22.820999999999998, 28.893, 29.926, 24.061999999999998, 21.136999999999997, 26.805, 26.389, 24.219, 30.230999999999998, 24.968000000000004, 25.343000000000004, 17.399, 21.392, 22.921999999999997, 24.566999999999997, 30.943, 30.825, 25.691999999999997, 26.959, 25.366, 22.784000000000002, 26.241, 26.467, 27.475, 28.749000000000002, 24.146, 22.988000000000003, 30.3, 22.654, 29.09, 24.619, 20.016, 23.041999999999998, 22.933000000000003, 22.409000000000002, 21.281, 28.844, 32.872, 20.903000000000002, 26.275, 20.167, 23.628, 24.213, 28.631, 25.855, 21.406, 21.616999999999997, 22.401, 27.989, 24.974, 29.76, 26.116, 25.85, 24.925, 21.979, 22.116, 24.866999999999997, 33.45, 32.713, 22.355999999999998, 21.004, 23.362, 20.298, 24.862, 30.505, 25.07, 22.62, 22.000999999999998, 23.469, 21.735, 21.593000000000004, 33.821999999999996, 28.028000000000002, 24.304000000000002, 31.108, 19.113, 23.198, 24.388, 27.42, 30.479, 21.838, 20.811999999999998, 19.761, 20.452, 17.939, 25.272, 28.049, 25.316999999999997, 21.826, 20.68, 19.143, 18.146, 25.489, 23.537, 16.956, 19.052, 17.287, 20.3, 20.538, 23.701999999999998, 28.410999999999998, 21.073, 24.215, 19.525, 20.785999999999998, 20.429000000000002, 27.25, 31.386999999999997, 26.075, 22.162, 24.258000000000003, 24.683000000000003, 21.245, 25.936999999999998, 26.081, 16.227999999999998, 20.105999999999998, 21.055, 22.772, 25.142, 31.129, 30.498, 26.15, 21.326999999999998, 22.008000000000003, 24.615, 22.375, 29.607, 32.983000000000004, 19.119, 21.029, 23.898000000000003, 24.534000000000002, 16.748, 23.055, 28.857, 23.022, 27.146, 17.241, 19.463, 21.86, 24.226999999999997, 27.594, 24.863000000000003, 20.160999999999998, 20.824, 19.727, 14.94, 24.631999999999998, 21.294, 18.448, 21.237, 19.849, 20.74, 25.698, 26.691, 33.298, 25.64, 23.936999999999998, 28.741999999999997, 21.748, 22.031999999999996, 24.826999999999998, 32.473, 20.62, 21.825, 14.343, 19.029, 21.104, 20.738000000000003, 25.233, 18.975, 19.64, 22.522, 24.226999999999997, 24.726, 32.467, 31.663, 25.866999999999997, 27.724, 22.039, 26.127, 26.58, 31.31, 33.516999999999996, 23.180999999999997, 24.183000000000003, 24.594, 22.61, 25.479, 29.621, 26.272, 22.541, 23.07, 26.021, 17.655, 23.243000000000002, 30.177, 27.518, 23.21, 21.092, 23.357, 17.887999999999998, 22.217, 31.680999999999997, 31.833000000000002, 28.441, 22.389, 20.680999999999997, 24.221999999999998, 19.345, 21.826999999999998, 23.566, 20.227, 17.075, 16.977, 21.525, 21.454, 21.814, 21.252, 20.464000000000002, 30.775, 25.343000000000004, 33.93, 26.311, 31.836, 34.695, 29.829, 26.362, 32.589, 30.345, 29.410999999999998, 29.636999999999997, 32.184, 17.730999999999998, 24.114, 28.034000000000002, 22.664, 27.488000000000003, 24.875999999999998, 24.862, 24.679000000000002, 22.304000000000002, 30.329, 33.181999999999995, 23.849, 33.33, 34.496, 26.249000000000002, 26.523000000000003, 26.793000000000003, 35.861, 27.386999999999997, 32.666, 22.199, 24.0, 27.871, 31.139, 23.065, 26.594, 27.656999999999996, 26.594, 28.084, 27.581999999999997, 24.862, 22.634, 31.649, 35.781, 24.429000000000002, 20.648000000000003, 22.741, 21.479, 23.134, 20.575, 24.33, 28.61, 28.456, 27.964000000000002, 29.569000000000003, 29.267, 28.647, 26.836, 29.386, 24.609, 26.964000000000002, 23.614, 22.96, 20.332, 30.392, 31.933000000000003, 21.662, 21.689, 25.119, 25.285, 28.979, 34.382, 30.616999999999997, 20.238, 24.529, 30.471, 28.405, 29.513, 32.451, 32.78, 23.375, 27.713, 27.136999999999997, 22.933000000000003, 30.74, 29.579, 29.188000000000002, 28.131, 28.616999999999997, 21.061999999999998, 24.337, 27.041999999999998, 32.536, 30.127, 24.834, 26.828000000000003, 26.468000000000004, 31.572, 26.308000000000003, 21.955, 32.306999999999995, 26.095, 22.309, 20.467, 22.445999999999998]}],                        {\"autosize\": false, \"barmode\": \"group\", \"height\": 600, \"legend\": {\"orientation\": \"h\", \"x\": 1, \"xanchor\": \"right\", \"y\": 1.02, \"yanchor\": \"bottom\"}, \"margin\": {\"autoexpand\": false}, \"paper_bgcolor\": \"white\", \"plot_bgcolor\": \"white\", \"showlegend\": false, \"template\": {\"data\": {\"bar\": [{\"error_x\": {\"color\": \"#2a3f5f\"}, \"error_y\": {\"color\": \"#2a3f5f\"}, \"marker\": {\"line\": {\"color\": \"#E5ECF6\", \"width\": 0.5}}, \"type\": \"bar\"}], \"barpolar\": [{\"marker\": {\"line\": {\"color\": \"#E5ECF6\", \"width\": 0.5}}, \"type\": \"barpolar\"}], \"carpet\": [{\"aaxis\": {\"endlinecolor\": \"#2a3f5f\", \"gridcolor\": \"white\", \"linecolor\": \"white\", \"minorgridcolor\": \"white\", \"startlinecolor\": \"#2a3f5f\"}, \"baxis\": {\"endlinecolor\": \"#2a3f5f\", \"gridcolor\": \"white\", \"linecolor\": \"white\", \"minorgridcolor\": \"white\", \"startlinecolor\": \"#2a3f5f\"}, \"type\": \"carpet\"}], \"choropleth\": [{\"colorbar\": {\"outlinewidth\": 0, \"ticks\": \"\"}, \"type\": \"choropleth\"}], \"contour\": [{\"colorbar\": {\"outlinewidth\": 0, \"ticks\": \"\"}, \"colorscale\": [[0.0, \"#0d0887\"], [0.1111111111111111, \"#46039f\"], [0.2222222222222222, \"#7201a8\"], [0.3333333333333333, \"#9c179e\"], [0.4444444444444444, \"#bd3786\"], [0.5555555555555556, \"#d8576b\"], [0.6666666666666666, \"#ed7953\"], [0.7777777777777778, \"#fb9f3a\"], [0.8888888888888888, \"#fdca26\"], [1.0, \"#f0f921\"]], \"type\": \"contour\"}], \"contourcarpet\": [{\"colorbar\": {\"outlinewidth\": 0, \"ticks\": \"\"}, \"type\": \"contourcarpet\"}], \"heatmap\": [{\"colorbar\": {\"outlinewidth\": 0, \"ticks\": \"\"}, \"colorscale\": [[0.0, \"#0d0887\"], [0.1111111111111111, \"#46039f\"], [0.2222222222222222, \"#7201a8\"], [0.3333333333333333, \"#9c179e\"], [0.4444444444444444, \"#bd3786\"], [0.5555555555555556, \"#d8576b\"], [0.6666666666666666, \"#ed7953\"], [0.7777777777777778, \"#fb9f3a\"], [0.8888888888888888, \"#fdca26\"], [1.0, \"#f0f921\"]], \"type\": \"heatmap\"}], \"heatmapgl\": [{\"colorbar\": {\"outlinewidth\": 0, \"ticks\": \"\"}, \"colorscale\": [[0.0, \"#0d0887\"], [0.1111111111111111, \"#46039f\"], [0.2222222222222222, \"#7201a8\"], [0.3333333333333333, \"#9c179e\"], [0.4444444444444444, \"#bd3786\"], [0.5555555555555556, \"#d8576b\"], [0.6666666666666666, \"#ed7953\"], [0.7777777777777778, \"#fb9f3a\"], [0.8888888888888888, \"#fdca26\"], [1.0, \"#f0f921\"]], \"type\": \"heatmapgl\"}], \"histogram\": [{\"marker\": {\"colorbar\": {\"outlinewidth\": 0, \"ticks\": \"\"}}, \"type\": \"histogram\"}], \"histogram2d\": [{\"colorbar\": {\"outlinewidth\": 0, \"ticks\": \"\"}, \"colorscale\": [[0.0, \"#0d0887\"], [0.1111111111111111, \"#46039f\"], [0.2222222222222222, \"#7201a8\"], [0.3333333333333333, \"#9c179e\"], [0.4444444444444444, \"#bd3786\"], [0.5555555555555556, \"#d8576b\"], [0.6666666666666666, \"#ed7953\"], [0.7777777777777778, \"#fb9f3a\"], [0.8888888888888888, \"#fdca26\"], [1.0, \"#f0f921\"]], \"type\": \"histogram2d\"}], \"histogram2dcontour\": [{\"colorbar\": {\"outlinewidth\": 0, \"ticks\": \"\"}, \"colorscale\": [[0.0, \"#0d0887\"], [0.1111111111111111, \"#46039f\"], [0.2222222222222222, \"#7201a8\"], [0.3333333333333333, \"#9c179e\"], [0.4444444444444444, \"#bd3786\"], [0.5555555555555556, \"#d8576b\"], [0.6666666666666666, \"#ed7953\"], [0.7777777777777778, \"#fb9f3a\"], [0.8888888888888888, \"#fdca26\"], [1.0, \"#f0f921\"]], \"type\": \"histogram2dcontour\"}], \"mesh3d\": [{\"colorbar\": {\"outlinewidth\": 0, \"ticks\": \"\"}, \"type\": \"mesh3d\"}], \"parcoords\": [{\"line\": {\"colorbar\": {\"outlinewidth\": 0, \"ticks\": \"\"}}, \"type\": \"parcoords\"}], \"pie\": [{\"automargin\": true, \"type\": \"pie\"}], \"scatter\": [{\"marker\": {\"colorbar\": {\"outlinewidth\": 0, \"ticks\": \"\"}}, \"type\": \"scatter\"}], \"scatter3d\": [{\"line\": {\"colorbar\": {\"outlinewidth\": 0, \"ticks\": \"\"}}, \"marker\": {\"colorbar\": {\"outlinewidth\": 0, \"ticks\": \"\"}}, \"type\": \"scatter3d\"}], \"scattercarpet\": [{\"marker\": {\"colorbar\": {\"outlinewidth\": 0, \"ticks\": \"\"}}, \"type\": \"scattercarpet\"}], \"scattergeo\": [{\"marker\": {\"colorbar\": {\"outlinewidth\": 0, \"ticks\": \"\"}}, \"type\": \"scattergeo\"}], \"scattergl\": [{\"marker\": {\"colorbar\": {\"outlinewidth\": 0, \"ticks\": \"\"}}, \"type\": \"scattergl\"}], \"scattermapbox\": [{\"marker\": {\"colorbar\": {\"outlinewidth\": 0, \"ticks\": \"\"}}, \"type\": \"scattermapbox\"}], \"scatterpolar\": [{\"marker\": {\"colorbar\": {\"outlinewidth\": 0, \"ticks\": \"\"}}, \"type\": \"scatterpolar\"}], \"scatterpolargl\": [{\"marker\": {\"colorbar\": {\"outlinewidth\": 0, \"ticks\": \"\"}}, \"type\": \"scatterpolargl\"}], \"scatterternary\": [{\"marker\": {\"colorbar\": {\"outlinewidth\": 0, \"ticks\": \"\"}}, \"type\": \"scatterternary\"}], \"surface\": [{\"colorbar\": {\"outlinewidth\": 0, \"ticks\": \"\"}, \"colorscale\": [[0.0, \"#0d0887\"], [0.1111111111111111, \"#46039f\"], [0.2222222222222222, \"#7201a8\"], [0.3333333333333333, \"#9c179e\"], [0.4444444444444444, \"#bd3786\"], [0.5555555555555556, \"#d8576b\"], [0.6666666666666666, \"#ed7953\"], [0.7777777777777778, \"#fb9f3a\"], [0.8888888888888888, \"#fdca26\"], [1.0, \"#f0f921\"]], \"type\": \"surface\"}], \"table\": [{\"cells\": {\"fill\": {\"color\": \"#EBF0F8\"}, \"line\": {\"color\": \"white\"}}, \"header\": {\"fill\": {\"color\": \"#C8D4E3\"}, \"line\": {\"color\": \"white\"}}, \"type\": \"table\"}]}, \"layout\": {\"annotationdefaults\": {\"arrowcolor\": \"#2a3f5f\", \"arrowhead\": 0, \"arrowwidth\": 1}, \"autotypenumbers\": \"strict\", \"coloraxis\": {\"colorbar\": {\"outlinewidth\": 0, \"ticks\": \"\"}}, \"colorscale\": {\"diverging\": [[0, \"#8e0152\"], [0.1, \"#c51b7d\"], [0.2, \"#de77ae\"], [0.3, \"#f1b6da\"], [0.4, \"#fde0ef\"], [0.5, \"#f7f7f7\"], [0.6, \"#e6f5d0\"], [0.7, \"#b8e186\"], [0.8, \"#7fbc41\"], [0.9, \"#4d9221\"], [1, \"#276419\"]], \"sequential\": [[0.0, \"#0d0887\"], [0.1111111111111111, \"#46039f\"], [0.2222222222222222, \"#7201a8\"], [0.3333333333333333, \"#9c179e\"], [0.4444444444444444, \"#bd3786\"], [0.5555555555555556, \"#d8576b\"], [0.6666666666666666, \"#ed7953\"], [0.7777777777777778, \"#fb9f3a\"], [0.8888888888888888, \"#fdca26\"], [1.0, \"#f0f921\"]], \"sequentialminus\": [[0.0, \"#0d0887\"], [0.1111111111111111, \"#46039f\"], [0.2222222222222222, \"#7201a8\"], [0.3333333333333333, \"#9c179e\"], [0.4444444444444444, \"#bd3786\"], [0.5555555555555556, \"#d8576b\"], [0.6666666666666666, \"#ed7953\"], [0.7777777777777778, \"#fb9f3a\"], [0.8888888888888888, \"#fdca26\"], [1.0, \"#f0f921\"]]}, \"colorway\": [\"#636efa\", \"#EF553B\", \"#00cc96\", \"#ab63fa\", \"#FFA15A\", \"#19d3f3\", \"#FF6692\", \"#B6E880\", \"#FF97FF\", \"#FECB52\"], \"font\": {\"color\": \"#2a3f5f\"}, \"geo\": {\"bgcolor\": \"white\", \"lakecolor\": \"white\", \"landcolor\": \"#E5ECF6\", \"showlakes\": true, \"showland\": true, \"subunitcolor\": \"white\"}, \"hoverlabel\": {\"align\": \"left\"}, \"hovermode\": \"closest\", \"mapbox\": {\"style\": \"light\"}, \"paper_bgcolor\": \"white\", \"plot_bgcolor\": \"#E5ECF6\", \"polar\": {\"angularaxis\": {\"gridcolor\": \"white\", \"linecolor\": \"white\", \"ticks\": \"\"}, \"bgcolor\": \"#E5ECF6\", \"radialaxis\": {\"gridcolor\": \"white\", \"linecolor\": \"white\", \"ticks\": \"\"}}, \"scene\": {\"xaxis\": {\"backgroundcolor\": \"#E5ECF6\", \"gridcolor\": \"white\", \"gridwidth\": 2, \"linecolor\": \"white\", \"showbackground\": true, \"ticks\": \"\", \"zerolinecolor\": \"white\"}, \"yaxis\": {\"backgroundcolor\": \"#E5ECF6\", \"gridcolor\": \"white\", \"gridwidth\": 2, \"linecolor\": \"white\", \"showbackground\": true, \"ticks\": \"\", \"zerolinecolor\": \"white\"}, \"zaxis\": {\"backgroundcolor\": \"#E5ECF6\", \"gridcolor\": \"white\", \"gridwidth\": 2, \"linecolor\": \"white\", \"showbackground\": true, \"ticks\": \"\", \"zerolinecolor\": \"white\"}}, \"shapedefaults\": {\"line\": {\"color\": \"#2a3f5f\"}}, \"ternary\": {\"aaxis\": {\"gridcolor\": \"white\", \"linecolor\": \"white\", \"ticks\": \"\"}, \"baxis\": {\"gridcolor\": \"white\", \"linecolor\": \"white\", \"ticks\": \"\"}, \"bgcolor\": \"#E5ECF6\", \"caxis\": {\"gridcolor\": \"white\", \"linecolor\": \"white\", \"ticks\": \"\"}}, \"title\": {\"x\": 0.05}, \"xaxis\": {\"automargin\": true, \"gridcolor\": \"white\", \"linecolor\": \"white\", \"ticks\": \"\", \"title\": {\"standoff\": 15}, \"zerolinecolor\": \"white\", \"zerolinewidth\": 2}, \"yaxis\": {\"automargin\": true, \"gridcolor\": \"white\", \"linecolor\": \"white\", \"ticks\": \"\", \"title\": {\"standoff\": 15}, \"zerolinecolor\": \"white\", \"zerolinewidth\": 2}}}, \"title\": {\"font\": {\"size\": 20}, \"pad\": {\"t\": 3}, \"text\": \"Consumo de cerveja com rela\\u00e7\\u00e3o a precipita\\u00e7\\u00e3o\"}, \"width\": 1000, \"xaxis\": {\"title\": {\"font\": {\"size\": 18}, \"text\": \"Precipitacao (mm)\"}}, \"yaxis\": {\"title\": {\"font\": {\"size\": 18}, \"text\": \"Consumo(L)\"}}},                        {\"responsive\": true}                    ).then(function(){\n",
       "                            \n",
       "var gd = document.getElementById('a7ed3226-0641-498f-8cb3-9e5cdbda94bc');\n",
       "var x = new MutationObserver(function (mutations, observer) {{\n",
       "        var display = window.getComputedStyle(gd).display;\n",
       "        if (!display || display === 'none') {{\n",
       "            console.log([gd, 'removed!']);\n",
       "            Plotly.purge(gd);\n",
       "            observer.disconnect();\n",
       "        }}\n",
       "}});\n",
       "\n",
       "// Listen for the removal of the full notebook cells\n",
       "var notebookContainer = gd.closest('#notebook-container');\n",
       "if (notebookContainer) {{\n",
       "    x.observe(notebookContainer, {childList: true});\n",
       "}}\n",
       "\n",
       "// Listen for the clearing of the current output cell\n",
       "var outputEl = gd.closest('.output');\n",
       "if (outputEl) {{\n",
       "    x.observe(outputEl, {childList: true});\n",
       "}}\n",
       "\n",
       "                        })                };                });            </script>        </div>"
      ]
     },
     "metadata": {},
     "output_type": "display_data"
    }
   ],
   "source": [
    "fig=go.Figure()\n",
    "fig.add_trace(go.Scatter(x = df['Precipitacao (mm)'], y = df['Consumo de cerveja (litros)'], \n",
    "                         mode=\"markers\",marker_color='deepskyblue'))\n",
    "fig.update_layout(title = 'Consumo de cerveja com relação a precipitação',\n",
    "                  title_font_size=20,title_pad_t=3,xaxis_title='Precipitacao (mm)', yaxis_title='Consumo(L)',\n",
    "                  margin = dict(autoexpand=False),\n",
    "             showlegend=False, plot_bgcolor='white',legend=dict(\n",
    "    orientation=\"h\",\n",
    "    yanchor=\"bottom\",\n",
    "    y=1.02,\n",
    "    xanchor=\"right\",\n",
    "    x=1\n",
    "),barmode='group')\n",
    "fig.update_layout(\n",
    "    autosize=False,\n",
    "    width=1000,\n",
    "    height=600,\n",
    "    paper_bgcolor=\"white\")\n",
    "fig.update_xaxes(title_font_size=18)\n",
    "fig.update_yaxes(title_font_size=18)\n",
    "\n",
    "fig"
   ]
  },
  {
   "cell_type": "markdown",
   "metadata": {},
   "source": [
    "<p style=\"text-align: justify\">Como pode ser observado no gráfico acima, a maior parte do consumo de cerveja ocorreu quando não houve chuva (0mm). Além disso, a medida que a precipitação aumentou houve uma tendência a declínio do consumo de cerveja. Além disso, é possível que haja também um comportamento de maior consumo de cerveja aos finais de semana, visto que as pessoas normalmente não trabalham nesses dias. Abaixo segue o gráfico:</p>"
   ]
  },
  {
   "cell_type": "code",
   "execution_count": 36,
   "metadata": {},
   "outputs": [
    {
     "data": {
      "application/vnd.plotly.v1+json": {
       "config": {
        "plotlyServerURL": "https://plot.ly"
       },
       "data": [
        {
         "marker": {
          "color": "deepskyblue"
         },
         "type": "box",
         "x": [
          0,
          0,
          1,
          1,
          0,
          0,
          0,
          0,
          0,
          1,
          1,
          0,
          0,
          0,
          0,
          0,
          1,
          1,
          0,
          0,
          0,
          0,
          0,
          1,
          1,
          0,
          0,
          0,
          0,
          0,
          1,
          1,
          0,
          0,
          0,
          0,
          0,
          1,
          1,
          0,
          0,
          0,
          0,
          0,
          1,
          1,
          0,
          0,
          0,
          0,
          0,
          1,
          1,
          0,
          0,
          0,
          0,
          0,
          1,
          1,
          0,
          0,
          0,
          0,
          0,
          1,
          1,
          0,
          0,
          0,
          0,
          0,
          1,
          1,
          0,
          0,
          0,
          0,
          0,
          1,
          1,
          0,
          0,
          0,
          0,
          0,
          1,
          1,
          0,
          0,
          0,
          0,
          0,
          1,
          1,
          0,
          0,
          0,
          0,
          0,
          1,
          1,
          0,
          0,
          0,
          0,
          0,
          1,
          1,
          0,
          0,
          0,
          0,
          0,
          1,
          1,
          0,
          0,
          0,
          0,
          0,
          1,
          1,
          0,
          0,
          0,
          0,
          0,
          1,
          1,
          0,
          0,
          0,
          0,
          0,
          1,
          1,
          0,
          0,
          0,
          0,
          0,
          1,
          1,
          0,
          0,
          0,
          0,
          0,
          1,
          1,
          0,
          0,
          0,
          0,
          0,
          1,
          1,
          0,
          0,
          0,
          0,
          0,
          1,
          1,
          0,
          0,
          0,
          0,
          0,
          1,
          1,
          0,
          0,
          0,
          0,
          0,
          1,
          1,
          0,
          0,
          0,
          0,
          0,
          1,
          1,
          0,
          0,
          0,
          0,
          0,
          1,
          1,
          0,
          0,
          0,
          0,
          0,
          1,
          1,
          0,
          0,
          0,
          0,
          0,
          1,
          1,
          0,
          0,
          0,
          0,
          0,
          1,
          1,
          0,
          0,
          0,
          0,
          0,
          1,
          1,
          0,
          0,
          0,
          0,
          0,
          1,
          1,
          0,
          0,
          0,
          0,
          0,
          1,
          1,
          0,
          0,
          0,
          0,
          0,
          1,
          1,
          0,
          0,
          0,
          0,
          0,
          1,
          1,
          0,
          0,
          0,
          0,
          0,
          1,
          1,
          0,
          0,
          0,
          0,
          0,
          1,
          1,
          0,
          0,
          0,
          0,
          0,
          1,
          1,
          0,
          0,
          0,
          0,
          0,
          1,
          1,
          0,
          0,
          0,
          0,
          0,
          1,
          1,
          0,
          0,
          0,
          0,
          0,
          1,
          1,
          0,
          0,
          0,
          0,
          0,
          1,
          1,
          0,
          0,
          0,
          0,
          0,
          1,
          1,
          0,
          0,
          0,
          0,
          0,
          1,
          1,
          0,
          0,
          0,
          0,
          0,
          1,
          1,
          0,
          0,
          0,
          0,
          0,
          1,
          1,
          0,
          0,
          0,
          0,
          0,
          1,
          1,
          0,
          0,
          0,
          0,
          0,
          1,
          1,
          0,
          0,
          0,
          0,
          0,
          1,
          1,
          0,
          0,
          0,
          0,
          0,
          1,
          1,
          0,
          0,
          0,
          0,
          0,
          1,
          1,
          0,
          0,
          0,
          0
         ],
         "y": [
          25.461,
          28.971999999999998,
          30.814,
          29.799,
          28.9,
          28.218000000000004,
          29.732,
          28.397,
          24.886,
          37.937,
          36.254,
          25.743000000000002,
          26.99,
          31.825,
          25.724,
          29.938000000000002,
          37.69,
          30.524,
          29.265,
          35.126999999999995,
          29.13,
          25.795,
          21.784000000000002,
          28.348000000000003,
          31.088,
          21.52,
          29.971999999999998,
          22.603,
          22.695999999999998,
          26.845,
          27.03,
          32.056999999999995,
          24.096999999999998,
          31.655,
          24.738000000000003,
          19.95,
          22.820999999999998,
          28.893,
          29.926,
          24.061999999999998,
          21.136999999999997,
          26.805,
          26.389,
          24.219,
          30.230999999999998,
          24.968000000000004,
          25.343000000000004,
          17.399,
          21.392,
          22.921999999999997,
          24.566999999999997,
          30.943,
          30.825,
          25.691999999999997,
          26.959,
          25.366,
          22.784000000000002,
          26.241,
          26.467,
          27.475,
          28.749000000000002,
          24.146,
          22.988000000000003,
          30.3,
          22.654,
          29.09,
          24.619,
          20.016,
          23.041999999999998,
          22.933000000000003,
          22.409000000000002,
          21.281,
          28.844,
          32.872,
          20.903000000000002,
          26.275,
          20.167,
          23.628,
          24.213,
          28.631,
          25.855,
          21.406,
          21.616999999999997,
          22.401,
          27.989,
          24.974,
          29.76,
          26.116,
          25.85,
          24.925,
          21.979,
          22.116,
          24.866999999999997,
          33.45,
          32.713,
          22.355999999999998,
          21.004,
          23.362,
          20.298,
          24.862,
          30.505,
          25.07,
          22.62,
          22.000999999999998,
          23.469,
          21.735,
          21.593000000000004,
          33.821999999999996,
          28.028000000000002,
          24.304000000000002,
          31.108,
          19.113,
          23.198,
          24.388,
          27.42,
          30.479,
          21.838,
          20.811999999999998,
          19.761,
          20.452,
          17.939,
          25.272,
          28.049,
          25.316999999999997,
          21.826,
          20.68,
          19.143,
          18.146,
          25.489,
          23.537,
          16.956,
          19.052,
          17.287,
          20.3,
          20.538,
          23.701999999999998,
          28.410999999999998,
          21.073,
          24.215,
          19.525,
          20.785999999999998,
          20.429000000000002,
          27.25,
          31.386999999999997,
          26.075,
          22.162,
          24.258000000000003,
          24.683000000000003,
          21.245,
          25.936999999999998,
          26.081,
          16.227999999999998,
          20.105999999999998,
          21.055,
          22.772,
          25.142,
          31.129,
          30.498,
          26.15,
          21.326999999999998,
          22.008000000000003,
          24.615,
          22.375,
          29.607,
          32.983000000000004,
          19.119,
          21.029,
          23.898000000000003,
          24.534000000000002,
          16.748,
          23.055,
          28.857,
          23.022,
          27.146,
          17.241,
          19.463,
          21.86,
          24.226999999999997,
          27.594,
          24.863000000000003,
          20.160999999999998,
          20.824,
          19.727,
          14.94,
          24.631999999999998,
          21.294,
          18.448,
          21.237,
          19.849,
          20.74,
          25.698,
          26.691,
          33.298,
          25.64,
          23.936999999999998,
          28.741999999999997,
          21.748,
          22.031999999999996,
          24.826999999999998,
          32.473,
          20.62,
          21.825,
          14.343,
          19.029,
          21.104,
          20.738000000000003,
          25.233,
          18.975,
          19.64,
          22.522,
          24.226999999999997,
          24.726,
          32.467,
          31.663,
          25.866999999999997,
          27.724,
          22.039,
          26.127,
          26.58,
          31.31,
          33.516999999999996,
          23.180999999999997,
          24.183000000000003,
          24.594,
          22.61,
          25.479,
          29.621,
          26.272,
          22.541,
          23.07,
          26.021,
          17.655,
          23.243000000000002,
          30.177,
          27.518,
          23.21,
          21.092,
          23.357,
          17.887999999999998,
          22.217,
          31.680999999999997,
          31.833000000000002,
          28.441,
          22.389,
          20.680999999999997,
          24.221999999999998,
          19.345,
          21.826999999999998,
          23.566,
          20.227,
          17.075,
          16.977,
          21.525,
          21.454,
          21.814,
          21.252,
          20.464000000000002,
          30.775,
          25.343000000000004,
          33.93,
          26.311,
          31.836,
          34.695,
          29.829,
          26.362,
          32.589,
          30.345,
          29.410999999999998,
          29.636999999999997,
          32.184,
          17.730999999999998,
          24.114,
          28.034000000000002,
          22.664,
          27.488000000000003,
          24.875999999999998,
          24.862,
          24.679000000000002,
          22.304000000000002,
          30.329,
          33.181999999999995,
          23.849,
          33.33,
          34.496,
          26.249000000000002,
          26.523000000000003,
          26.793000000000003,
          35.861,
          27.386999999999997,
          32.666,
          22.199,
          24,
          27.871,
          31.139,
          23.065,
          26.594,
          27.656999999999996,
          26.594,
          28.084,
          27.581999999999997,
          24.862,
          22.634,
          31.649,
          35.781,
          24.429000000000002,
          20.648000000000003,
          22.741,
          21.479,
          23.134,
          20.575,
          24.33,
          28.61,
          28.456,
          27.964000000000002,
          29.569000000000003,
          29.267,
          28.647,
          26.836,
          29.386,
          24.609,
          26.964000000000002,
          23.614,
          22.96,
          20.332,
          30.392,
          31.933000000000003,
          21.662,
          21.689,
          25.119,
          25.285,
          28.979,
          34.382,
          30.616999999999997,
          20.238,
          24.529,
          30.471,
          28.405,
          29.513,
          32.451,
          32.78,
          23.375,
          27.713,
          27.136999999999997,
          22.933000000000003,
          30.74,
          29.579,
          29.188000000000002,
          28.131,
          28.616999999999997,
          21.061999999999998,
          24.337,
          27.041999999999998,
          32.536,
          30.127,
          24.834,
          26.828000000000003,
          26.468000000000004,
          31.572,
          26.308000000000003,
          21.955,
          32.306999999999995,
          26.095,
          22.309,
          20.467,
          22.445999999999998
         ]
        }
       ],
       "layout": {
        "autosize": false,
        "barmode": "group",
        "height": 600,
        "legend": {
         "orientation": "h",
         "x": 1,
         "xanchor": "right",
         "y": 1.02,
         "yanchor": "bottom"
        },
        "margin": {
         "autoexpand": false
        },
        "paper_bgcolor": "white",
        "plot_bgcolor": "white",
        "showlegend": false,
        "template": {
         "data": {
          "bar": [
           {
            "error_x": {
             "color": "#2a3f5f"
            },
            "error_y": {
             "color": "#2a3f5f"
            },
            "marker": {
             "line": {
              "color": "#E5ECF6",
              "width": 0.5
             }
            },
            "type": "bar"
           }
          ],
          "barpolar": [
           {
            "marker": {
             "line": {
              "color": "#E5ECF6",
              "width": 0.5
             }
            },
            "type": "barpolar"
           }
          ],
          "carpet": [
           {
            "aaxis": {
             "endlinecolor": "#2a3f5f",
             "gridcolor": "white",
             "linecolor": "white",
             "minorgridcolor": "white",
             "startlinecolor": "#2a3f5f"
            },
            "baxis": {
             "endlinecolor": "#2a3f5f",
             "gridcolor": "white",
             "linecolor": "white",
             "minorgridcolor": "white",
             "startlinecolor": "#2a3f5f"
            },
            "type": "carpet"
           }
          ],
          "choropleth": [
           {
            "colorbar": {
             "outlinewidth": 0,
             "ticks": ""
            },
            "type": "choropleth"
           }
          ],
          "contour": [
           {
            "colorbar": {
             "outlinewidth": 0,
             "ticks": ""
            },
            "colorscale": [
             [
              0,
              "#0d0887"
             ],
             [
              0.1111111111111111,
              "#46039f"
             ],
             [
              0.2222222222222222,
              "#7201a8"
             ],
             [
              0.3333333333333333,
              "#9c179e"
             ],
             [
              0.4444444444444444,
              "#bd3786"
             ],
             [
              0.5555555555555556,
              "#d8576b"
             ],
             [
              0.6666666666666666,
              "#ed7953"
             ],
             [
              0.7777777777777778,
              "#fb9f3a"
             ],
             [
              0.8888888888888888,
              "#fdca26"
             ],
             [
              1,
              "#f0f921"
             ]
            ],
            "type": "contour"
           }
          ],
          "contourcarpet": [
           {
            "colorbar": {
             "outlinewidth": 0,
             "ticks": ""
            },
            "type": "contourcarpet"
           }
          ],
          "heatmap": [
           {
            "colorbar": {
             "outlinewidth": 0,
             "ticks": ""
            },
            "colorscale": [
             [
              0,
              "#0d0887"
             ],
             [
              0.1111111111111111,
              "#46039f"
             ],
             [
              0.2222222222222222,
              "#7201a8"
             ],
             [
              0.3333333333333333,
              "#9c179e"
             ],
             [
              0.4444444444444444,
              "#bd3786"
             ],
             [
              0.5555555555555556,
              "#d8576b"
             ],
             [
              0.6666666666666666,
              "#ed7953"
             ],
             [
              0.7777777777777778,
              "#fb9f3a"
             ],
             [
              0.8888888888888888,
              "#fdca26"
             ],
             [
              1,
              "#f0f921"
             ]
            ],
            "type": "heatmap"
           }
          ],
          "heatmapgl": [
           {
            "colorbar": {
             "outlinewidth": 0,
             "ticks": ""
            },
            "colorscale": [
             [
              0,
              "#0d0887"
             ],
             [
              0.1111111111111111,
              "#46039f"
             ],
             [
              0.2222222222222222,
              "#7201a8"
             ],
             [
              0.3333333333333333,
              "#9c179e"
             ],
             [
              0.4444444444444444,
              "#bd3786"
             ],
             [
              0.5555555555555556,
              "#d8576b"
             ],
             [
              0.6666666666666666,
              "#ed7953"
             ],
             [
              0.7777777777777778,
              "#fb9f3a"
             ],
             [
              0.8888888888888888,
              "#fdca26"
             ],
             [
              1,
              "#f0f921"
             ]
            ],
            "type": "heatmapgl"
           }
          ],
          "histogram": [
           {
            "marker": {
             "colorbar": {
              "outlinewidth": 0,
              "ticks": ""
             }
            },
            "type": "histogram"
           }
          ],
          "histogram2d": [
           {
            "colorbar": {
             "outlinewidth": 0,
             "ticks": ""
            },
            "colorscale": [
             [
              0,
              "#0d0887"
             ],
             [
              0.1111111111111111,
              "#46039f"
             ],
             [
              0.2222222222222222,
              "#7201a8"
             ],
             [
              0.3333333333333333,
              "#9c179e"
             ],
             [
              0.4444444444444444,
              "#bd3786"
             ],
             [
              0.5555555555555556,
              "#d8576b"
             ],
             [
              0.6666666666666666,
              "#ed7953"
             ],
             [
              0.7777777777777778,
              "#fb9f3a"
             ],
             [
              0.8888888888888888,
              "#fdca26"
             ],
             [
              1,
              "#f0f921"
             ]
            ],
            "type": "histogram2d"
           }
          ],
          "histogram2dcontour": [
           {
            "colorbar": {
             "outlinewidth": 0,
             "ticks": ""
            },
            "colorscale": [
             [
              0,
              "#0d0887"
             ],
             [
              0.1111111111111111,
              "#46039f"
             ],
             [
              0.2222222222222222,
              "#7201a8"
             ],
             [
              0.3333333333333333,
              "#9c179e"
             ],
             [
              0.4444444444444444,
              "#bd3786"
             ],
             [
              0.5555555555555556,
              "#d8576b"
             ],
             [
              0.6666666666666666,
              "#ed7953"
             ],
             [
              0.7777777777777778,
              "#fb9f3a"
             ],
             [
              0.8888888888888888,
              "#fdca26"
             ],
             [
              1,
              "#f0f921"
             ]
            ],
            "type": "histogram2dcontour"
           }
          ],
          "mesh3d": [
           {
            "colorbar": {
             "outlinewidth": 0,
             "ticks": ""
            },
            "type": "mesh3d"
           }
          ],
          "parcoords": [
           {
            "line": {
             "colorbar": {
              "outlinewidth": 0,
              "ticks": ""
             }
            },
            "type": "parcoords"
           }
          ],
          "pie": [
           {
            "automargin": true,
            "type": "pie"
           }
          ],
          "scatter": [
           {
            "marker": {
             "colorbar": {
              "outlinewidth": 0,
              "ticks": ""
             }
            },
            "type": "scatter"
           }
          ],
          "scatter3d": [
           {
            "line": {
             "colorbar": {
              "outlinewidth": 0,
              "ticks": ""
             }
            },
            "marker": {
             "colorbar": {
              "outlinewidth": 0,
              "ticks": ""
             }
            },
            "type": "scatter3d"
           }
          ],
          "scattercarpet": [
           {
            "marker": {
             "colorbar": {
              "outlinewidth": 0,
              "ticks": ""
             }
            },
            "type": "scattercarpet"
           }
          ],
          "scattergeo": [
           {
            "marker": {
             "colorbar": {
              "outlinewidth": 0,
              "ticks": ""
             }
            },
            "type": "scattergeo"
           }
          ],
          "scattergl": [
           {
            "marker": {
             "colorbar": {
              "outlinewidth": 0,
              "ticks": ""
             }
            },
            "type": "scattergl"
           }
          ],
          "scattermapbox": [
           {
            "marker": {
             "colorbar": {
              "outlinewidth": 0,
              "ticks": ""
             }
            },
            "type": "scattermapbox"
           }
          ],
          "scatterpolar": [
           {
            "marker": {
             "colorbar": {
              "outlinewidth": 0,
              "ticks": ""
             }
            },
            "type": "scatterpolar"
           }
          ],
          "scatterpolargl": [
           {
            "marker": {
             "colorbar": {
              "outlinewidth": 0,
              "ticks": ""
             }
            },
            "type": "scatterpolargl"
           }
          ],
          "scatterternary": [
           {
            "marker": {
             "colorbar": {
              "outlinewidth": 0,
              "ticks": ""
             }
            },
            "type": "scatterternary"
           }
          ],
          "surface": [
           {
            "colorbar": {
             "outlinewidth": 0,
             "ticks": ""
            },
            "colorscale": [
             [
              0,
              "#0d0887"
             ],
             [
              0.1111111111111111,
              "#46039f"
             ],
             [
              0.2222222222222222,
              "#7201a8"
             ],
             [
              0.3333333333333333,
              "#9c179e"
             ],
             [
              0.4444444444444444,
              "#bd3786"
             ],
             [
              0.5555555555555556,
              "#d8576b"
             ],
             [
              0.6666666666666666,
              "#ed7953"
             ],
             [
              0.7777777777777778,
              "#fb9f3a"
             ],
             [
              0.8888888888888888,
              "#fdca26"
             ],
             [
              1,
              "#f0f921"
             ]
            ],
            "type": "surface"
           }
          ],
          "table": [
           {
            "cells": {
             "fill": {
              "color": "#EBF0F8"
             },
             "line": {
              "color": "white"
             }
            },
            "header": {
             "fill": {
              "color": "#C8D4E3"
             },
             "line": {
              "color": "white"
             }
            },
            "type": "table"
           }
          ]
         },
         "layout": {
          "annotationdefaults": {
           "arrowcolor": "#2a3f5f",
           "arrowhead": 0,
           "arrowwidth": 1
          },
          "autotypenumbers": "strict",
          "coloraxis": {
           "colorbar": {
            "outlinewidth": 0,
            "ticks": ""
           }
          },
          "colorscale": {
           "diverging": [
            [
             0,
             "#8e0152"
            ],
            [
             0.1,
             "#c51b7d"
            ],
            [
             0.2,
             "#de77ae"
            ],
            [
             0.3,
             "#f1b6da"
            ],
            [
             0.4,
             "#fde0ef"
            ],
            [
             0.5,
             "#f7f7f7"
            ],
            [
             0.6,
             "#e6f5d0"
            ],
            [
             0.7,
             "#b8e186"
            ],
            [
             0.8,
             "#7fbc41"
            ],
            [
             0.9,
             "#4d9221"
            ],
            [
             1,
             "#276419"
            ]
           ],
           "sequential": [
            [
             0,
             "#0d0887"
            ],
            [
             0.1111111111111111,
             "#46039f"
            ],
            [
             0.2222222222222222,
             "#7201a8"
            ],
            [
             0.3333333333333333,
             "#9c179e"
            ],
            [
             0.4444444444444444,
             "#bd3786"
            ],
            [
             0.5555555555555556,
             "#d8576b"
            ],
            [
             0.6666666666666666,
             "#ed7953"
            ],
            [
             0.7777777777777778,
             "#fb9f3a"
            ],
            [
             0.8888888888888888,
             "#fdca26"
            ],
            [
             1,
             "#f0f921"
            ]
           ],
           "sequentialminus": [
            [
             0,
             "#0d0887"
            ],
            [
             0.1111111111111111,
             "#46039f"
            ],
            [
             0.2222222222222222,
             "#7201a8"
            ],
            [
             0.3333333333333333,
             "#9c179e"
            ],
            [
             0.4444444444444444,
             "#bd3786"
            ],
            [
             0.5555555555555556,
             "#d8576b"
            ],
            [
             0.6666666666666666,
             "#ed7953"
            ],
            [
             0.7777777777777778,
             "#fb9f3a"
            ],
            [
             0.8888888888888888,
             "#fdca26"
            ],
            [
             1,
             "#f0f921"
            ]
           ]
          },
          "colorway": [
           "#636efa",
           "#EF553B",
           "#00cc96",
           "#ab63fa",
           "#FFA15A",
           "#19d3f3",
           "#FF6692",
           "#B6E880",
           "#FF97FF",
           "#FECB52"
          ],
          "font": {
           "color": "#2a3f5f"
          },
          "geo": {
           "bgcolor": "white",
           "lakecolor": "white",
           "landcolor": "#E5ECF6",
           "showlakes": true,
           "showland": true,
           "subunitcolor": "white"
          },
          "hoverlabel": {
           "align": "left"
          },
          "hovermode": "closest",
          "mapbox": {
           "style": "light"
          },
          "paper_bgcolor": "white",
          "plot_bgcolor": "#E5ECF6",
          "polar": {
           "angularaxis": {
            "gridcolor": "white",
            "linecolor": "white",
            "ticks": ""
           },
           "bgcolor": "#E5ECF6",
           "radialaxis": {
            "gridcolor": "white",
            "linecolor": "white",
            "ticks": ""
           }
          },
          "scene": {
           "xaxis": {
            "backgroundcolor": "#E5ECF6",
            "gridcolor": "white",
            "gridwidth": 2,
            "linecolor": "white",
            "showbackground": true,
            "ticks": "",
            "zerolinecolor": "white"
           },
           "yaxis": {
            "backgroundcolor": "#E5ECF6",
            "gridcolor": "white",
            "gridwidth": 2,
            "linecolor": "white",
            "showbackground": true,
            "ticks": "",
            "zerolinecolor": "white"
           },
           "zaxis": {
            "backgroundcolor": "#E5ECF6",
            "gridcolor": "white",
            "gridwidth": 2,
            "linecolor": "white",
            "showbackground": true,
            "ticks": "",
            "zerolinecolor": "white"
           }
          },
          "shapedefaults": {
           "line": {
            "color": "#2a3f5f"
           }
          },
          "ternary": {
           "aaxis": {
            "gridcolor": "white",
            "linecolor": "white",
            "ticks": ""
           },
           "baxis": {
            "gridcolor": "white",
            "linecolor": "white",
            "ticks": ""
           },
           "bgcolor": "#E5ECF6",
           "caxis": {
            "gridcolor": "white",
            "linecolor": "white",
            "ticks": ""
           }
          },
          "title": {
           "x": 0.05
          },
          "xaxis": {
           "automargin": true,
           "gridcolor": "white",
           "linecolor": "white",
           "ticks": "",
           "title": {
            "standoff": 15
           },
           "zerolinecolor": "white",
           "zerolinewidth": 2
          },
          "yaxis": {
           "automargin": true,
           "gridcolor": "white",
           "linecolor": "white",
           "ticks": "",
           "title": {
            "standoff": 15
           },
           "zerolinecolor": "white",
           "zerolinewidth": 2
          }
         }
        },
        "title": {
         "font": {
          "size": 20
         },
         "pad": {
          "t": 3
         },
         "text": "Consumo de cerveja com relação e finais de semana"
        },
        "width": 1000,
        "xaxis": {
         "title": {
          "font": {
           "size": 18
          },
          "text": "Final de Semana"
         }
        },
        "yaxis": {
         "title": {
          "font": {
           "size": 18
          },
          "text": "Consumo(L)"
         }
        }
       }
      },
      "text/html": [
       "<div>                            <div id=\"e07df9a4-1406-4752-bd19-3cbf39d80052\" class=\"plotly-graph-div\" style=\"height:600px; width:1000px;\"></div>            <script type=\"text/javascript\">                require([\"plotly\"], function(Plotly) {                    window.PLOTLYENV=window.PLOTLYENV || {};                                    if (document.getElementById(\"e07df9a4-1406-4752-bd19-3cbf39d80052\")) {                    Plotly.newPlot(                        \"e07df9a4-1406-4752-bd19-3cbf39d80052\",                        [{\"marker\": {\"color\": \"deepskyblue\"}, \"type\": \"box\", \"x\": [0.0, 0.0, 1.0, 1.0, 0.0, 0.0, 0.0, 0.0, 0.0, 1.0, 1.0, 0.0, 0.0, 0.0, 0.0, 0.0, 1.0, 1.0, 0.0, 0.0, 0.0, 0.0, 0.0, 1.0, 1.0, 0.0, 0.0, 0.0, 0.0, 0.0, 1.0, 1.0, 0.0, 0.0, 0.0, 0.0, 0.0, 1.0, 1.0, 0.0, 0.0, 0.0, 0.0, 0.0, 1.0, 1.0, 0.0, 0.0, 0.0, 0.0, 0.0, 1.0, 1.0, 0.0, 0.0, 0.0, 0.0, 0.0, 1.0, 1.0, 0.0, 0.0, 0.0, 0.0, 0.0, 1.0, 1.0, 0.0, 0.0, 0.0, 0.0, 0.0, 1.0, 1.0, 0.0, 0.0, 0.0, 0.0, 0.0, 1.0, 1.0, 0.0, 0.0, 0.0, 0.0, 0.0, 1.0, 1.0, 0.0, 0.0, 0.0, 0.0, 0.0, 1.0, 1.0, 0.0, 0.0, 0.0, 0.0, 0.0, 1.0, 1.0, 0.0, 0.0, 0.0, 0.0, 0.0, 1.0, 1.0, 0.0, 0.0, 0.0, 0.0, 0.0, 1.0, 1.0, 0.0, 0.0, 0.0, 0.0, 0.0, 1.0, 1.0, 0.0, 0.0, 0.0, 0.0, 0.0, 1.0, 1.0, 0.0, 0.0, 0.0, 0.0, 0.0, 1.0, 1.0, 0.0, 0.0, 0.0, 0.0, 0.0, 1.0, 1.0, 0.0, 0.0, 0.0, 0.0, 0.0, 1.0, 1.0, 0.0, 0.0, 0.0, 0.0, 0.0, 1.0, 1.0, 0.0, 0.0, 0.0, 0.0, 0.0, 1.0, 1.0, 0.0, 0.0, 0.0, 0.0, 0.0, 1.0, 1.0, 0.0, 0.0, 0.0, 0.0, 0.0, 1.0, 1.0, 0.0, 0.0, 0.0, 0.0, 0.0, 1.0, 1.0, 0.0, 0.0, 0.0, 0.0, 0.0, 1.0, 1.0, 0.0, 0.0, 0.0, 0.0, 0.0, 1.0, 1.0, 0.0, 0.0, 0.0, 0.0, 0.0, 1.0, 1.0, 0.0, 0.0, 0.0, 0.0, 0.0, 1.0, 1.0, 0.0, 0.0, 0.0, 0.0, 0.0, 1.0, 1.0, 0.0, 0.0, 0.0, 0.0, 0.0, 1.0, 1.0, 0.0, 0.0, 0.0, 0.0, 0.0, 1.0, 1.0, 0.0, 0.0, 0.0, 0.0, 0.0, 1.0, 1.0, 0.0, 0.0, 0.0, 0.0, 0.0, 1.0, 1.0, 0.0, 0.0, 0.0, 0.0, 0.0, 1.0, 1.0, 0.0, 0.0, 0.0, 0.0, 0.0, 1.0, 1.0, 0.0, 0.0, 0.0, 0.0, 0.0, 1.0, 1.0, 0.0, 0.0, 0.0, 0.0, 0.0, 1.0, 1.0, 0.0, 0.0, 0.0, 0.0, 0.0, 1.0, 1.0, 0.0, 0.0, 0.0, 0.0, 0.0, 1.0, 1.0, 0.0, 0.0, 0.0, 0.0, 0.0, 1.0, 1.0, 0.0, 0.0, 0.0, 0.0, 0.0, 1.0, 1.0, 0.0, 0.0, 0.0, 0.0, 0.0, 1.0, 1.0, 0.0, 0.0, 0.0, 0.0, 0.0, 1.0, 1.0, 0.0, 0.0, 0.0, 0.0, 0.0, 1.0, 1.0, 0.0, 0.0, 0.0, 0.0, 0.0, 1.0, 1.0, 0.0, 0.0, 0.0, 0.0, 0.0, 1.0, 1.0, 0.0, 0.0, 0.0, 0.0, 0.0, 1.0, 1.0, 0.0, 0.0, 0.0, 0.0, 0.0, 1.0, 1.0, 0.0, 0.0, 0.0, 0.0, 0.0, 1.0, 1.0, 0.0, 0.0, 0.0, 0.0], \"y\": [25.461, 28.971999999999998, 30.814, 29.799, 28.9, 28.218000000000004, 29.732, 28.397, 24.886, 37.937, 36.254, 25.743000000000002, 26.99, 31.825, 25.724, 29.938000000000002, 37.69, 30.524, 29.265, 35.126999999999995, 29.13, 25.795, 21.784000000000002, 28.348000000000003, 31.088, 21.52, 29.971999999999998, 22.603, 22.695999999999998, 26.845, 27.03, 32.056999999999995, 24.096999999999998, 31.655, 24.738000000000003, 19.95, 22.820999999999998, 28.893, 29.926, 24.061999999999998, 21.136999999999997, 26.805, 26.389, 24.219, 30.230999999999998, 24.968000000000004, 25.343000000000004, 17.399, 21.392, 22.921999999999997, 24.566999999999997, 30.943, 30.825, 25.691999999999997, 26.959, 25.366, 22.784000000000002, 26.241, 26.467, 27.475, 28.749000000000002, 24.146, 22.988000000000003, 30.3, 22.654, 29.09, 24.619, 20.016, 23.041999999999998, 22.933000000000003, 22.409000000000002, 21.281, 28.844, 32.872, 20.903000000000002, 26.275, 20.167, 23.628, 24.213, 28.631, 25.855, 21.406, 21.616999999999997, 22.401, 27.989, 24.974, 29.76, 26.116, 25.85, 24.925, 21.979, 22.116, 24.866999999999997, 33.45, 32.713, 22.355999999999998, 21.004, 23.362, 20.298, 24.862, 30.505, 25.07, 22.62, 22.000999999999998, 23.469, 21.735, 21.593000000000004, 33.821999999999996, 28.028000000000002, 24.304000000000002, 31.108, 19.113, 23.198, 24.388, 27.42, 30.479, 21.838, 20.811999999999998, 19.761, 20.452, 17.939, 25.272, 28.049, 25.316999999999997, 21.826, 20.68, 19.143, 18.146, 25.489, 23.537, 16.956, 19.052, 17.287, 20.3, 20.538, 23.701999999999998, 28.410999999999998, 21.073, 24.215, 19.525, 20.785999999999998, 20.429000000000002, 27.25, 31.386999999999997, 26.075, 22.162, 24.258000000000003, 24.683000000000003, 21.245, 25.936999999999998, 26.081, 16.227999999999998, 20.105999999999998, 21.055, 22.772, 25.142, 31.129, 30.498, 26.15, 21.326999999999998, 22.008000000000003, 24.615, 22.375, 29.607, 32.983000000000004, 19.119, 21.029, 23.898000000000003, 24.534000000000002, 16.748, 23.055, 28.857, 23.022, 27.146, 17.241, 19.463, 21.86, 24.226999999999997, 27.594, 24.863000000000003, 20.160999999999998, 20.824, 19.727, 14.94, 24.631999999999998, 21.294, 18.448, 21.237, 19.849, 20.74, 25.698, 26.691, 33.298, 25.64, 23.936999999999998, 28.741999999999997, 21.748, 22.031999999999996, 24.826999999999998, 32.473, 20.62, 21.825, 14.343, 19.029, 21.104, 20.738000000000003, 25.233, 18.975, 19.64, 22.522, 24.226999999999997, 24.726, 32.467, 31.663, 25.866999999999997, 27.724, 22.039, 26.127, 26.58, 31.31, 33.516999999999996, 23.180999999999997, 24.183000000000003, 24.594, 22.61, 25.479, 29.621, 26.272, 22.541, 23.07, 26.021, 17.655, 23.243000000000002, 30.177, 27.518, 23.21, 21.092, 23.357, 17.887999999999998, 22.217, 31.680999999999997, 31.833000000000002, 28.441, 22.389, 20.680999999999997, 24.221999999999998, 19.345, 21.826999999999998, 23.566, 20.227, 17.075, 16.977, 21.525, 21.454, 21.814, 21.252, 20.464000000000002, 30.775, 25.343000000000004, 33.93, 26.311, 31.836, 34.695, 29.829, 26.362, 32.589, 30.345, 29.410999999999998, 29.636999999999997, 32.184, 17.730999999999998, 24.114, 28.034000000000002, 22.664, 27.488000000000003, 24.875999999999998, 24.862, 24.679000000000002, 22.304000000000002, 30.329, 33.181999999999995, 23.849, 33.33, 34.496, 26.249000000000002, 26.523000000000003, 26.793000000000003, 35.861, 27.386999999999997, 32.666, 22.199, 24.0, 27.871, 31.139, 23.065, 26.594, 27.656999999999996, 26.594, 28.084, 27.581999999999997, 24.862, 22.634, 31.649, 35.781, 24.429000000000002, 20.648000000000003, 22.741, 21.479, 23.134, 20.575, 24.33, 28.61, 28.456, 27.964000000000002, 29.569000000000003, 29.267, 28.647, 26.836, 29.386, 24.609, 26.964000000000002, 23.614, 22.96, 20.332, 30.392, 31.933000000000003, 21.662, 21.689, 25.119, 25.285, 28.979, 34.382, 30.616999999999997, 20.238, 24.529, 30.471, 28.405, 29.513, 32.451, 32.78, 23.375, 27.713, 27.136999999999997, 22.933000000000003, 30.74, 29.579, 29.188000000000002, 28.131, 28.616999999999997, 21.061999999999998, 24.337, 27.041999999999998, 32.536, 30.127, 24.834, 26.828000000000003, 26.468000000000004, 31.572, 26.308000000000003, 21.955, 32.306999999999995, 26.095, 22.309, 20.467, 22.445999999999998]}],                        {\"autosize\": false, \"barmode\": \"group\", \"height\": 600, \"legend\": {\"orientation\": \"h\", \"x\": 1, \"xanchor\": \"right\", \"y\": 1.02, \"yanchor\": \"bottom\"}, \"margin\": {\"autoexpand\": false}, \"paper_bgcolor\": \"white\", \"plot_bgcolor\": \"white\", \"showlegend\": false, \"template\": {\"data\": {\"bar\": [{\"error_x\": {\"color\": \"#2a3f5f\"}, \"error_y\": {\"color\": \"#2a3f5f\"}, \"marker\": {\"line\": {\"color\": \"#E5ECF6\", \"width\": 0.5}}, \"type\": \"bar\"}], \"barpolar\": [{\"marker\": {\"line\": {\"color\": \"#E5ECF6\", \"width\": 0.5}}, \"type\": \"barpolar\"}], \"carpet\": [{\"aaxis\": {\"endlinecolor\": \"#2a3f5f\", \"gridcolor\": \"white\", \"linecolor\": \"white\", \"minorgridcolor\": \"white\", \"startlinecolor\": \"#2a3f5f\"}, \"baxis\": {\"endlinecolor\": \"#2a3f5f\", \"gridcolor\": \"white\", \"linecolor\": \"white\", \"minorgridcolor\": \"white\", \"startlinecolor\": \"#2a3f5f\"}, \"type\": \"carpet\"}], \"choropleth\": [{\"colorbar\": {\"outlinewidth\": 0, \"ticks\": \"\"}, \"type\": \"choropleth\"}], \"contour\": [{\"colorbar\": {\"outlinewidth\": 0, \"ticks\": \"\"}, \"colorscale\": [[0.0, \"#0d0887\"], [0.1111111111111111, \"#46039f\"], [0.2222222222222222, \"#7201a8\"], [0.3333333333333333, \"#9c179e\"], [0.4444444444444444, \"#bd3786\"], [0.5555555555555556, \"#d8576b\"], [0.6666666666666666, \"#ed7953\"], [0.7777777777777778, \"#fb9f3a\"], [0.8888888888888888, \"#fdca26\"], [1.0, \"#f0f921\"]], \"type\": \"contour\"}], \"contourcarpet\": [{\"colorbar\": {\"outlinewidth\": 0, \"ticks\": \"\"}, \"type\": \"contourcarpet\"}], \"heatmap\": [{\"colorbar\": {\"outlinewidth\": 0, \"ticks\": \"\"}, \"colorscale\": [[0.0, \"#0d0887\"], [0.1111111111111111, \"#46039f\"], [0.2222222222222222, \"#7201a8\"], [0.3333333333333333, \"#9c179e\"], [0.4444444444444444, \"#bd3786\"], [0.5555555555555556, \"#d8576b\"], [0.6666666666666666, \"#ed7953\"], [0.7777777777777778, \"#fb9f3a\"], [0.8888888888888888, \"#fdca26\"], [1.0, \"#f0f921\"]], \"type\": \"heatmap\"}], \"heatmapgl\": [{\"colorbar\": {\"outlinewidth\": 0, \"ticks\": \"\"}, \"colorscale\": [[0.0, \"#0d0887\"], [0.1111111111111111, \"#46039f\"], [0.2222222222222222, \"#7201a8\"], [0.3333333333333333, \"#9c179e\"], [0.4444444444444444, \"#bd3786\"], [0.5555555555555556, \"#d8576b\"], [0.6666666666666666, \"#ed7953\"], [0.7777777777777778, \"#fb9f3a\"], [0.8888888888888888, \"#fdca26\"], [1.0, \"#f0f921\"]], \"type\": \"heatmapgl\"}], \"histogram\": [{\"marker\": {\"colorbar\": {\"outlinewidth\": 0, \"ticks\": \"\"}}, \"type\": \"histogram\"}], \"histogram2d\": [{\"colorbar\": {\"outlinewidth\": 0, \"ticks\": \"\"}, \"colorscale\": [[0.0, \"#0d0887\"], [0.1111111111111111, \"#46039f\"], [0.2222222222222222, \"#7201a8\"], [0.3333333333333333, \"#9c179e\"], [0.4444444444444444, \"#bd3786\"], [0.5555555555555556, \"#d8576b\"], [0.6666666666666666, \"#ed7953\"], [0.7777777777777778, \"#fb9f3a\"], [0.8888888888888888, \"#fdca26\"], [1.0, \"#f0f921\"]], \"type\": \"histogram2d\"}], \"histogram2dcontour\": [{\"colorbar\": {\"outlinewidth\": 0, \"ticks\": \"\"}, \"colorscale\": [[0.0, \"#0d0887\"], [0.1111111111111111, \"#46039f\"], [0.2222222222222222, \"#7201a8\"], [0.3333333333333333, \"#9c179e\"], [0.4444444444444444, \"#bd3786\"], [0.5555555555555556, \"#d8576b\"], [0.6666666666666666, \"#ed7953\"], [0.7777777777777778, \"#fb9f3a\"], [0.8888888888888888, \"#fdca26\"], [1.0, \"#f0f921\"]], \"type\": \"histogram2dcontour\"}], \"mesh3d\": [{\"colorbar\": {\"outlinewidth\": 0, \"ticks\": \"\"}, \"type\": \"mesh3d\"}], \"parcoords\": [{\"line\": {\"colorbar\": {\"outlinewidth\": 0, \"ticks\": \"\"}}, \"type\": \"parcoords\"}], \"pie\": [{\"automargin\": true, \"type\": \"pie\"}], \"scatter\": [{\"marker\": {\"colorbar\": {\"outlinewidth\": 0, \"ticks\": \"\"}}, \"type\": \"scatter\"}], \"scatter3d\": [{\"line\": {\"colorbar\": {\"outlinewidth\": 0, \"ticks\": \"\"}}, \"marker\": {\"colorbar\": {\"outlinewidth\": 0, \"ticks\": \"\"}}, \"type\": \"scatter3d\"}], \"scattercarpet\": [{\"marker\": {\"colorbar\": {\"outlinewidth\": 0, \"ticks\": \"\"}}, \"type\": \"scattercarpet\"}], \"scattergeo\": [{\"marker\": {\"colorbar\": {\"outlinewidth\": 0, \"ticks\": \"\"}}, \"type\": \"scattergeo\"}], \"scattergl\": [{\"marker\": {\"colorbar\": {\"outlinewidth\": 0, \"ticks\": \"\"}}, \"type\": \"scattergl\"}], \"scattermapbox\": [{\"marker\": {\"colorbar\": {\"outlinewidth\": 0, \"ticks\": \"\"}}, \"type\": \"scattermapbox\"}], \"scatterpolar\": [{\"marker\": {\"colorbar\": {\"outlinewidth\": 0, \"ticks\": \"\"}}, \"type\": \"scatterpolar\"}], \"scatterpolargl\": [{\"marker\": {\"colorbar\": {\"outlinewidth\": 0, \"ticks\": \"\"}}, \"type\": \"scatterpolargl\"}], \"scatterternary\": [{\"marker\": {\"colorbar\": {\"outlinewidth\": 0, \"ticks\": \"\"}}, \"type\": \"scatterternary\"}], \"surface\": [{\"colorbar\": {\"outlinewidth\": 0, \"ticks\": \"\"}, \"colorscale\": [[0.0, \"#0d0887\"], [0.1111111111111111, \"#46039f\"], [0.2222222222222222, \"#7201a8\"], [0.3333333333333333, \"#9c179e\"], [0.4444444444444444, \"#bd3786\"], [0.5555555555555556, \"#d8576b\"], [0.6666666666666666, \"#ed7953\"], [0.7777777777777778, \"#fb9f3a\"], [0.8888888888888888, \"#fdca26\"], [1.0, \"#f0f921\"]], \"type\": \"surface\"}], \"table\": [{\"cells\": {\"fill\": {\"color\": \"#EBF0F8\"}, \"line\": {\"color\": \"white\"}}, \"header\": {\"fill\": {\"color\": \"#C8D4E3\"}, \"line\": {\"color\": \"white\"}}, \"type\": \"table\"}]}, \"layout\": {\"annotationdefaults\": {\"arrowcolor\": \"#2a3f5f\", \"arrowhead\": 0, \"arrowwidth\": 1}, \"autotypenumbers\": \"strict\", \"coloraxis\": {\"colorbar\": {\"outlinewidth\": 0, \"ticks\": \"\"}}, \"colorscale\": {\"diverging\": [[0, \"#8e0152\"], [0.1, \"#c51b7d\"], [0.2, \"#de77ae\"], [0.3, \"#f1b6da\"], [0.4, \"#fde0ef\"], [0.5, \"#f7f7f7\"], [0.6, \"#e6f5d0\"], [0.7, \"#b8e186\"], [0.8, \"#7fbc41\"], [0.9, \"#4d9221\"], [1, \"#276419\"]], \"sequential\": [[0.0, \"#0d0887\"], [0.1111111111111111, \"#46039f\"], [0.2222222222222222, \"#7201a8\"], [0.3333333333333333, \"#9c179e\"], [0.4444444444444444, \"#bd3786\"], [0.5555555555555556, \"#d8576b\"], [0.6666666666666666, \"#ed7953\"], [0.7777777777777778, \"#fb9f3a\"], [0.8888888888888888, \"#fdca26\"], [1.0, \"#f0f921\"]], \"sequentialminus\": [[0.0, \"#0d0887\"], [0.1111111111111111, \"#46039f\"], [0.2222222222222222, \"#7201a8\"], [0.3333333333333333, \"#9c179e\"], [0.4444444444444444, \"#bd3786\"], [0.5555555555555556, \"#d8576b\"], [0.6666666666666666, \"#ed7953\"], [0.7777777777777778, \"#fb9f3a\"], [0.8888888888888888, \"#fdca26\"], [1.0, \"#f0f921\"]]}, \"colorway\": [\"#636efa\", \"#EF553B\", \"#00cc96\", \"#ab63fa\", \"#FFA15A\", \"#19d3f3\", \"#FF6692\", \"#B6E880\", \"#FF97FF\", \"#FECB52\"], \"font\": {\"color\": \"#2a3f5f\"}, \"geo\": {\"bgcolor\": \"white\", \"lakecolor\": \"white\", \"landcolor\": \"#E5ECF6\", \"showlakes\": true, \"showland\": true, \"subunitcolor\": \"white\"}, \"hoverlabel\": {\"align\": \"left\"}, \"hovermode\": \"closest\", \"mapbox\": {\"style\": \"light\"}, \"paper_bgcolor\": \"white\", \"plot_bgcolor\": \"#E5ECF6\", \"polar\": {\"angularaxis\": {\"gridcolor\": \"white\", \"linecolor\": \"white\", \"ticks\": \"\"}, \"bgcolor\": \"#E5ECF6\", \"radialaxis\": {\"gridcolor\": \"white\", \"linecolor\": \"white\", \"ticks\": \"\"}}, \"scene\": {\"xaxis\": {\"backgroundcolor\": \"#E5ECF6\", \"gridcolor\": \"white\", \"gridwidth\": 2, \"linecolor\": \"white\", \"showbackground\": true, \"ticks\": \"\", \"zerolinecolor\": \"white\"}, \"yaxis\": {\"backgroundcolor\": \"#E5ECF6\", \"gridcolor\": \"white\", \"gridwidth\": 2, \"linecolor\": \"white\", \"showbackground\": true, \"ticks\": \"\", \"zerolinecolor\": \"white\"}, \"zaxis\": {\"backgroundcolor\": \"#E5ECF6\", \"gridcolor\": \"white\", \"gridwidth\": 2, \"linecolor\": \"white\", \"showbackground\": true, \"ticks\": \"\", \"zerolinecolor\": \"white\"}}, \"shapedefaults\": {\"line\": {\"color\": \"#2a3f5f\"}}, \"ternary\": {\"aaxis\": {\"gridcolor\": \"white\", \"linecolor\": \"white\", \"ticks\": \"\"}, \"baxis\": {\"gridcolor\": \"white\", \"linecolor\": \"white\", \"ticks\": \"\"}, \"bgcolor\": \"#E5ECF6\", \"caxis\": {\"gridcolor\": \"white\", \"linecolor\": \"white\", \"ticks\": \"\"}}, \"title\": {\"x\": 0.05}, \"xaxis\": {\"automargin\": true, \"gridcolor\": \"white\", \"linecolor\": \"white\", \"ticks\": \"\", \"title\": {\"standoff\": 15}, \"zerolinecolor\": \"white\", \"zerolinewidth\": 2}, \"yaxis\": {\"automargin\": true, \"gridcolor\": \"white\", \"linecolor\": \"white\", \"ticks\": \"\", \"title\": {\"standoff\": 15}, \"zerolinecolor\": \"white\", \"zerolinewidth\": 2}}}, \"title\": {\"font\": {\"size\": 20}, \"pad\": {\"t\": 3}, \"text\": \"Consumo de cerveja com rela\\u00e7\\u00e3o e finais de semana\"}, \"width\": 1000, \"xaxis\": {\"title\": {\"font\": {\"size\": 18}, \"text\": \"Final de Semana\"}}, \"yaxis\": {\"title\": {\"font\": {\"size\": 18}, \"text\": \"Consumo(L)\"}}},                        {\"responsive\": true}                    ).then(function(){\n",
       "                            \n",
       "var gd = document.getElementById('e07df9a4-1406-4752-bd19-3cbf39d80052');\n",
       "var x = new MutationObserver(function (mutations, observer) {{\n",
       "        var display = window.getComputedStyle(gd).display;\n",
       "        if (!display || display === 'none') {{\n",
       "            console.log([gd, 'removed!']);\n",
       "            Plotly.purge(gd);\n",
       "            observer.disconnect();\n",
       "        }}\n",
       "}});\n",
       "\n",
       "// Listen for the removal of the full notebook cells\n",
       "var notebookContainer = gd.closest('#notebook-container');\n",
       "if (notebookContainer) {{\n",
       "    x.observe(notebookContainer, {childList: true});\n",
       "}}\n",
       "\n",
       "// Listen for the clearing of the current output cell\n",
       "var outputEl = gd.closest('.output');\n",
       "if (outputEl) {{\n",
       "    x.observe(outputEl, {childList: true});\n",
       "}}\n",
       "\n",
       "                        })                };                });            </script>        </div>"
      ]
     },
     "metadata": {},
     "output_type": "display_data"
    }
   ],
   "source": [
    "fig=go.Figure()\n",
    "fig.add_trace(go.Box(x = df['Final de Semana'], y = df['Consumo de cerveja (litros)'], \n",
    "                         marker_color='deepskyblue'))\n",
    "fig.update_layout(title = 'Consumo de cerveja com relação e finais de semana',\n",
    "                  title_font_size=20,title_pad_t=3,xaxis_title='Final de Semana', yaxis_title='Consumo(L)',\n",
    "                  margin = dict(autoexpand=False),\n",
    "             showlegend=False, plot_bgcolor='white',legend=dict(\n",
    "    orientation=\"h\",\n",
    "    yanchor=\"bottom\",\n",
    "    y=1.02,\n",
    "    xanchor=\"right\",\n",
    "    x=1\n",
    "),barmode='group')\n",
    "fig.update_layout(\n",
    "    autosize=False,\n",
    "    width=1000,\n",
    "    height=600,\n",
    "    paper_bgcolor=\"white\")\n",
    "fig.update_xaxes(title_font_size=18)\n",
    "fig.update_yaxes(title_font_size=18)\n",
    "\n",
    "fig"
   ]
  },
  {
   "cell_type": "markdown",
   "metadata": {},
   "source": [
    "<p style=\"text-align: justify\">Como esperado, na média houve um maior consumo durante os finais de semana(1). A partir dessa exploração, é importante verificar correlações existentes entre as variáveis citadas acima e o consumo de cerveja. </p>"
   ]
  },
  {
   "cell_type": "markdown",
   "metadata": {},
   "source": [
    "##### Verificando a correlação entre variáveis"
   ]
  },
  {
   "cell_type": "code",
   "execution_count": 18,
   "metadata": {},
   "outputs": [
    {
     "data": {
      "text/html": [
       "<div>\n",
       "<style scoped>\n",
       "    .dataframe tbody tr th:only-of-type {\n",
       "        vertical-align: middle;\n",
       "    }\n",
       "\n",
       "    .dataframe tbody tr th {\n",
       "        vertical-align: top;\n",
       "    }\n",
       "\n",
       "    .dataframe thead th {\n",
       "        text-align: right;\n",
       "    }\n",
       "</style>\n",
       "<table border=\"1\" class=\"dataframe\">\n",
       "  <thead>\n",
       "    <tr style=\"text-align: right;\">\n",
       "      <th></th>\n",
       "      <th>Temperatura Media (C)</th>\n",
       "      <th>Temperatura Minima (C)</th>\n",
       "      <th>Temperatura Maxima (C)</th>\n",
       "      <th>Precipitacao (mm)</th>\n",
       "      <th>Final de Semana</th>\n",
       "      <th>Consumo de cerveja (litros)</th>\n",
       "    </tr>\n",
       "  </thead>\n",
       "  <tbody>\n",
       "    <tr>\n",
       "      <th>Temperatura Media (C)</th>\n",
       "      <td>1.00</td>\n",
       "      <td>0.86</td>\n",
       "      <td>0.92</td>\n",
       "      <td>0.02</td>\n",
       "      <td>-0.05</td>\n",
       "      <td>0.57</td>\n",
       "    </tr>\n",
       "    <tr>\n",
       "      <th>Temperatura Minima (C)</th>\n",
       "      <td>0.86</td>\n",
       "      <td>1.00</td>\n",
       "      <td>0.67</td>\n",
       "      <td>0.10</td>\n",
       "      <td>-0.06</td>\n",
       "      <td>0.39</td>\n",
       "    </tr>\n",
       "    <tr>\n",
       "      <th>Temperatura Maxima (C)</th>\n",
       "      <td>0.92</td>\n",
       "      <td>0.67</td>\n",
       "      <td>1.00</td>\n",
       "      <td>-0.05</td>\n",
       "      <td>-0.04</td>\n",
       "      <td>0.64</td>\n",
       "    </tr>\n",
       "    <tr>\n",
       "      <th>Precipitacao (mm)</th>\n",
       "      <td>0.02</td>\n",
       "      <td>0.10</td>\n",
       "      <td>-0.05</td>\n",
       "      <td>1.00</td>\n",
       "      <td>0.00</td>\n",
       "      <td>-0.19</td>\n",
       "    </tr>\n",
       "    <tr>\n",
       "      <th>Final de Semana</th>\n",
       "      <td>-0.05</td>\n",
       "      <td>-0.06</td>\n",
       "      <td>-0.04</td>\n",
       "      <td>0.00</td>\n",
       "      <td>1.00</td>\n",
       "      <td>0.51</td>\n",
       "    </tr>\n",
       "    <tr>\n",
       "      <th>Consumo de cerveja (litros)</th>\n",
       "      <td>0.57</td>\n",
       "      <td>0.39</td>\n",
       "      <td>0.64</td>\n",
       "      <td>-0.19</td>\n",
       "      <td>0.51</td>\n",
       "      <td>1.00</td>\n",
       "    </tr>\n",
       "  </tbody>\n",
       "</table>\n",
       "</div>"
      ],
      "text/plain": [
       "                             Temperatura Media (C)  Temperatura Minima (C)  \\\n",
       "Temperatura Media (C)                         1.00                    0.86   \n",
       "Temperatura Minima (C)                        0.86                    1.00   \n",
       "Temperatura Maxima (C)                        0.92                    0.67   \n",
       "Precipitacao (mm)                             0.02                    0.10   \n",
       "Final de Semana                              -0.05                   -0.06   \n",
       "Consumo de cerveja (litros)                   0.57                    0.39   \n",
       "\n",
       "                             Temperatura Maxima (C)  Precipitacao (mm)  \\\n",
       "Temperatura Media (C)                          0.92               0.02   \n",
       "Temperatura Minima (C)                         0.67               0.10   \n",
       "Temperatura Maxima (C)                         1.00              -0.05   \n",
       "Precipitacao (mm)                             -0.05               1.00   \n",
       "Final de Semana                               -0.04               0.00   \n",
       "Consumo de cerveja (litros)                    0.64              -0.19   \n",
       "\n",
       "                             Final de Semana  Consumo de cerveja (litros)  \n",
       "Temperatura Media (C)                  -0.05                         0.57  \n",
       "Temperatura Minima (C)                 -0.06                         0.39  \n",
       "Temperatura Maxima (C)                 -0.04                         0.64  \n",
       "Precipitacao (mm)                       0.00                        -0.19  \n",
       "Final de Semana                         1.00                         0.51  \n",
       "Consumo de cerveja (litros)             0.51                         1.00  "
      ]
     },
     "execution_count": 18,
     "metadata": {},
     "output_type": "execute_result"
    }
   ],
   "source": [
    "df.corr().round(2)"
   ]
  },
  {
   "cell_type": "markdown",
   "metadata": {},
   "source": [
    "<p style=\"text-align: justify\">É possível observar através da tabela acima, que houve correlação positiva entre as variáveis de temperatura(máxima, média e mínima) e final de semana. Ou seja, o aumento da temperatura e ser final de semana está correlacionado ao aumento do consumo de cerveja. Enquanto que com a precipitação o efeito é inverso, ou seja, apresenta uma correlação negativa em que com o aumento dessa variável (precipitação) está correlacionado a uma diminuição do consumo de cerveja. Abaixo segue gráficos para uma melhor visualização dessas variáveis</p>"
   ]
  },
  {
   "cell_type": "code",
   "execution_count": 20,
   "metadata": {},
   "outputs": [
    {
     "data": {
      "text/plain": [
       "<seaborn.axisgrid.PairGrid at 0x1f01f6c7488>"
      ]
     },
     "execution_count": 20,
     "metadata": {},
     "output_type": "execute_result"
    },
    {
     "data": {
      "image/png": "[encoded data removed]",
      "text/plain": [
       "<Figure size 900x180 with 5 Axes>"
      ]
     },
     "metadata": {
      "needs_background": "light"
     },
     "output_type": "display_data"
    }
   ],
   "source": [
    "ax=sns.pairplot(df, y_vars=\"Consumo de cerveja (litros)\", x_vars=[\"Temperatura Media (C)\",\"Temperatura Minima (C)\",\"Temperatura Maxima (C)\",\"Precipitacao (mm)\",\"Final de Semana\"],kind=\"reg\")\n",
    "ax.fig.suptitle(\"Relação entre variáveis\",y=1.25,fontsize=20)\n",
    "ax"
   ]
  },
  {
   "cell_type": "markdown",
   "metadata": {},
   "source": [
    "### Gerando o modelo de previsão de consumo\n",
    "\n",
    "<p style=\"text-align: justify\">Com base na exploração das variáveis em relação ao consumo de cerveja, é possível construir um modelo de regressão linear que possa prever o consumo de cerveja a partir das variáveis analisadas (Temperatura, precipitação e final de semana). Esse modelo pode ser útil a fim de buscar aumentar vendas ou diminuir custos da venda da bebida ao longo do ano. Assim, segue abaixo como será feita a construção desse modelo.</p>"
   ]
  },
  {
   "cell_type": "markdown",
   "metadata": {},
   "source": [
    "##### Selecionando as variáveis\n",
    "\n",
    "<p style=\"text-align: justify\">Como variável de resposta será escolhido o consumo de cerveja e as variáveis preditoras serão Temperatura máxima, Precipitação e Final de semana.</p>"
   ]
  },
  {
   "cell_type": "code",
   "execution_count": 42,
   "metadata": {},
   "outputs": [],
   "source": [
    "y= df[\"Consumo de cerveja (litros)\"]\n",
    "x =  df[[\"Temperatura Maxima (C)\",\"Precipitacao (mm)\",\"Final de Semana\"]]"
   ]
  },
  {
   "cell_type": "markdown",
   "metadata": {},
   "source": [
    "##### Separando os dados de treino e teste\n",
    "A separação de dados de treino e teste é feita para que não haja sobreajuste dos modelo em relação ao dados. Dessa forma, será realizada a separação em 70% dos dados em treino e 30% em teste. "
   ]
  },
  {
   "cell_type": "code",
   "execution_count": 43,
   "metadata": {},
   "outputs": [],
   "source": [
    "x_train,x_test,y_train,y_test=train_test_split(x, y, test_size=0.30, random_state=1983)"
   ]
  },
  {
   "cell_type": "code",
   "execution_count": 44,
   "metadata": {},
   "outputs": [],
   "source": [
    "#Instanciando o modelo\n",
    "modelo=LinearRegression()"
   ]
  },
  {
   "cell_type": "markdown",
   "metadata": {},
   "source": [
    "##### Treinando o modelo"
   ]
  },
  {
   "cell_type": "code",
   "execution_count": 45,
   "metadata": {},
   "outputs": [
    {
     "data": {
      "text/plain": [
       "LinearRegression()"
      ]
     },
     "execution_count": 45,
     "metadata": {},
     "output_type": "execute_result"
    }
   ],
   "source": [
    "modelo.fit(x_train,y_train)"
   ]
  },
  {
   "cell_type": "markdown",
   "metadata": {},
   "source": [
    "#### Avaliando os valores previstos do modelo"
   ]
  },
  {
   "cell_type": "code",
   "execution_count": 46,
   "metadata": {},
   "outputs": [],
   "source": [
    "y_prev=modelo.predict(x_test)"
   ]
  },
  {
   "cell_type": "code",
   "execution_count": 47,
   "metadata": {},
   "outputs": [
    {
     "name": "stdout",
     "output_type": "stream",
     "text": [
      "Modelo treinado - R² = 0.73\n",
      "Previsão do modelo - R² = 0.68\n"
     ]
    }
   ],
   "source": [
    "print(\"Modelo treinado - R² = {}\".format(modelo.score(x_train,y_train).round(2)))\n",
    "print(\"Previsão do modelo - R² = %s\" % metrics.r2_score(y_test,y_prev).round(2))"
   ]
  },
  {
   "cell_type": "markdown",
   "metadata": {},
   "source": [
    "<p style=\"text-align: justify\">A partir do coeficiente de determinação (R²) foi possível verificar que os dados de treino explicou 72% de toda a variação existente da relação (consumo x temperatura, precipitação e final de semana) contra 68% dos dados de teste. Entretanto é necessário verificar a precisão geral do modelo em relação aos dados, assim será usado a métrica do erro médio quadrático que quanto menor o valor menor é o erro em relação aos valores reais.</p>"
   ]
  },
  {
   "cell_type": "markdown",
   "metadata": {},
   "source": [
    "#### Raiz quadrada do erro quadrático médio(RMSE)"
   ]
  },
  {
   "cell_type": "code",
   "execution_count": 48,
   "metadata": {},
   "outputs": [
    {
     "data": {
      "text/html": [
       "<div>\n",
       "<style scoped>\n",
       "    .dataframe tbody tr th:only-of-type {\n",
       "        vertical-align: middle;\n",
       "    }\n",
       "\n",
       "    .dataframe tbody tr th {\n",
       "        vertical-align: top;\n",
       "    }\n",
       "\n",
       "    .dataframe thead th {\n",
       "        text-align: right;\n",
       "    }\n",
       "</style>\n",
       "<table border=\"1\" class=\"dataframe\">\n",
       "  <thead>\n",
       "    <tr style=\"text-align: right;\">\n",
       "      <th></th>\n",
       "      <th>Métricas do modelo</th>\n",
       "    </tr>\n",
       "  </thead>\n",
       "  <tbody>\n",
       "    <tr>\n",
       "      <th>RMSE</th>\n",
       "      <td>2.20</td>\n",
       "    </tr>\n",
       "    <tr>\n",
       "      <th>R²</th>\n",
       "      <td>0.68</td>\n",
       "    </tr>\n",
       "  </tbody>\n",
       "</table>\n",
       "</div>"
      ],
      "text/plain": [
       "      Métricas do modelo\n",
       "RMSE                2.20\n",
       "R²                  0.68"
      ]
     },
     "execution_count": 48,
     "metadata": {},
     "output_type": "execute_result"
    }
   ],
   "source": [
    "rmse = np.sqrt(metrics.mean_squared_error(y_test,y_prev)).round(2)\n",
    "R2 =metrics.r2_score(y_test,y_prev).round(2)\n",
    "pd.DataFrame([rmse,R2],[\"RMSE\",\"R²\"],columns=[\"Métricas do modelo\"])"
   ]
  },
  {
   "cell_type": "markdown",
   "metadata": {},
   "source": [
    "<p style=\"text-align: justify\">A partir dessas análises, é possível criar um simulador do consumo de cerveja em relação as variáveis preditoras (Temperatura, precipitação e final de semana). Segue abaixo o simulador:</p>"
   ]
  },
  {
   "cell_type": "markdown",
   "metadata": {},
   "source": [
    "### Simulador para previsão o consumo de cerveja."
   ]
  },
  {
   "cell_type": "markdown",
   "metadata": {},
   "source": [
    "##### Gerando uma simulação pontual"
   ]
  },
  {
   "cell_type": "code",
   "execution_count": 49,
   "metadata": {},
   "outputs": [
    {
     "data": {
      "text/html": [
       "<div>\n",
       "<style scoped>\n",
       "    .dataframe tbody tr th:only-of-type {\n",
       "        vertical-align: middle;\n",
       "    }\n",
       "\n",
       "    .dataframe tbody tr th {\n",
       "        vertical-align: top;\n",
       "    }\n",
       "\n",
       "    .dataframe thead th {\n",
       "        text-align: right;\n",
       "    }\n",
       "</style>\n",
       "<table border=\"1\" class=\"dataframe\">\n",
       "  <thead>\n",
       "    <tr style=\"text-align: right;\">\n",
       "      <th></th>\n",
       "      <th>Temperatura Maxima (C)</th>\n",
       "      <th>Precipitacao (mm)</th>\n",
       "      <th>Final de Semana</th>\n",
       "    </tr>\n",
       "  </thead>\n",
       "  <tbody>\n",
       "    <tr>\n",
       "      <th>185</th>\n",
       "      <td>14.5</td>\n",
       "      <td>4.4</td>\n",
       "      <td>1.0</td>\n",
       "    </tr>\n",
       "  </tbody>\n",
       "</table>\n",
       "</div>"
      ],
      "text/plain": [
       "     Temperatura Maxima (C)  Precipitacao (mm)  Final de Semana\n",
       "185                    14.5                4.4              1.0"
      ]
     },
     "execution_count": 49,
     "metadata": {},
     "output_type": "execute_result"
    }
   ],
   "source": [
    "entrada= x_test[0:1]\n",
    "entrada"
   ]
  },
  {
   "cell_type": "code",
   "execution_count": 50,
   "metadata": {},
   "outputs": [
    {
     "data": {
      "text/plain": [
       "20.96092945792247"
      ]
     },
     "execution_count": 50,
     "metadata": {},
     "output_type": "execute_result"
    }
   ],
   "source": [
    "modelo.predict(entrada)[0]"
   ]
  },
  {
   "cell_type": "markdown",
   "metadata": {},
   "source": [
    "##### Simulador"
   ]
  },
  {
   "cell_type": "code",
   "execution_count": 52,
   "metadata": {},
   "outputs": [
    {
     "name": "stdout",
     "output_type": "stream",
     "text": [
      "12.27 litros\n"
     ]
    }
   ],
   "source": [
    "temp_max=10\n",
    "precipitação=4.4\n",
    "fds=0\n",
    "entrada=[[temp_max,precipitação,fds]]\n",
    "\n",
    "print(\"{0:.2f} litros\".format(modelo.predict(entrada)[0]))"
   ]
  },
  {
   "cell_type": "markdown",
   "metadata": {},
   "source": [
    "Desse modo, a partir dos dados do dataset foi possível prever o consumo de cerveja com as variáveis de Temperatura Maxima, Precipitação e Finais de semana. Através de outras técnicas, esse modelo pode ser melhorado a fim de criar um simulador mais preciso e que possa prever o consumo de cerveja com mais segurança a partir de dados previamente coletados. Isso pode ser bastante útil em negócios que dependam da venda dessas bebidas, pois pode ajudar tanto na geração de lucro como na diminuição de despesas. "
   ]
  }
 ],
 "metadata": {
  "kernelspec": {
   "display_name": "Python 3",
   "language": "python",
   "name": "python3"
  },
  "language_info": {
   "codemirror_mode": {
    "name": "ipython",
    "version": 3
   },
   "file_extension": ".py",
   "mimetype": "text/x-python",
   "name": "python",
   "nbconvert_exporter": "python",
   "pygments_lexer": "ipython3",
   "version": "3.7.6"
  }
 },
 "nbformat": 4,
 "nbformat_minor": 4
}
