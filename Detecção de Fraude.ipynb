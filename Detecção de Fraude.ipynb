{
 "cells": [
  {
   "cell_type": "markdown",
   "metadata": {},
   "source": [
    "# Análise de detecção de fraude em transações bancárias"
   ]
  },
  {
   "cell_type": "markdown",
   "metadata": {},
   "source": [
    "### Problema\n",
    "\n",
    "<p style=\"text-align: justify\">Com o processo de digitalização da economia, as instituições financeiras têm lidado com o problema cada vez mais comum que são as fraudes em suas transações. Segundo reportagem da <a href=\"https://exame.com/future-of-money/cybersecurity/na-pandemia-fraudes-com-servicos-financeiros-aumentam-457-no-brasil/\">Exame</a>, o número de fraudes com serviços financeiros cresceu 457% no Brasil durante a pandemia, sendo que o crescimento mudial foi 57,5%. Dessa maneira, soluções que busquem identificar esse tipo de transação antes que as mesmas aconteçam, seria de grande valia para empresas e clientes.</p>"
   ]
  },
  {
   "cell_type": "markdown",
   "metadata": {},
   "source": [
    "### Solução\n",
    "\n",
    "<p style=\"text-align: justify\">Diante do problema relatado acima, será realizado uma análise de detecção de fraude através de um modelo de <i>machine learning</i>,  utilizando redes neurais artificiais (<i>Deep Learning</i>). Para isso, foi utilizado o seguinte conjunto de dados do site <a href=\"https://www.kaggle.com/ealaxi/paysim1\">Kaggle</a>. \n",
    "\n",
    "**As descrições dos atributos do conjunto de dados segue abaixo:**\n",
    "\n",
    "**step** - Mapa de unidade de tempo no mundo real. Caso 1 é uma hora do tempo, sendo o total de steps é igual a 744 (30 dias).\n",
    "\n",
    "**type** - Tipos diferentes de pagamento.\n",
    "\n",
    "**amount** - Valor da transação na moeda local.\n",
    "\n",
    "**nameOrig** - Cliente que iniciou a transação.\n",
    "\n",
    "**oldbalanceOrg** - Saldo inicial antes da transação.\n",
    "\n",
    "**newbalanceOrig** - Saldo depois da transação.\n",
    "\n",
    "**nameDest** - Cliente que é destinatário da transação.\n",
    "\n",
    "**oldbalanceDest** - Destinatário do saldo inicial antes da transação.\n",
    "\n",
    "**newbalanceDest** - Saldo do destinatário depois da transação\n",
    "\n",
    "**isFraud** - Transações feitas por agentes fraudulentos (0 = Normal, 1 = Fraude)\n",
    "\n",
    "**isFlaggedFraud** - Tentativa de transferir mais de 200.000 em uma única transação (0 = Não, 1 = Sim)\n",
    "\n",
    "\n",
    "<p style='color:red'><b>Referência do banco de dados:</b></p>\n",
    "\n",
    "*PaySim first paper of the simulator:*\n",
    "\n",
    "*E. A. Lopez-Rojas , A. Elmir, and S. Axelsson. \"PaySim: A financial mobile money simulator for fraud detection\". In: The 28th European Modeling and Simulation Symposium-EMSS, Larnaca, Cyprus. 2016*</p>"
   ]
  },
  {
   "cell_type": "markdown",
   "metadata": {},
   "source": [
    "### Importando bibliotecas"
   ]
  },
  {
   "cell_type": "code",
   "execution_count": 1,
   "metadata": {},
   "outputs": [],
   "source": [
    "#Bibliotecas para tratamento dos dados\n",
    "import pandas as pd\n",
    "import numpy as np\n",
    "import seaborn as sns\n",
    "import matplotlib.pyplot as plt\n",
    "\n",
    "#Bibliotecas para pré-processamento dos dados\n",
    "from sklearn.model_selection import train_test_split\n",
    "from imblearn.under_sampling import RandomUnderSampler\n",
    "from sklearn.preprocessing import MinMaxScaler\n",
    "\n",
    "#Bibliotecas para construção dos modelos\n",
    "import tensorflow.keras\n",
    "from tensorflow.keras.models import Sequential\n",
    "from tensorflow.keras.layers import Dense\n",
    "\n",
    "\n",
    "#Bibliotecas para avaliação dos modelos\n",
    "from sklearn.metrics import classification_report\n",
    "from sklearn.metrics import confusion_matrix\n",
    "from sklearn.metrics import accuracy_score, precision_score, recall_score, f1_score\n",
    "\n",
    "\n",
    "%matplotlib inline\n",
    "pd.options.display.float_format = '{:20,.4f}'.format\n",
    "import warnings\n",
    "warnings.filterwarnings('ignore')"
   ]
  },
  {
   "cell_type": "markdown",
   "metadata": {},
   "source": [
    "### Análise exploratória dos dados"
   ]
  },
  {
   "cell_type": "code",
   "execution_count": 2,
   "metadata": {},
   "outputs": [
    {
     "data": {
      "text/html": [
       "<div>\n",
       "<style scoped>\n",
       "    .dataframe tbody tr th:only-of-type {\n",
       "        vertical-align: middle;\n",
       "    }\n",
       "\n",
       "    .dataframe tbody tr th {\n",
       "        vertical-align: top;\n",
       "    }\n",
       "\n",
       "    .dataframe thead th {\n",
       "        text-align: right;\n",
       "    }\n",
       "</style>\n",
       "<table border=\"1\" class=\"dataframe\">\n",
       "  <thead>\n",
       "    <tr style=\"text-align: right;\">\n",
       "      <th></th>\n",
       "      <th>step</th>\n",
       "      <th>type</th>\n",
       "      <th>amount</th>\n",
       "      <th>nameOrig</th>\n",
       "      <th>oldbalanceOrg</th>\n",
       "      <th>newbalanceOrig</th>\n",
       "      <th>nameDest</th>\n",
       "      <th>oldbalanceDest</th>\n",
       "      <th>newbalanceDest</th>\n",
       "      <th>isFraud</th>\n",
       "      <th>isFlaggedFraud</th>\n",
       "    </tr>\n",
       "  </thead>\n",
       "  <tbody>\n",
       "    <tr>\n",
       "      <th>0</th>\n",
       "      <td>1</td>\n",
       "      <td>PAYMENT</td>\n",
       "      <td>9,839.6400</td>\n",
       "      <td>C1231006815</td>\n",
       "      <td>170,136.0000</td>\n",
       "      <td>160,296.3600</td>\n",
       "      <td>M1979787155</td>\n",
       "      <td>0.0000</td>\n",
       "      <td>0.0000</td>\n",
       "      <td>0</td>\n",
       "      <td>0</td>\n",
       "    </tr>\n",
       "    <tr>\n",
       "      <th>1</th>\n",
       "      <td>1</td>\n",
       "      <td>PAYMENT</td>\n",
       "      <td>1,864.2800</td>\n",
       "      <td>C1666544295</td>\n",
       "      <td>21,249.0000</td>\n",
       "      <td>19,384.7200</td>\n",
       "      <td>M2044282225</td>\n",
       "      <td>0.0000</td>\n",
       "      <td>0.0000</td>\n",
       "      <td>0</td>\n",
       "      <td>0</td>\n",
       "    </tr>\n",
       "    <tr>\n",
       "      <th>2</th>\n",
       "      <td>1</td>\n",
       "      <td>TRANSFER</td>\n",
       "      <td>181.0000</td>\n",
       "      <td>C1305486145</td>\n",
       "      <td>181.0000</td>\n",
       "      <td>0.0000</td>\n",
       "      <td>C553264065</td>\n",
       "      <td>0.0000</td>\n",
       "      <td>0.0000</td>\n",
       "      <td>1</td>\n",
       "      <td>0</td>\n",
       "    </tr>\n",
       "    <tr>\n",
       "      <th>3</th>\n",
       "      <td>1</td>\n",
       "      <td>CASH_OUT</td>\n",
       "      <td>181.0000</td>\n",
       "      <td>C840083671</td>\n",
       "      <td>181.0000</td>\n",
       "      <td>0.0000</td>\n",
       "      <td>C38997010</td>\n",
       "      <td>21,182.0000</td>\n",
       "      <td>0.0000</td>\n",
       "      <td>1</td>\n",
       "      <td>0</td>\n",
       "    </tr>\n",
       "    <tr>\n",
       "      <th>4</th>\n",
       "      <td>1</td>\n",
       "      <td>PAYMENT</td>\n",
       "      <td>11,668.1400</td>\n",
       "      <td>C2048537720</td>\n",
       "      <td>41,554.0000</td>\n",
       "      <td>29,885.8600</td>\n",
       "      <td>M1230701703</td>\n",
       "      <td>0.0000</td>\n",
       "      <td>0.0000</td>\n",
       "      <td>0</td>\n",
       "      <td>0</td>\n",
       "    </tr>\n",
       "  </tbody>\n",
       "</table>\n",
       "</div>"
      ],
      "text/plain": [
       "   step      type               amount     nameOrig        oldbalanceOrg  \\\n",
       "0     1   PAYMENT           9,839.6400  C1231006815         170,136.0000   \n",
       "1     1   PAYMENT           1,864.2800  C1666544295          21,249.0000   \n",
       "2     1  TRANSFER             181.0000  C1305486145             181.0000   \n",
       "3     1  CASH_OUT             181.0000   C840083671             181.0000   \n",
       "4     1   PAYMENT          11,668.1400  C2048537720          41,554.0000   \n",
       "\n",
       "        newbalanceOrig     nameDest       oldbalanceDest       newbalanceDest  \\\n",
       "0         160,296.3600  M1979787155               0.0000               0.0000   \n",
       "1          19,384.7200  M2044282225               0.0000               0.0000   \n",
       "2               0.0000   C553264065               0.0000               0.0000   \n",
       "3               0.0000    C38997010          21,182.0000               0.0000   \n",
       "4          29,885.8600  M1230701703               0.0000               0.0000   \n",
       "\n",
       "   isFraud  isFlaggedFraud  \n",
       "0        0               0  \n",
       "1        0               0  \n",
       "2        1               0  \n",
       "3        1               0  \n",
       "4        0               0  "
      ]
     },
     "execution_count": 2,
     "metadata": {},
     "output_type": "execute_result"
    }
   ],
   "source": [
    "#Carregando o conjunto de dados\n",
    "df = pd.read_csv('PS_20174392719_1491204439457_log.csv')\n",
    "#Visualizando o conjunto de dados \n",
    "df.head()"
   ]
  },
  {
   "cell_type": "markdown",
   "metadata": {},
   "source": [
    "##### Verificando tamanho do conjunto de dados"
   ]
  },
  {
   "cell_type": "code",
   "execution_count": 3,
   "metadata": {},
   "outputs": [
    {
     "name": "stdout",
     "output_type": "stream",
     "text": [
      "\n",
      "Número de linhas: 6362620 \n",
      "\n",
      "Número de colunas: 11 \n",
      "\n",
      "Número de classes por coluna:\n",
      "step                  743\n",
      "type                    5\n",
      "amount            5316900\n",
      "nameOrig          6353307\n",
      "oldbalanceOrg     1845844\n",
      "newbalanceOrig    2682586\n",
      "nameDest          2722362\n",
      "oldbalanceDest    3614697\n",
      "newbalanceDest    3555499\n",
      "isFraud                 2\n",
      "isFlaggedFraud          2\n",
      "dtype: int64\n"
     ]
    }
   ],
   "source": [
    "print(\"\\nNúmero de linhas: {}\".format(df.shape[0]),'\\n')\n",
    "print(\"Número de colunas: {}\".format(df.shape[1]),'\\n')\n",
    "print(\"Número de classes por coluna:\\n{}\".format(df.nunique()))"
   ]
  },
  {
   "cell_type": "markdown",
   "metadata": {},
   "source": [
    "##### Verificando tipos dos atributos"
   ]
  },
  {
   "cell_type": "code",
   "execution_count": 4,
   "metadata": {},
   "outputs": [
    {
     "name": "stdout",
     "output_type": "stream",
     "text": [
      "<class 'pandas.core.frame.DataFrame'>\n",
      "RangeIndex: 6362620 entries, 0 to 6362619\n",
      "Data columns (total 11 columns):\n",
      " #   Column          Dtype  \n",
      "---  ------          -----  \n",
      " 0   step            int64  \n",
      " 1   type            object \n",
      " 2   amount          float64\n",
      " 3   nameOrig        object \n",
      " 4   oldbalanceOrg   float64\n",
      " 5   newbalanceOrig  float64\n",
      " 6   nameDest        object \n",
      " 7   oldbalanceDest  float64\n",
      " 8   newbalanceDest  float64\n",
      " 9   isFraud         int64  \n",
      " 10  isFlaggedFraud  int64  \n",
      "dtypes: float64(5), int64(3), object(3)\n",
      "memory usage: 534.0+ MB\n"
     ]
    }
   ],
   "source": [
    "df.info()"
   ]
  },
  {
   "cell_type": "markdown",
   "metadata": {},
   "source": [
    "##### Verificando a existência de valores nulos nos atributos"
   ]
  },
  {
   "cell_type": "code",
   "execution_count": 5,
   "metadata": {},
   "outputs": [
    {
     "data": {
      "text/plain": [
       "step              0\n",
       "type              0\n",
       "amount            0\n",
       "nameOrig          0\n",
       "oldbalanceOrg     0\n",
       "newbalanceOrig    0\n",
       "nameDest          0\n",
       "oldbalanceDest    0\n",
       "newbalanceDest    0\n",
       "isFraud           0\n",
       "isFlaggedFraud    0\n",
       "dtype: int64"
      ]
     },
     "execution_count": 5,
     "metadata": {},
     "output_type": "execute_result"
    }
   ],
   "source": [
    "df.isnull().sum()"
   ]
  },
  {
   "cell_type": "markdown",
   "metadata": {},
   "source": [
    "##### Verificando a existência de valores duplicados nos atributos"
   ]
  },
  {
   "cell_type": "code",
   "execution_count": 7,
   "metadata": {},
   "outputs": [
    {
     "name": "stdout",
     "output_type": "stream",
     "text": [
      "Valores duplicados: 0\n"
     ]
    }
   ],
   "source": [
    "print(\"Valores duplicados: {}\".format(df.duplicated().sum()))"
   ]
  },
  {
   "cell_type": "markdown",
   "metadata": {},
   "source": [
    "##### Verificando quantidade dos tipos de transações"
   ]
  },
  {
   "cell_type": "code",
   "execution_count": 8,
   "metadata": {},
   "outputs": [
    {
     "name": "stdout",
     "output_type": "stream",
     "text": [
      "\n",
      "Transações normais: 6354407 \n",
      "\n",
      "Transações fraudulentas: 8213 \n",
      "\n",
      "Porcentagem de transações normais: 99.87% \n",
      "\n",
      "Porcentagem de transações fraudulentas:0.13%\n"
     ]
    }
   ],
   "source": [
    "print('\\nTransações normais: {}'.format(df['isFraud'].value_counts()[0]),'\\n')\n",
    "print('Transações fraudulentas: {}'.format(df['isFraud'].value_counts()[1]),'\\n')\n",
    "print('Porcentagem de transações normais: {0:.2f}%'.format((df['isFraud'].value_counts()[0]/df.shape[0])*100),'\\n')\n",
    "print('Porcentagem de transações fraudulentas:{0:.2f}%'.format((df['isFraud'].value_counts()[1]/df.shape[0])*100))"
   ]
  },
  {
   "cell_type": "markdown",
   "metadata": {},
   "source": [
    "<p style=\"text-align: justify\">Como pode ser percebido, existem poucos dados de transações fraudulentas quando comparadas a transações normais. Isso pode ser um problema para o modelo de machine learning, pois o modelo pode ter a capacidade de identicar melhor a classe com o maior número de instâncias (transações normais).</p> "
   ]
  },
  {
   "cell_type": "markdown",
   "metadata": {},
   "source": [
    "##### Verificando estatísticas descritivas dos atributos"
   ]
  },
  {
   "cell_type": "code",
   "execution_count": 9,
   "metadata": {
    "scrolled": true
   },
   "outputs": [
    {
     "data": {
      "text/html": [
       "<div>\n",
       "<style scoped>\n",
       "    .dataframe tbody tr th:only-of-type {\n",
       "        vertical-align: middle;\n",
       "    }\n",
       "\n",
       "    .dataframe tbody tr th {\n",
       "        vertical-align: top;\n",
       "    }\n",
       "\n",
       "    .dataframe thead th {\n",
       "        text-align: right;\n",
       "    }\n",
       "</style>\n",
       "<table border=\"1\" class=\"dataframe\">\n",
       "  <thead>\n",
       "    <tr style=\"text-align: right;\">\n",
       "      <th></th>\n",
       "      <th>step</th>\n",
       "      <th>amount</th>\n",
       "      <th>oldbalanceOrg</th>\n",
       "      <th>newbalanceOrig</th>\n",
       "      <th>oldbalanceDest</th>\n",
       "      <th>newbalanceDest</th>\n",
       "      <th>isFraud</th>\n",
       "      <th>isFlaggedFraud</th>\n",
       "    </tr>\n",
       "  </thead>\n",
       "  <tbody>\n",
       "    <tr>\n",
       "      <th>count</th>\n",
       "      <td>6,362,620.0000</td>\n",
       "      <td>6,362,620.0000</td>\n",
       "      <td>6,362,620.0000</td>\n",
       "      <td>6,362,620.0000</td>\n",
       "      <td>6,362,620.0000</td>\n",
       "      <td>6,362,620.0000</td>\n",
       "      <td>6,362,620.0000</td>\n",
       "      <td>6,362,620.0000</td>\n",
       "    </tr>\n",
       "    <tr>\n",
       "      <th>mean</th>\n",
       "      <td>243.3972</td>\n",
       "      <td>179,861.9035</td>\n",
       "      <td>833,883.1041</td>\n",
       "      <td>855,113.6686</td>\n",
       "      <td>1,100,701.6665</td>\n",
       "      <td>1,224,996.3982</td>\n",
       "      <td>0.0013</td>\n",
       "      <td>0.0000</td>\n",
       "    </tr>\n",
       "    <tr>\n",
       "      <th>std</th>\n",
       "      <td>142.3320</td>\n",
       "      <td>603,858.2315</td>\n",
       "      <td>2,888,242.6730</td>\n",
       "      <td>2,924,048.5030</td>\n",
       "      <td>3,399,180.1130</td>\n",
       "      <td>3,674,128.9421</td>\n",
       "      <td>0.0359</td>\n",
       "      <td>0.0016</td>\n",
       "    </tr>\n",
       "    <tr>\n",
       "      <th>min</th>\n",
       "      <td>1.0000</td>\n",
       "      <td>0.0000</td>\n",
       "      <td>0.0000</td>\n",
       "      <td>0.0000</td>\n",
       "      <td>0.0000</td>\n",
       "      <td>0.0000</td>\n",
       "      <td>0.0000</td>\n",
       "      <td>0.0000</td>\n",
       "    </tr>\n",
       "    <tr>\n",
       "      <th>25%</th>\n",
       "      <td>156.0000</td>\n",
       "      <td>13,389.5700</td>\n",
       "      <td>0.0000</td>\n",
       "      <td>0.0000</td>\n",
       "      <td>0.0000</td>\n",
       "      <td>0.0000</td>\n",
       "      <td>0.0000</td>\n",
       "      <td>0.0000</td>\n",
       "    </tr>\n",
       "    <tr>\n",
       "      <th>50%</th>\n",
       "      <td>239.0000</td>\n",
       "      <td>74,871.9400</td>\n",
       "      <td>14,208.0000</td>\n",
       "      <td>0.0000</td>\n",
       "      <td>132,705.6650</td>\n",
       "      <td>214,661.4400</td>\n",
       "      <td>0.0000</td>\n",
       "      <td>0.0000</td>\n",
       "    </tr>\n",
       "    <tr>\n",
       "      <th>75%</th>\n",
       "      <td>335.0000</td>\n",
       "      <td>208,721.4775</td>\n",
       "      <td>107,315.1750</td>\n",
       "      <td>144,258.4100</td>\n",
       "      <td>943,036.7075</td>\n",
       "      <td>1,111,909.2500</td>\n",
       "      <td>0.0000</td>\n",
       "      <td>0.0000</td>\n",
       "    </tr>\n",
       "    <tr>\n",
       "      <th>max</th>\n",
       "      <td>743.0000</td>\n",
       "      <td>92,445,516.6400</td>\n",
       "      <td>59,585,040.3700</td>\n",
       "      <td>49,585,040.3700</td>\n",
       "      <td>356,015,889.3500</td>\n",
       "      <td>356,179,278.9200</td>\n",
       "      <td>1.0000</td>\n",
       "      <td>1.0000</td>\n",
       "    </tr>\n",
       "  </tbody>\n",
       "</table>\n",
       "</div>"
      ],
      "text/plain": [
       "                      step               amount        oldbalanceOrg  \\\n",
       "count       6,362,620.0000       6,362,620.0000       6,362,620.0000   \n",
       "mean              243.3972         179,861.9035         833,883.1041   \n",
       "std               142.3320         603,858.2315       2,888,242.6730   \n",
       "min                 1.0000               0.0000               0.0000   \n",
       "25%               156.0000          13,389.5700               0.0000   \n",
       "50%               239.0000          74,871.9400          14,208.0000   \n",
       "75%               335.0000         208,721.4775         107,315.1750   \n",
       "max               743.0000      92,445,516.6400      59,585,040.3700   \n",
       "\n",
       "            newbalanceOrig       oldbalanceDest       newbalanceDest  \\\n",
       "count       6,362,620.0000       6,362,620.0000       6,362,620.0000   \n",
       "mean          855,113.6686       1,100,701.6665       1,224,996.3982   \n",
       "std         2,924,048.5030       3,399,180.1130       3,674,128.9421   \n",
       "min                 0.0000               0.0000               0.0000   \n",
       "25%                 0.0000               0.0000               0.0000   \n",
       "50%                 0.0000         132,705.6650         214,661.4400   \n",
       "75%           144,258.4100         943,036.7075       1,111,909.2500   \n",
       "max        49,585,040.3700     356,015,889.3500     356,179,278.9200   \n",
       "\n",
       "                   isFraud       isFlaggedFraud  \n",
       "count       6,362,620.0000       6,362,620.0000  \n",
       "mean                0.0013               0.0000  \n",
       "std                 0.0359               0.0016  \n",
       "min                 0.0000               0.0000  \n",
       "25%                 0.0000               0.0000  \n",
       "50%                 0.0000               0.0000  \n",
       "75%                 0.0000               0.0000  \n",
       "max                 1.0000               1.0000  "
      ]
     },
     "execution_count": 9,
     "metadata": {},
     "output_type": "execute_result"
    }
   ],
   "source": [
    "df.describe()"
   ]
  },
  {
   "cell_type": "markdown",
   "metadata": {},
   "source": [
    "### Perfil geral das transações"
   ]
  },
  {
   "cell_type": "code",
   "execution_count": 10,
   "metadata": {},
   "outputs": [
    {
     "data": {
      "image/png": "[encoded data removed]",
      "text/plain": [
       "<Figure size 1440x720 with 1 Axes>"
      ]
     },
     "metadata": {
      "needs_background": "light"
     },
     "output_type": "display_data"
    }
   ],
   "source": [
    "#Manipulando o tamanho do gráfico\n",
    "plt.figure(figsize=(20,10))\n",
    "#Construindo gráfico de barra das transações\n",
    "sns.countplot('type',data=df)\n",
    "plt.xlabel(\"Tipo de trasação\",fontsize=15)\n",
    "plt.ylabel('Número de transações',fontsize=15)\n",
    "plt.tick_params(labelsize = 15);"
   ]
  },
  {
   "cell_type": "markdown",
   "metadata": {},
   "source": [
    "<b>Os tipos de transações com maior número foram saques (*Cash out*), pagamentos (*payment*) e depósitos (*Cash in*) respectivamente.</b>"
   ]
  },
  {
   "cell_type": "markdown",
   "metadata": {},
   "source": [
    "### Perfil de transações normais"
   ]
  },
  {
   "cell_type": "code",
   "execution_count": 11,
   "metadata": {},
   "outputs": [],
   "source": [
    "#Separando os dados com transações normais\n",
    "df_norm = df[df['isFraud'] == 0]"
   ]
  },
  {
   "cell_type": "code",
   "execution_count": 12,
   "metadata": {},
   "outputs": [
    {
     "data": {
      "image/png": "[encoded data removed]",
      "text/plain": [
       "<Figure size 1440x720 with 1 Axes>"
      ]
     },
     "metadata": {
      "needs_background": "light"
     },
     "output_type": "display_data"
    }
   ],
   "source": [
    "#Manipulando o tamanho do gráfico\n",
    "plt.figure(figsize=(20,10))\n",
    "#Construindo gráfico de barra das transações\n",
    "sns.countplot('type',data=df_norm)\n",
    "plt.xlabel(\"Tipos de transação\",fontsize=15)\n",
    "plt.ylabel('Número de transações',fontsize=15)\n",
    "plt.tick_params(labelsize = 15);"
   ]
  },
  {
   "cell_type": "markdown",
   "metadata": {},
   "source": [
    "<b>Para transações normais, os tipos de transações com maior número também foram *saques, pagamentos e depósitos* respectivamente.</b>"
   ]
  },
  {
   "cell_type": "markdown",
   "metadata": {},
   "source": [
    "### Perfil de transações fraudulentas"
   ]
  },
  {
   "cell_type": "code",
   "execution_count": 14,
   "metadata": {},
   "outputs": [],
   "source": [
    "#Separando os dados com transações normais\n",
    "df_fraud = df[df['isFraud'] == 1]"
   ]
  },
  {
   "cell_type": "code",
   "execution_count": 15,
   "metadata": {},
   "outputs": [
    {
     "data": {
      "image/png": "[encoded data removed]",
      "text/plain": [
       "<Figure size 1440x720 with 1 Axes>"
      ]
     },
     "metadata": {
      "needs_background": "light"
     },
     "output_type": "display_data"
    }
   ],
   "source": [
    "#Manipulando o tamanho do gráfico\n",
    "plt.figure(figsize=(20,10))\n",
    "#Construindo gráfico de barra das transações\n",
    "sns.countplot('type',data=df_fraud)\n",
    "plt.xlabel(\"Tipos de transação\",fontsize=15)\n",
    "plt.ylabel('Número de transações',fontsize=15)\n",
    "plt.tick_params(labelsize = 15);"
   ]
  },
  {
   "cell_type": "markdown",
   "metadata": {},
   "source": [
    "<b>Já para transações fraudulentas, somente dois tipos de transações foram feitas, transferências (*transfer*) e saques (*cash out*).</b>"
   ]
  },
  {
   "cell_type": "markdown",
   "metadata": {},
   "source": [
    "### Pré-processamento das variáveis"
   ]
  },
  {
   "cell_type": "markdown",
   "metadata": {},
   "source": [
    "##### Retirando atributos que não serão utilizados no modelo"
   ]
  },
  {
   "cell_type": "code",
   "execution_count": 16,
   "metadata": {},
   "outputs": [
    {
     "data": {
      "text/html": [
       "<div>\n",
       "<style scoped>\n",
       "    .dataframe tbody tr th:only-of-type {\n",
       "        vertical-align: middle;\n",
       "    }\n",
       "\n",
       "    .dataframe tbody tr th {\n",
       "        vertical-align: top;\n",
       "    }\n",
       "\n",
       "    .dataframe thead th {\n",
       "        text-align: right;\n",
       "    }\n",
       "</style>\n",
       "<table border=\"1\" class=\"dataframe\">\n",
       "  <thead>\n",
       "    <tr style=\"text-align: right;\">\n",
       "      <th></th>\n",
       "      <th>step</th>\n",
       "      <th>type</th>\n",
       "      <th>amount</th>\n",
       "      <th>oldbalanceOrg</th>\n",
       "      <th>newbalanceOrig</th>\n",
       "      <th>oldbalanceDest</th>\n",
       "      <th>newbalanceDest</th>\n",
       "      <th>isFraud</th>\n",
       "    </tr>\n",
       "  </thead>\n",
       "  <tbody>\n",
       "    <tr>\n",
       "      <th>0</th>\n",
       "      <td>1</td>\n",
       "      <td>PAYMENT</td>\n",
       "      <td>9,839.6400</td>\n",
       "      <td>170,136.0000</td>\n",
       "      <td>160,296.3600</td>\n",
       "      <td>0.0000</td>\n",
       "      <td>0.0000</td>\n",
       "      <td>0</td>\n",
       "    </tr>\n",
       "    <tr>\n",
       "      <th>1</th>\n",
       "      <td>1</td>\n",
       "      <td>PAYMENT</td>\n",
       "      <td>1,864.2800</td>\n",
       "      <td>21,249.0000</td>\n",
       "      <td>19,384.7200</td>\n",
       "      <td>0.0000</td>\n",
       "      <td>0.0000</td>\n",
       "      <td>0</td>\n",
       "    </tr>\n",
       "    <tr>\n",
       "      <th>2</th>\n",
       "      <td>1</td>\n",
       "      <td>TRANSFER</td>\n",
       "      <td>181.0000</td>\n",
       "      <td>181.0000</td>\n",
       "      <td>0.0000</td>\n",
       "      <td>0.0000</td>\n",
       "      <td>0.0000</td>\n",
       "      <td>1</td>\n",
       "    </tr>\n",
       "    <tr>\n",
       "      <th>3</th>\n",
       "      <td>1</td>\n",
       "      <td>CASH_OUT</td>\n",
       "      <td>181.0000</td>\n",
       "      <td>181.0000</td>\n",
       "      <td>0.0000</td>\n",
       "      <td>21,182.0000</td>\n",
       "      <td>0.0000</td>\n",
       "      <td>1</td>\n",
       "    </tr>\n",
       "    <tr>\n",
       "      <th>4</th>\n",
       "      <td>1</td>\n",
       "      <td>PAYMENT</td>\n",
       "      <td>11,668.1400</td>\n",
       "      <td>41,554.0000</td>\n",
       "      <td>29,885.8600</td>\n",
       "      <td>0.0000</td>\n",
       "      <td>0.0000</td>\n",
       "      <td>0</td>\n",
       "    </tr>\n",
       "  </tbody>\n",
       "</table>\n",
       "</div>"
      ],
      "text/plain": [
       "   step      type               amount        oldbalanceOrg  \\\n",
       "0     1   PAYMENT           9,839.6400         170,136.0000   \n",
       "1     1   PAYMENT           1,864.2800          21,249.0000   \n",
       "2     1  TRANSFER             181.0000             181.0000   \n",
       "3     1  CASH_OUT             181.0000             181.0000   \n",
       "4     1   PAYMENT          11,668.1400          41,554.0000   \n",
       "\n",
       "        newbalanceOrig       oldbalanceDest       newbalanceDest  isFraud  \n",
       "0         160,296.3600               0.0000               0.0000        0  \n",
       "1          19,384.7200               0.0000               0.0000        0  \n",
       "2               0.0000               0.0000               0.0000        1  \n",
       "3               0.0000          21,182.0000               0.0000        1  \n",
       "4          29,885.8600               0.0000               0.0000        0  "
      ]
     },
     "execution_count": 16,
     "metadata": {},
     "output_type": "execute_result"
    }
   ],
   "source": [
    "#Eliminando atributos que não serão usados\n",
    "df2 = df.drop(['nameOrig','nameDest','isFlaggedFraud'],axis=1)\n",
    "#Verificando o cabeçalho dos gráficos\n",
    "df2.head()"
   ]
  },
  {
   "cell_type": "markdown",
   "metadata": {},
   "source": [
    "##### One hot encoding\n",
    "\n",
    "<p style=\"text-align: justify\">Como o atributo *type* é uma variável categórica nominal, será realizado a técnica de *one hot encoding*, onde cada uma das classes do atributo irá se transformar em um atributo binário.</p>"
   ]
  },
  {
   "cell_type": "code",
   "execution_count": 17,
   "metadata": {},
   "outputs": [
    {
     "data": {
      "text/html": [
       "<div>\n",
       "<style scoped>\n",
       "    .dataframe tbody tr th:only-of-type {\n",
       "        vertical-align: middle;\n",
       "    }\n",
       "\n",
       "    .dataframe tbody tr th {\n",
       "        vertical-align: top;\n",
       "    }\n",
       "\n",
       "    .dataframe thead th {\n",
       "        text-align: right;\n",
       "    }\n",
       "</style>\n",
       "<table border=\"1\" class=\"dataframe\">\n",
       "  <thead>\n",
       "    <tr style=\"text-align: right;\">\n",
       "      <th></th>\n",
       "      <th>step</th>\n",
       "      <th>amount</th>\n",
       "      <th>oldbalanceOrg</th>\n",
       "      <th>newbalanceOrig</th>\n",
       "      <th>oldbalanceDest</th>\n",
       "      <th>newbalanceDest</th>\n",
       "      <th>isFraud</th>\n",
       "      <th>type_CASH_IN</th>\n",
       "      <th>type_CASH_OUT</th>\n",
       "      <th>type_DEBIT</th>\n",
       "      <th>type_PAYMENT</th>\n",
       "      <th>type_TRANSFER</th>\n",
       "    </tr>\n",
       "  </thead>\n",
       "  <tbody>\n",
       "    <tr>\n",
       "      <th>0</th>\n",
       "      <td>1</td>\n",
       "      <td>9,839.6400</td>\n",
       "      <td>170,136.0000</td>\n",
       "      <td>160,296.3600</td>\n",
       "      <td>0.0000</td>\n",
       "      <td>0.0000</td>\n",
       "      <td>0</td>\n",
       "      <td>0</td>\n",
       "      <td>0</td>\n",
       "      <td>0</td>\n",
       "      <td>1</td>\n",
       "      <td>0</td>\n",
       "    </tr>\n",
       "    <tr>\n",
       "      <th>1</th>\n",
       "      <td>1</td>\n",
       "      <td>1,864.2800</td>\n",
       "      <td>21,249.0000</td>\n",
       "      <td>19,384.7200</td>\n",
       "      <td>0.0000</td>\n",
       "      <td>0.0000</td>\n",
       "      <td>0</td>\n",
       "      <td>0</td>\n",
       "      <td>0</td>\n",
       "      <td>0</td>\n",
       "      <td>1</td>\n",
       "      <td>0</td>\n",
       "    </tr>\n",
       "    <tr>\n",
       "      <th>2</th>\n",
       "      <td>1</td>\n",
       "      <td>181.0000</td>\n",
       "      <td>181.0000</td>\n",
       "      <td>0.0000</td>\n",
       "      <td>0.0000</td>\n",
       "      <td>0.0000</td>\n",
       "      <td>1</td>\n",
       "      <td>0</td>\n",
       "      <td>0</td>\n",
       "      <td>0</td>\n",
       "      <td>0</td>\n",
       "      <td>1</td>\n",
       "    </tr>\n",
       "    <tr>\n",
       "      <th>3</th>\n",
       "      <td>1</td>\n",
       "      <td>181.0000</td>\n",
       "      <td>181.0000</td>\n",
       "      <td>0.0000</td>\n",
       "      <td>21,182.0000</td>\n",
       "      <td>0.0000</td>\n",
       "      <td>1</td>\n",
       "      <td>0</td>\n",
       "      <td>1</td>\n",
       "      <td>0</td>\n",
       "      <td>0</td>\n",
       "      <td>0</td>\n",
       "    </tr>\n",
       "    <tr>\n",
       "      <th>4</th>\n",
       "      <td>1</td>\n",
       "      <td>11,668.1400</td>\n",
       "      <td>41,554.0000</td>\n",
       "      <td>29,885.8600</td>\n",
       "      <td>0.0000</td>\n",
       "      <td>0.0000</td>\n",
       "      <td>0</td>\n",
       "      <td>0</td>\n",
       "      <td>0</td>\n",
       "      <td>0</td>\n",
       "      <td>1</td>\n",
       "      <td>0</td>\n",
       "    </tr>\n",
       "  </tbody>\n",
       "</table>\n",
       "</div>"
      ],
      "text/plain": [
       "   step               amount        oldbalanceOrg       newbalanceOrig  \\\n",
       "0     1           9,839.6400         170,136.0000         160,296.3600   \n",
       "1     1           1,864.2800          21,249.0000          19,384.7200   \n",
       "2     1             181.0000             181.0000               0.0000   \n",
       "3     1             181.0000             181.0000               0.0000   \n",
       "4     1          11,668.1400          41,554.0000          29,885.8600   \n",
       "\n",
       "        oldbalanceDest       newbalanceDest  isFraud  type_CASH_IN  \\\n",
       "0               0.0000               0.0000        0             0   \n",
       "1               0.0000               0.0000        0             0   \n",
       "2               0.0000               0.0000        1             0   \n",
       "3          21,182.0000               0.0000        1             0   \n",
       "4               0.0000               0.0000        0             0   \n",
       "\n",
       "   type_CASH_OUT  type_DEBIT  type_PAYMENT  type_TRANSFER  \n",
       "0              0           0             1              0  \n",
       "1              0           0             1              0  \n",
       "2              0           0             0              1  \n",
       "3              1           0             0              0  \n",
       "4              0           0             1              0  "
      ]
     },
     "execution_count": 17,
     "metadata": {},
     "output_type": "execute_result"
    }
   ],
   "source": [
    "#Criando uma lista com o nome das colunas \n",
    "categorical = ['type']\n",
    "#Transformando variáveis categóricas em binárias\n",
    "df2 = pd.get_dummies(df2, columns=categorical)\n",
    "#Verificando o cabeçalho dos gráficos\n",
    "df2.head()"
   ]
  },
  {
   "cell_type": "markdown",
   "metadata": {},
   "source": [
    "##### Normalização\n",
    "\n",
    "<p style=\"text-align: justify\">Como as variáveis contínuas possuem escalas de valores distintos, será realizado uma normalização dos valores para que os atributos com maior escala não influenciem na classificação do modelo.</p>"
   ]
  },
  {
   "cell_type": "code",
   "execution_count": 18,
   "metadata": {},
   "outputs": [
    {
     "data": {
      "text/html": [
       "<div>\n",
       "<style scoped>\n",
       "    .dataframe tbody tr th:only-of-type {\n",
       "        vertical-align: middle;\n",
       "    }\n",
       "\n",
       "    .dataframe tbody tr th {\n",
       "        vertical-align: top;\n",
       "    }\n",
       "\n",
       "    .dataframe thead th {\n",
       "        text-align: right;\n",
       "    }\n",
       "</style>\n",
       "<table border=\"1\" class=\"dataframe\">\n",
       "  <thead>\n",
       "    <tr style=\"text-align: right;\">\n",
       "      <th></th>\n",
       "      <th>step</th>\n",
       "      <th>amount</th>\n",
       "      <th>oldbalanceOrg</th>\n",
       "      <th>newbalanceOrig</th>\n",
       "      <th>oldbalanceDest</th>\n",
       "      <th>newbalanceDest</th>\n",
       "      <th>isFraud</th>\n",
       "      <th>type_CASH_IN</th>\n",
       "      <th>type_CASH_OUT</th>\n",
       "      <th>type_DEBIT</th>\n",
       "      <th>type_PAYMENT</th>\n",
       "      <th>type_TRANSFER</th>\n",
       "    </tr>\n",
       "  </thead>\n",
       "  <tbody>\n",
       "    <tr>\n",
       "      <th>0</th>\n",
       "      <td>0.0000</td>\n",
       "      <td>0.0001</td>\n",
       "      <td>0.0029</td>\n",
       "      <td>0.0032</td>\n",
       "      <td>0.0000</td>\n",
       "      <td>0.0000</td>\n",
       "      <td>0</td>\n",
       "      <td>0.0000</td>\n",
       "      <td>0.0000</td>\n",
       "      <td>0.0000</td>\n",
       "      <td>1.0000</td>\n",
       "      <td>0.0000</td>\n",
       "    </tr>\n",
       "    <tr>\n",
       "      <th>1</th>\n",
       "      <td>0.0000</td>\n",
       "      <td>0.0000</td>\n",
       "      <td>0.0004</td>\n",
       "      <td>0.0004</td>\n",
       "      <td>0.0000</td>\n",
       "      <td>0.0000</td>\n",
       "      <td>0</td>\n",
       "      <td>0.0000</td>\n",
       "      <td>0.0000</td>\n",
       "      <td>0.0000</td>\n",
       "      <td>1.0000</td>\n",
       "      <td>0.0000</td>\n",
       "    </tr>\n",
       "    <tr>\n",
       "      <th>2</th>\n",
       "      <td>0.0000</td>\n",
       "      <td>0.0000</td>\n",
       "      <td>0.0000</td>\n",
       "      <td>0.0000</td>\n",
       "      <td>0.0000</td>\n",
       "      <td>0.0000</td>\n",
       "      <td>1</td>\n",
       "      <td>0.0000</td>\n",
       "      <td>0.0000</td>\n",
       "      <td>0.0000</td>\n",
       "      <td>0.0000</td>\n",
       "      <td>1.0000</td>\n",
       "    </tr>\n",
       "    <tr>\n",
       "      <th>3</th>\n",
       "      <td>0.0000</td>\n",
       "      <td>0.0000</td>\n",
       "      <td>0.0000</td>\n",
       "      <td>0.0000</td>\n",
       "      <td>0.0001</td>\n",
       "      <td>0.0000</td>\n",
       "      <td>1</td>\n",
       "      <td>0.0000</td>\n",
       "      <td>1.0000</td>\n",
       "      <td>0.0000</td>\n",
       "      <td>0.0000</td>\n",
       "      <td>0.0000</td>\n",
       "    </tr>\n",
       "    <tr>\n",
       "      <th>4</th>\n",
       "      <td>0.0000</td>\n",
       "      <td>0.0001</td>\n",
       "      <td>0.0007</td>\n",
       "      <td>0.0006</td>\n",
       "      <td>0.0000</td>\n",
       "      <td>0.0000</td>\n",
       "      <td>0</td>\n",
       "      <td>0.0000</td>\n",
       "      <td>0.0000</td>\n",
       "      <td>0.0000</td>\n",
       "      <td>1.0000</td>\n",
       "      <td>0.0000</td>\n",
       "    </tr>\n",
       "  </tbody>\n",
       "</table>\n",
       "</div>"
      ],
      "text/plain": [
       "                  step               amount        oldbalanceOrg  \\\n",
       "0               0.0000               0.0001               0.0029   \n",
       "1               0.0000               0.0000               0.0004   \n",
       "2               0.0000               0.0000               0.0000   \n",
       "3               0.0000               0.0000               0.0000   \n",
       "4               0.0000               0.0001               0.0007   \n",
       "\n",
       "        newbalanceOrig       oldbalanceDest       newbalanceDest  isFraud  \\\n",
       "0               0.0032               0.0000               0.0000        0   \n",
       "1               0.0004               0.0000               0.0000        0   \n",
       "2               0.0000               0.0000               0.0000        1   \n",
       "3               0.0000               0.0001               0.0000        1   \n",
       "4               0.0006               0.0000               0.0000        0   \n",
       "\n",
       "          type_CASH_IN        type_CASH_OUT           type_DEBIT  \\\n",
       "0               0.0000               0.0000               0.0000   \n",
       "1               0.0000               0.0000               0.0000   \n",
       "2               0.0000               0.0000               0.0000   \n",
       "3               0.0000               1.0000               0.0000   \n",
       "4               0.0000               0.0000               0.0000   \n",
       "\n",
       "          type_PAYMENT        type_TRANSFER  \n",
       "0               1.0000               0.0000  \n",
       "1               1.0000               0.0000  \n",
       "2               0.0000               1.0000  \n",
       "3               0.0000               0.0000  \n",
       "4               1.0000               0.0000  "
      ]
     },
     "execution_count": 18,
     "metadata": {},
     "output_type": "execute_result"
    }
   ],
   "source": [
    "#Criando uma lista com as variáveis categóricas\n",
    "atribu = ['step', 'amount', 'oldbalanceOrg', 'newbalanceOrig', 'oldbalanceDest',\n",
    "       'newbalanceDest', 'type_CASH_IN', 'type_CASH_OUT','type_DEBIT', 'type_PAYMENT', 'type_TRANSFER']\n",
    "#Padronizando as variáveis\n",
    "scale = MinMaxScaler()\n",
    "df2[atribu] = scale.fit_transform(df2[atribu])\n",
    "#Verificando o cabeçalho dos dados\n",
    "df2.head()"
   ]
  },
  {
   "cell_type": "markdown",
   "metadata": {},
   "source": [
    "##### Verificando o tamanho do conjunto de dados depois do pré-processamento"
   ]
  },
  {
   "cell_type": "code",
   "execution_count": 19,
   "metadata": {},
   "outputs": [
    {
     "name": "stdout",
     "output_type": "stream",
     "text": [
      "Número de linhas: 6362620 \n",
      "\n",
      "Número de colunas: 12\n"
     ]
    }
   ],
   "source": [
    "print(\"Número de linhas: {}\".format(df2.shape[0]),'\\n')\n",
    "print(\"Número de colunas: {}\".format(df2.shape[1]))"
   ]
  },
  {
   "cell_type": "markdown",
   "metadata": {},
   "source": [
    "##### Separando os dados do modelo"
   ]
  },
  {
   "cell_type": "code",
   "execution_count": 22,
   "metadata": {},
   "outputs": [],
   "source": [
    "x = df2.drop('isFraud', axis=1)\n",
    "y = df2['isFraud']"
   ]
  },
  {
   "cell_type": "code",
   "execution_count": 23,
   "metadata": {},
   "outputs": [
    {
     "name": "stdout",
     "output_type": "stream",
     "text": [
      "0    6354407\n",
      "1       8213\n",
      "Name: isFraud, dtype: int64\n"
     ]
    },
    {
     "data": {
      "image/png": "[encoded data removed]",
      "text/plain": [
       "<Figure size 864x576 with 1 Axes>"
      ]
     },
     "metadata": {
      "needs_background": "light"
     },
     "output_type": "display_data"
    }
   ],
   "source": [
    "#Verificando tamanho das classes\n",
    "plt.figure(figsize=(12,8))\n",
    "print(pd.Series(y.value_counts()))\n",
    "sns.countplot(y);"
   ]
  },
  {
   "cell_type": "markdown",
   "metadata": {},
   "source": [
    "<p style=\"text-align: justify\">Como relatado anteriormente, o número de transações normais é muito maior do que número de transações fraudulentes e isto pode influenciar na performance do modelo. Dessa maneira, será realizado um modelo com os dados desbalanceados e posteriomente será realizado uma outra análise utilizando os dados balanceados.</p>"
   ]
  },
  {
   "cell_type": "markdown",
   "metadata": {},
   "source": [
    "### Separando dados de treino e teste"
   ]
  },
  {
   "cell_type": "code",
   "execution_count": 24,
   "metadata": {},
   "outputs": [],
   "source": [
    "x_train, x_test, y_train, y_test = train_test_split(x,y, test_size= 0.3, random_state = 42)"
   ]
  },
  {
   "cell_type": "code",
   "execution_count": 25,
   "metadata": {},
   "outputs": [
    {
     "name": "stdout",
     "output_type": "stream",
     "text": [
      "(4453834, 11)\n",
      "(4453834,)\n"
     ]
    }
   ],
   "source": [
    "#Verificando o tamanho dos dados de treino\n",
    "print(x_train.shape)\n",
    "print(y_train.shape)"
   ]
  },
  {
   "cell_type": "markdown",
   "metadata": {},
   "source": [
    "### Estrutura da rede\n",
    "\n",
    "<p style=\"text-align: justify\">A rede neural será composta de uma camada de entrada, uma camada oculta e uma camada de saída. A camada de entrada e oculta possuirão 7 \"neurônios\"(<i>units</i>), enquanto a camada de saída terá 1. A função de ativação para a camada de entrada e a oculta será a relu. Essa função transforma entradas negativas em zero e não satura para valores de entrada grandes. Para a camada de saída, será utilizada a função sigmóide, por ser um problema de classificação, e os valores dos pesos iniciarão de maneira aleatória dentro de uma distribuição uniforme (<i>kernel_initializer</i>). O número de entradas na camada de entrada (<i>input_dim</i>) é correspondente ao número de atributos que serão utilizados na análise. O otimizador será o Adam, que possui um bom desempenho em diversas análises, a função de custo utilizada será a <i>binary_crossentropy</i>, por ser um problema de classificação, e a métrica de avaliação da rede será a acurácia(<i>binary_accuracy</i>).</p>   "
   ]
  },
  {
   "cell_type": "code",
   "execution_count": 26,
   "metadata": {},
   "outputs": [
    {
     "name": "stdout",
     "output_type": "stream",
     "text": [
      "Model: \"sequential\"\n",
      "_________________________________________________________________\n",
      "Layer (type)                 Output Shape              Param #   \n",
      "=================================================================\n",
      "dense (Dense)                (None, 7)                 84        \n",
      "_________________________________________________________________\n",
      "dense_1 (Dense)              (None, 7)                 56        \n",
      "_________________________________________________________________\n",
      "dense_2 (Dense)              (None, 1)                 8         \n",
      "=================================================================\n",
      "Total params: 148\n",
      "Trainable params: 148\n",
      "Non-trainable params: 0\n",
      "_________________________________________________________________\n"
     ]
    }
   ],
   "source": [
    "clf_cred = Sequential()\n",
    "\n",
    "clf_cred.add(Dense(units = 7, activation = 'relu', kernel_initializer = 'random_uniform', input_dim = 11 ))\n",
    "clf_cred.add(Dense(units = 7, activation = 'relu', kernel_initializer = 'random_uniform' ))\n",
    "clf_cred.add(Dense(units = 1, activation = 'sigmoid'))\n",
    "\n",
    "clf_cred.compile(optimizer = 'adam', loss = 'binary_crossentropy', metrics = ['binary_accuracy'])\n",
    "clf_cred.summary()"
   ]
  },
  {
   "cell_type": "markdown",
   "metadata": {},
   "source": [
    "### Treinando a rede\n",
    "\n",
    "<p style=\"text-align: justify\">A rede será executada em lotes de 1000 instâncias (<i>batch_size</i>) e 100 iterações de treinamento(<i>epochs</i>) devido ao número grande de instâncias no conjunto de dados (4.453.834). Se o lote de instâncias  fosse menor e número de iterações de treinamento maior, o tempo de processamento da rede seria muito grande.<p>"
   ]
  },
  {
   "cell_type": "code",
   "execution_count": 27,
   "metadata": {},
   "outputs": [
    {
     "name": "stdout",
     "output_type": "stream",
     "text": [
      "Epoch 1/100\n",
      "4454/4454 [==============================] - 6s 1ms/step - loss: 0.0418 - binary_accuracy: 0.9984\n",
      "Epoch 2/100\n",
      "4454/4454 [==============================] - 7s 1ms/step - loss: 0.0079 - binary_accuracy: 0.9987\n",
      "Epoch 3/100\n",
      "4454/4454 [==============================] - 7s 1ms/step - loss: 0.0069 - binary_accuracy: 0.9987\n",
      "Epoch 4/100\n",
      "4454/4454 [==============================] - 6s 1ms/step - loss: 0.0062 - binary_accuracy: 0.9989\n",
      "Epoch 5/100\n",
      "4454/4454 [==============================] - 7s 2ms/step - loss: 0.0054 - binary_accuracy: 0.9990\n",
      "Epoch 6/100\n",
      "4454/4454 [==============================] - 6s 1ms/step - loss: 0.0049 - binary_accuracy: 0.9991\n",
      "Epoch 7/100\n",
      "4454/4454 [==============================] - 7s 2ms/step - loss: 0.0047 - binary_accuracy: 0.9991\n",
      "Epoch 8/100\n",
      "4454/4454 [==============================] - 6s 1ms/step - loss: 0.0045 - binary_accuracy: 0.9992\n",
      "Epoch 9/100\n",
      "4454/4454 [==============================] - 6s 1ms/step - loss: 0.0043 - binary_accuracy: 0.9992\n",
      "Epoch 10/100\n",
      "4454/4454 [==============================] - 7s 2ms/step - loss: 0.0042 - binary_accuracy: 0.9992\n",
      "Epoch 11/100\n",
      "4454/4454 [==============================] - 6s 1ms/step - loss: 0.0041 - binary_accuracy: 0.9992\n",
      "Epoch 12/100\n",
      "4454/4454 [==============================] - 7s 1ms/step - loss: 0.0040 - binary_accuracy: 0.9992\n",
      "Epoch 13/100\n",
      "4454/4454 [==============================] - 7s 2ms/step - loss: 0.0039 - binary_accuracy: 0.9992\n",
      "Epoch 14/100\n",
      "4454/4454 [==============================] - 7s 2ms/step - loss: 0.0038 - binary_accuracy: 0.9992\n",
      "Epoch 15/100\n",
      "4454/4454 [==============================] - 7s 2ms/step - loss: 0.0038 - binary_accuracy: 0.9992\n",
      "Epoch 16/100\n",
      "4454/4454 [==============================] - 7s 1ms/step - loss: 0.0037 - binary_accuracy: 0.9992\n",
      "Epoch 17/100\n",
      "4454/4454 [==============================] - 7s 2ms/step - loss: 0.0036 - binary_accuracy: 0.9993\n",
      "Epoch 18/100\n",
      "4454/4454 [==============================] - 7s 1ms/step - loss: 0.0036 - binary_accuracy: 0.9993\n",
      "Epoch 19/100\n",
      "4454/4454 [==============================] - 8s 2ms/step - loss: 0.0035 - binary_accuracy: 0.9993\n",
      "Epoch 20/100\n",
      "4454/4454 [==============================] - 6s 1ms/step - loss: 0.0035 - binary_accuracy: 0.9993\n",
      "Epoch 21/100\n",
      "4454/4454 [==============================] - 7s 1ms/step - loss: 0.0034 - binary_accuracy: 0.9993\n",
      "Epoch 22/100\n",
      "4454/4454 [==============================] - 7s 2ms/step - loss: 0.0034 - binary_accuracy: 0.9993\n",
      "Epoch 23/100\n",
      "4454/4454 [==============================] - 6s 1ms/step - loss: 0.0033 - binary_accuracy: 0.9993\n",
      "Epoch 24/100\n",
      "4454/4454 [==============================] - 7s 2ms/step - loss: 0.0033 - binary_accuracy: 0.9993\n",
      "Epoch 25/100\n",
      "4454/4454 [==============================] - 6s 1ms/step - loss: 0.0032 - binary_accuracy: 0.9993\n",
      "Epoch 26/100\n",
      "4454/4454 [==============================] - 7s 2ms/step - loss: 0.0031 - binary_accuracy: 0.9993\n",
      "Epoch 27/100\n",
      "4454/4454 [==============================] - 6s 1ms/step - loss: 0.0030 - binary_accuracy: 0.9993\n",
      "Epoch 28/100\n",
      "4454/4454 [==============================] - 6s 1ms/step - loss: 0.0029 - binary_accuracy: 0.9993\n",
      "Epoch 29/100\n",
      "4454/4454 [==============================] - 7s 2ms/step - loss: 0.0028 - binary_accuracy: 0.9994\n",
      "Epoch 30/100\n",
      "4454/4454 [==============================] - 6s 1ms/step - loss: 0.0027 - binary_accuracy: 0.9994\n",
      "Epoch 31/100\n",
      "4454/4454 [==============================] - 7s 2ms/step - loss: 0.0026 - binary_accuracy: 0.9994\n",
      "Epoch 32/100\n",
      "4454/4454 [==============================] - 6s 1ms/step - loss: 0.0026 - binary_accuracy: 0.9994\n",
      "Epoch 33/100\n",
      "4454/4454 [==============================] - 6s 1ms/step - loss: 0.0025 - binary_accuracy: 0.9994\n",
      "Epoch 34/100\n",
      "4454/4454 [==============================] - 7s 2ms/step - loss: 0.0025 - binary_accuracy: 0.9994\n",
      "Epoch 35/100\n",
      "4454/4454 [==============================] - 6s 1ms/step - loss: 0.0024 - binary_accuracy: 0.9994\n",
      "Epoch 36/100\n",
      "4454/4454 [==============================] - 7s 2ms/step - loss: 0.0024 - binary_accuracy: 0.9994\n",
      "Epoch 37/100\n",
      "4454/4454 [==============================] - 7s 2ms/step - loss: 0.0024 - binary_accuracy: 0.9994\n",
      "Epoch 38/100\n",
      "4454/4454 [==============================] - 7s 2ms/step - loss: 0.0024 - binary_accuracy: 0.9994\n",
      "Epoch 39/100\n",
      "4454/4454 [==============================] - 8s 2ms/step - loss: 0.0023 - binary_accuracy: 0.9994\n",
      "Epoch 40/100\n",
      "4454/4454 [==============================] - 8s 2ms/step - loss: 0.0023 - binary_accuracy: 0.9994\n",
      "Epoch 41/100\n",
      "4454/4454 [==============================] - 6s 1ms/step - loss: 0.0023 - binary_accuracy: 0.9994\n",
      "Epoch 42/100\n",
      "4454/4454 [==============================] - 6s 1ms/step - loss: 0.0023 - binary_accuracy: 0.9995\n",
      "Epoch 43/100\n",
      "4454/4454 [==============================] - 7s 2ms/step - loss: 0.0022 - binary_accuracy: 0.9995\n",
      "Epoch 44/100\n",
      "4454/4454 [==============================] - ETA: 0s - loss: 0.0022 - binary_accuracy: 0.999 - 6s 1ms/step - loss: 0.0022 - binary_accuracy: 0.9994\n",
      "Epoch 45/100\n",
      "4454/4454 [==============================] - 7s 2ms/step - loss: 0.0022 - binary_accuracy: 0.9995\n",
      "Epoch 46/100\n",
      "4454/4454 [==============================] - 6s 1ms/step - loss: 0.0022 - binary_accuracy: 0.9995\n",
      "Epoch 47/100\n",
      "4454/4454 [==============================] - 7s 2ms/step - loss: 0.0022 - binary_accuracy: 0.9995\n",
      "Epoch 48/100\n",
      "4454/4454 [==============================] - 6s 1ms/step - loss: 0.0022 - binary_accuracy: 0.9995\n",
      "Epoch 49/100\n",
      "4454/4454 [==============================] - 7s 2ms/step - loss: 0.0022 - binary_accuracy: 0.9995\n",
      "Epoch 50/100\n",
      "4454/4454 [==============================] - 7s 2ms/step - loss: 0.0021 - binary_accuracy: 0.9995\n",
      "Epoch 51/100\n",
      "4454/4454 [==============================] - 6s 1ms/step - loss: 0.0021 - binary_accuracy: 0.9995\n",
      "Epoch 52/100\n",
      "4454/4454 [==============================] - 7s 2ms/step - loss: 0.0021 - binary_accuracy: 0.9995\n",
      "Epoch 53/100\n",
      "4454/4454 [==============================] - 7s 1ms/step - loss: 0.0021 - binary_accuracy: 0.9995\n",
      "Epoch 54/100\n",
      "4454/4454 [==============================] - 7s 2ms/step - loss: 0.0021 - binary_accuracy: 0.9995\n",
      "Epoch 55/100\n",
      "4454/4454 [==============================] - 7s 2ms/step - loss: 0.0021 - binary_accuracy: 0.9995\n",
      "Epoch 56/100\n",
      "4454/4454 [==============================] - 7s 2ms/step - loss: 0.0021 - binary_accuracy: 0.9995\n",
      "Epoch 57/100\n",
      "4454/4454 [==============================] - 7s 2ms/step - loss: 0.0021 - binary_accuracy: 0.9995\n",
      "Epoch 58/100\n",
      "4454/4454 [==============================] - 7s 1ms/step - loss: 0.0021 - binary_accuracy: 0.9995\n",
      "Epoch 59/100\n",
      "4454/4454 [==============================] - 7s 2ms/step - loss: 0.0021 - binary_accuracy: 0.9995\n",
      "Epoch 60/100\n",
      "4454/4454 [==============================] - 7s 1ms/step - loss: 0.0020 - binary_accuracy: 0.9995\n",
      "Epoch 61/100\n",
      "4454/4454 [==============================] - 7s 2ms/step - loss: 0.0020 - binary_accuracy: 0.9995\n",
      "Epoch 62/100\n",
      "4454/4454 [==============================] - 7s 1ms/step - loss: 0.0020 - binary_accuracy: 0.9995\n",
      "Epoch 63/100\n",
      "4454/4454 [==============================] - 7s 1ms/step - loss: 0.0020 - binary_accuracy: 0.9995\n",
      "Epoch 64/100\n",
      "4454/4454 [==============================] - 7s 2ms/step - loss: 0.0020 - binary_accuracy: 0.9995\n",
      "Epoch 65/100\n",
      "4454/4454 [==============================] - 7s 1ms/step - loss: 0.0020 - binary_accuracy: 0.9995\n",
      "Epoch 66/100\n",
      "4454/4454 [==============================] - 8s 2ms/step - loss: 0.0020 - binary_accuracy: 0.9995\n",
      "Epoch 67/100\n",
      "4454/4454 [==============================] - 8s 2ms/step - loss: 0.0020 - binary_accuracy: 0.9995\n",
      "Epoch 68/100\n",
      "4454/4454 [==============================] - 11s 3ms/step - loss: 0.0020 - binary_accuracy: 0.9995\n",
      "Epoch 69/100\n",
      "4454/4454 [==============================] - 8s 2ms/step - loss: 0.0020 - binary_accuracy: 0.9995\n",
      "Epoch 70/100\n",
      "4454/4454 [==============================] - 7s 2ms/step - loss: 0.0020 - binary_accuracy: 0.9995\n",
      "Epoch 71/100\n",
      "4454/4454 [==============================] - 7s 1ms/step - loss: 0.0019 - binary_accuracy: 0.9995\n",
      "Epoch 72/100\n",
      "4454/4454 [==============================] - 7s 2ms/step - loss: 0.0020 - binary_accuracy: 0.9995\n",
      "Epoch 73/100\n",
      "4454/4454 [==============================] - 7s 1ms/step - loss: 0.0020 - binary_accuracy: 0.9995\n",
      "Epoch 74/100\n",
      "4454/4454 [==============================] - 7s 1ms/step - loss: 0.0019 - binary_accuracy: 0.9995\n",
      "Epoch 75/100\n",
      "4454/4454 [==============================] - 6s 1ms/step - loss: 0.0019 - binary_accuracy: 0.9995\n",
      "Epoch 76/100\n",
      "4454/4454 [==============================] - 6s 1ms/step - loss: 0.0020 - binary_accuracy: 0.9995\n",
      "Epoch 77/100\n",
      "4454/4454 [==============================] - 7s 1ms/step - loss: 0.0020 - binary_accuracy: 0.9995\n",
      "Epoch 78/100\n",
      "4454/4454 [==============================] - 6s 1ms/step - loss: 0.0019 - binary_accuracy: 0.9995\n",
      "Epoch 79/100\n",
      "4454/4454 [==============================] - 7s 1ms/step - loss: 0.0019 - binary_accuracy: 0.9995\n",
      "Epoch 80/100\n",
      "4454/4454 [==============================] - 6s 1ms/step - loss: 0.0019 - binary_accuracy: 0.9995\n",
      "Epoch 81/100\n",
      "4454/4454 [==============================] - 6s 1ms/step - loss: 0.0019 - binary_accuracy: 0.9995\n",
      "Epoch 82/100\n",
      "4454/4454 [==============================] - 7s 1ms/step - loss: 0.0019 - binary_accuracy: 0.9995\n",
      "Epoch 83/100\n",
      "4454/4454 [==============================] - 6s 1ms/step - loss: 0.0019 - binary_accuracy: 0.9995\n",
      "Epoch 84/100\n",
      "4454/4454 [==============================] - 6s 1ms/step - loss: 0.0019 - binary_accuracy: 0.9995\n",
      "Epoch 85/100\n",
      "4454/4454 [==============================] - 6s 1ms/step - loss: 0.0019 - binary_accuracy: 0.9995\n",
      "Epoch 86/100\n",
      "4454/4454 [==============================] - 6s 1ms/step - loss: 0.0019 - binary_accuracy: 0.9995\n",
      "Epoch 87/100\n",
      "4454/4454 [==============================] - 7s 1ms/step - loss: 0.0019 - binary_accuracy: 0.9995\n",
      "Epoch 88/100\n",
      "4454/4454 [==============================] - 6s 1ms/step - loss: 0.0019 - binary_accuracy: 0.9995\n",
      "Epoch 89/100\n",
      "4454/4454 [==============================] - 6s 1ms/step - loss: 0.0019 - binary_accuracy: 0.9995\n",
      "Epoch 90/100\n",
      "4454/4454 [==============================] - 6s 1ms/step - loss: 0.0019 - binary_accuracy: 0.9995\n",
      "Epoch 91/100\n",
      "4454/4454 [==============================] - 7s 1ms/step - loss: 0.0019 - binary_accuracy: 0.9995\n",
      "Epoch 92/100\n",
      "4454/4454 [==============================] - 7s 2ms/step - loss: 0.0019 - binary_accuracy: 0.9995\n",
      "Epoch 93/100\n",
      "4454/4454 [==============================] - 6s 1ms/step - loss: 0.0019 - binary_accuracy: 0.9995\n",
      "Epoch 94/100\n",
      "4454/4454 [==============================] - 7s 1ms/step - loss: 0.0019 - binary_accuracy: 0.9995\n",
      "Epoch 95/100\n",
      "4454/4454 [==============================] - 6s 1ms/step - loss: 0.0019 - binary_accuracy: 0.9995\n",
      "Epoch 96/100\n",
      "4454/4454 [==============================] - 6s 1ms/step - loss: 0.0019 - binary_accuracy: 0.9995\n",
      "Epoch 97/100\n",
      "4454/4454 [==============================] - 7s 1ms/step - loss: 0.0019 - binary_accuracy: 0.9995\n",
      "Epoch 98/100\n",
      "4454/4454 [==============================] - 6s 1ms/step - loss: 0.0019 - binary_accuracy: 0.9995\n",
      "Epoch 99/100\n",
      "4454/4454 [==============================] - 7s 1ms/step - loss: 0.0018 - binary_accuracy: 0.9995\n",
      "Epoch 100/100\n",
      "4454/4454 [==============================] - 6s 1ms/step - loss: 0.0018 - binary_accuracy: 0.9995\n"
     ]
    },
    {
     "data": {
      "text/plain": [
       "<tensorflow.python.keras.callbacks.History at 0x25588124dc8>"
      ]
     },
     "execution_count": 27,
     "metadata": {},
     "output_type": "execute_result"
    }
   ],
   "source": [
    "batch_size = 1000\n",
    "epochs = 100\n",
    "\n",
    "clf_cred.fit(x_train, y_train,batch_size = batch_size, epochs = epochs)"
   ]
  },
  {
   "cell_type": "code",
   "execution_count": 28,
   "metadata": {},
   "outputs": [
    {
     "name": "stdout",
     "output_type": "stream",
     "text": [
      "Acurácia: 99.95% \n",
      "\n",
      "Sensibilidade: 61.72% \n",
      "\n",
      "Precisão: 97.28% \n",
      "\n",
      "F1-score: 0.76 \n",
      "\n",
      "Relatório de classificação:\n",
      "              precision    recall  f1-score   support\n",
      "\n",
      "           0       1.00      1.00      1.00   1906351\n",
      "           1       0.97      0.62      0.76      2435\n",
      "\n",
      "    accuracy                           1.00   1908786\n",
      "   macro avg       0.99      0.81      0.88   1908786\n",
      "weighted avg       1.00      1.00      1.00   1908786\n",
      "\n"
     ]
    },
    {
     "data": {
      "image/png": "[encoded data removed]",
      "text/plain": [
       "<Figure size 432x288 with 1 Axes>"
      ]
     },
     "metadata": {
      "needs_background": "light"
     },
     "output_type": "display_data"
    }
   ],
   "source": [
    "predictions = clf_cred.predict(x_test)\n",
    "predictions = (predictions > 0.5)\n",
    "\n",
    "print(\"Acurácia: {0:.2f}%\".format(100 * accuracy_score(y_test,predictions)),'\\n')\n",
    "print(\"Sensibilidade: {0:.2f}%\".format(100* recall_score(y_test,predictions)),'\\n')\n",
    "print(\"Precisão: {0:.2f}%\".format(100* precision_score(y_test,predictions)),'\\n')\n",
    "print(\"F1-score: {0:.2f}\".format(f1_score(y_test,predictions)),'\\n')\n",
    "print(\"Relatório de classificação:\\n{}\".format(classification_report(y_test,predictions)))\n",
    "\n",
    "cm=confusion_matrix(y_test,predictions)\n",
    "ax = sns.heatmap(cm,annot=True,cbar=False, fmt ='d', cmap=\"copper_r\")\n",
    "ax.set_title('Confusion matrix', fontsize=18,pad=10)\n",
    "ax.set_xlabel('Previsto', fontsize=18)\n",
    "ax.set_ylabel('Real', fontsize=18,rotation=0)\n",
    "ax.set_xticklabels(['Normal','Fraude'])\n",
    "ax.set_yticklabels(['Normal','Fraude'], rotation=0);"
   ]
  },
  {
   "cell_type": "markdown",
   "metadata": {},
   "source": [
    "<p style=\"text-align: justify\">O modelo teve acurácia de 99.95%, entretanto está não é a melhor métrica para avaliar o modelo. Como previsto, o modelo foi bastante sensível e preciso para encontrar as transações normais (<i>Recall</i> e <i>Precison</i>), mas para detectar as transações fraudulentas, o modelo teve 70% de performance com uma precisão de 98%. Ou seja, o modelo classifica as trasanções fraudulentas em 62% das vezes, e dessas, é assertivo em 97%. Além disso, o modelo possui um <i>f1-score</i> de 88%, que avalia a média harmônica entre a sensibilidade e precisão. Logo, apesar do modelo ter uma boa precisão para as fraudes, o mesmo não está tendo um desempenho satisfatório para encontrar essas transações fraudulentas. Isso porque o número de falsos positivos(transações fraudulentas que são consideradas normais) ainda é grande(932), e isso pode ter um custo alto para a empresa. Assim, será realizado um balanceamento dos dados com a finalidade de tentar melhorar a performance do modelo para a classe de interesse (transações fraudulentas).</p> "
   ]
  },
  {
   "cell_type": "markdown",
   "metadata": {},
   "source": [
    "### Random Under Sampling\n",
    "\n",
    "<p style=\"text-align: justify\">Esta técnica consiste em retirar instâncias da classe majoritária de maneira aleatória a fim de balancear o conjuto de dados entre as duas classes. Apesar de diminuir a classe majoritária (transações normais), o grande número de instâncias desta classe ainda permite deixar o conjunto de dados com um grande número de instâncias.</p>"
   ]
  },
  {
   "cell_type": "markdown",
   "metadata": {},
   "source": [
    "##### Undersampling"
   ]
  },
  {
   "cell_type": "code",
   "execution_count": 29,
   "metadata": {},
   "outputs": [],
   "source": [
    "#Balanceando as classes \n",
    "us = RandomUnderSampler(sampling_strategy=\"majority\", random_state=42)\n",
    "x_us,y_us = us.fit_sample(x,y)"
   ]
  },
  {
   "cell_type": "code",
   "execution_count": 30,
   "metadata": {},
   "outputs": [
    {
     "name": "stdout",
     "output_type": "stream",
     "text": [
      "0    8213\n",
      "1    8213\n",
      "Name: isFraud, dtype: int64\n"
     ]
    },
    {
     "data": {
      "image/png": "[encoded data removed]",
      "text/plain": [
       "<Figure size 864x576 with 1 Axes>"
      ]
     },
     "metadata": {
      "needs_background": "light"
     },
     "output_type": "display_data"
    }
   ],
   "source": [
    "#Criando um gráfico das classes balanceadas \n",
    "plt.figure(figsize=(12,8))\n",
    "print(pd.Series(y_us.value_counts()))\n",
    "sns.countplot(y_us);"
   ]
  },
  {
   "cell_type": "markdown",
   "metadata": {},
   "source": [
    "Agora com o conjunto de dados balanceado será realizado novamente a análise com a rede neural."
   ]
  },
  {
   "cell_type": "markdown",
   "metadata": {},
   "source": [
    "### Separando dados de treino e teste"
   ]
  },
  {
   "cell_type": "code",
   "execution_count": 31,
   "metadata": {},
   "outputs": [],
   "source": [
    "x_train_us, x_test_us, y_train_us, y_test_us = train_test_split(x_us,y_us, test_size= 0.3, random_state = 42)"
   ]
  },
  {
   "cell_type": "code",
   "execution_count": 32,
   "metadata": {},
   "outputs": [
    {
     "name": "stdout",
     "output_type": "stream",
     "text": [
      "(11498, 11)\n",
      "(11498,)\n"
     ]
    }
   ],
   "source": [
    "print(x_train_us.shape)\n",
    "print(y_train_us.shape)"
   ]
  },
  {
   "cell_type": "markdown",
   "metadata": {},
   "source": [
    "### Rede neural - dados balanceados\n",
    "\n",
    "<p style=\"text-align: justify\">Com a retirada de algumas instâncias devido o balanceamento dos dados, será diminuído lote de instâncias (*batch_size*) e será aumentado o número de iterações de treinamento(*epochs*) da rede neural.</p> "
   ]
  },
  {
   "cell_type": "code",
   "execution_count": 33,
   "metadata": {},
   "outputs": [
    {
     "name": "stdout",
     "output_type": "stream",
     "text": [
      "Epoch 1/100\n",
      "1150/1150 [==============================] - 1s 1ms/step - loss: 0.0770 - binary_accuracy: 0.9750\n",
      "Epoch 2/100\n",
      "1150/1150 [==============================] - 1s 1ms/step - loss: 0.0645 - binary_accuracy: 0.9780\n",
      "Epoch 3/100\n",
      "1150/1150 [==============================] - 1s 1ms/step - loss: 0.0639 - binary_accuracy: 0.9778\n",
      "Epoch 4/100\n",
      "1150/1150 [==============================] - 1s 1ms/step - loss: 0.0605 - binary_accuracy: 0.9816\n",
      "Epoch 5/100\n",
      "1150/1150 [==============================] - 1s 1ms/step - loss: 0.0620 - binary_accuracy: 0.9792\n",
      "Epoch 6/100\n",
      "1150/1150 [==============================] - 1s 1ms/step - loss: 0.0615 - binary_accuracy: 0.9806\n",
      "Epoch 7/100\n",
      "1150/1150 [==============================] - 1s 1ms/step - loss: 0.0604 - binary_accuracy: 0.9799\n",
      "Epoch 8/100\n",
      "1150/1150 [==============================] - 1s 1ms/step - loss: 0.0607 - binary_accuracy: 0.9803A: 1s - loss: 0.0731 -\n",
      "Epoch 9/100\n",
      "1150/1150 [==============================] - 1s 1ms/step - loss: 0.0607 - binary_accuracy: 0.9787\n",
      "Epoch 10/100\n",
      "1150/1150 [==============================] - 1s 1ms/step - loss: 0.0582 - binary_accuracy: 0.9795\n",
      "Epoch 11/100\n",
      "1150/1150 [==============================] - 2s 1ms/step - loss: 0.0590 - binary_accuracy: 0.9801\n",
      "Epoch 12/100\n",
      "1150/1150 [==============================] - 1s 1ms/step - loss: 0.0597 - binary_accuracy: 0.9794\n",
      "Epoch 13/100\n",
      "1150/1150 [==============================] - 1s 1ms/step - loss: 0.0594 - binary_accuracy: 0.9797\n",
      "Epoch 14/100\n",
      "1150/1150 [==============================] - 1s 1ms/step - loss: 0.0609 - binary_accuracy: 0.9794\n",
      "Epoch 15/100\n",
      "1150/1150 [==============================] - 1s 1ms/step - loss: 0.0598 - binary_accuracy: 0.9809\n",
      "Epoch 16/100\n",
      "1150/1150 [==============================] - 1s 1ms/step - loss: 0.0607 - binary_accuracy: 0.9788\n",
      "Epoch 17/100\n",
      "1150/1150 [==============================] - 1s 1ms/step - loss: 0.0600 - binary_accuracy: 0.9789\n",
      "Epoch 18/100\n",
      "1150/1150 [==============================] - 1s 1ms/step - loss: 0.0567 - binary_accuracy: 0.9809\n",
      "Epoch 19/100\n",
      "1150/1150 [==============================] - 1s 1ms/step - loss: 0.0575 - binary_accuracy: 0.9804\n",
      "Epoch 20/100\n",
      "1150/1150 [==============================] - 1s 1ms/step - loss: 0.0597 - binary_accuracy: 0.9790\n",
      "Epoch 21/100\n",
      "1150/1150 [==============================] - 1s 1ms/step - loss: 0.0565 - binary_accuracy: 0.9816\n",
      "Epoch 22/100\n",
      "1150/1150 [==============================] - 1s 1ms/step - loss: 0.0611 - binary_accuracy: 0.9790\n",
      "Epoch 23/100\n",
      "1150/1150 [==============================] - 2s 1ms/step - loss: 0.0574 - binary_accuracy: 0.9796\n",
      "Epoch 24/100\n",
      "1150/1150 [==============================] - 1s 1ms/step - loss: 0.0602 - binary_accuracy: 0.9774\n",
      "Epoch 25/100\n",
      "1150/1150 [==============================] - 1s 1ms/step - loss: 0.0592 - binary_accuracy: 0.9807\n",
      "Epoch 26/100\n",
      "1150/1150 [==============================] - 1s 1ms/step - loss: 0.0588 - binary_accuracy: 0.9802\n",
      "Epoch 27/100\n",
      "1150/1150 [==============================] - 1s 1ms/step - loss: 0.0572 - binary_accuracy: 0.9797\n",
      "Epoch 28/100\n",
      "1150/1150 [==============================] - 1s 1ms/step - loss: 0.0601 - binary_accuracy: 0.9803\n",
      "Epoch 29/100\n",
      "1150/1150 [==============================] - 1s 1ms/step - loss: 0.0569 - binary_accuracy: 0.9810A: 1s - loss: 0.0517 -\n",
      "Epoch 30/100\n",
      "1150/1150 [==============================] - 1s 1ms/step - loss: 0.0587 - binary_accuracy: 0.9787\n",
      "Epoch 31/100\n",
      "1150/1150 [==============================] - 1s 1ms/step - loss: 0.0567 - binary_accuracy: 0.9810\n",
      "Epoch 32/100\n",
      "1150/1150 [==============================] - 1s 1ms/step - loss: 0.0574 - binary_accuracy: 0.9804\n",
      "Epoch 33/100\n",
      "1150/1150 [==============================] - 1s 1ms/step - loss: 0.0569 - binary_accuracy: 0.9803\n",
      "Epoch 34/100\n",
      "1150/1150 [==============================] - 1s 1ms/step - loss: 0.0558 - binary_accuracy: 0.9798\n",
      "Epoch 35/100\n",
      "1150/1150 [==============================] - 2s 1ms/step - loss: 0.0560 - binary_accuracy: 0.9802\n",
      "Epoch 36/100\n",
      "1150/1150 [==============================] - 1s 1ms/step - loss: 0.0561 - binary_accuracy: 0.9812\n",
      "Epoch 37/100\n",
      "1150/1150 [==============================] - 1s 1ms/step - loss: 0.0614 - binary_accuracy: 0.9770\n",
      "Epoch 38/100\n",
      "1150/1150 [==============================] - 1s 1ms/step - loss: 0.0591 - binary_accuracy: 0.9810\n",
      "Epoch 39/100\n",
      "1150/1150 [==============================] - 1s 1ms/step - loss: 0.0533 - binary_accuracy: 0.9816\n",
      "Epoch 40/100\n",
      "1150/1150 [==============================] - 1s 1ms/step - loss: 0.0588 - binary_accuracy: 0.9801\n",
      "Epoch 41/100\n",
      "1150/1150 [==============================] - 1s 1ms/step - loss: 0.0585 - binary_accuracy: 0.9790\n",
      "Epoch 42/100\n",
      "1150/1150 [==============================] - 1s 1ms/step - loss: 0.0577 - binary_accuracy: 0.9798\n",
      "Epoch 43/100\n",
      "1150/1150 [==============================] - 1s 1ms/step - loss: 0.0562 - binary_accuracy: 0.9803\n",
      "Epoch 44/100\n",
      "1150/1150 [==============================] - 1s 1ms/step - loss: 0.0542 - binary_accuracy: 0.9803\n",
      "Epoch 45/100\n",
      "1150/1150 [==============================] - 1s 1ms/step - loss: 0.0577 - binary_accuracy: 0.9808\n",
      "Epoch 46/100\n",
      "1150/1150 [==============================] - 1s 1ms/step - loss: 0.0553 - binary_accuracy: 0.9810\n",
      "Epoch 47/100\n",
      "1150/1150 [==============================] - 2s 1ms/step - loss: 0.0541 - binary_accuracy: 0.9809\n",
      "Epoch 48/100\n",
      "1150/1150 [==============================] - 1s 1ms/step - loss: 0.0568 - binary_accuracy: 0.9803\n",
      "Epoch 49/100\n",
      "1150/1150 [==============================] - 1s 1ms/step - loss: 0.0573 - binary_accuracy: 0.9796\n",
      "Epoch 50/100\n",
      "1150/1150 [==============================] - 1s 1ms/step - loss: 0.0576 - binary_accuracy: 0.9798\n",
      "Epoch 51/100\n",
      "1150/1150 [==============================] - 1s 1ms/step - loss: 0.0601 - binary_accuracy: 0.9773\n",
      "Epoch 52/100\n",
      "1150/1150 [==============================] - 1s 1ms/step - loss: 0.0555 - binary_accuracy: 0.9810\n",
      "Epoch 53/100\n",
      "1150/1150 [==============================] - 1s 1ms/step - loss: 0.0556 - binary_accuracy: 0.9810\n",
      "Epoch 54/100\n",
      "1150/1150 [==============================] - 1s 1ms/step - loss: 0.0526 - binary_accuracy: 0.9832\n",
      "Epoch 55/100\n",
      "1150/1150 [==============================] - 1s 1ms/step - loss: 0.0552 - binary_accuracy: 0.9816\n",
      "Epoch 56/100\n",
      "1150/1150 [==============================] - 1s 1ms/step - loss: 0.0517 - binary_accuracy: 0.9816\n",
      "Epoch 57/100\n",
      "1150/1150 [==============================] - 1s 1ms/step - loss: 0.0554 - binary_accuracy: 0.9820\n",
      "Epoch 58/100\n",
      "1150/1150 [==============================] - 1s 1ms/step - loss: 0.0560 - binary_accuracy: 0.9803\n",
      "Epoch 59/100\n",
      "1150/1150 [==============================] - 2s 1ms/step - loss: 0.0529 - binary_accuracy: 0.9820\n",
      "Epoch 60/100\n",
      "1150/1150 [==============================] - 1s 1ms/step - loss: 0.0572 - binary_accuracy: 0.9797\n",
      "Epoch 61/100\n",
      "1150/1150 [==============================] - 1s 1ms/step - loss: 0.0540 - binary_accuracy: 0.9803\n",
      "Epoch 62/100\n",
      "1150/1150 [==============================] - 1s 1ms/step - loss: 0.0559 - binary_accuracy: 0.9800\n",
      "Epoch 63/100\n",
      "1150/1150 [==============================] - 1s 1ms/step - loss: 0.0547 - binary_accuracy: 0.9803\n",
      "Epoch 64/100\n",
      "1150/1150 [==============================] - 1s 1ms/step - loss: 0.0520 - binary_accuracy: 0.9829\n",
      "Epoch 65/100\n",
      "1150/1150 [==============================] - 1s 1ms/step - loss: 0.0524 - binary_accuracy: 0.9822\n",
      "Epoch 66/100\n",
      "1150/1150 [==============================] - 1s 1ms/step - loss: 0.0534 - binary_accuracy: 0.9818\n",
      "Epoch 67/100\n",
      "1150/1150 [==============================] - 1s 1ms/step - loss: 0.0535 - binary_accuracy: 0.9814\n",
      "Epoch 68/100\n",
      "1150/1150 [==============================] - 1s 1ms/step - loss: 0.0574 - binary_accuracy: 0.9796\n",
      "Epoch 69/100\n",
      "1150/1150 [==============================] - 1s 1ms/step - loss: 0.0532 - binary_accuracy: 0.9808\n",
      "Epoch 70/100\n",
      "1150/1150 [==============================] - 1s 1ms/step - loss: 0.0541 - binary_accuracy: 0.9818\n",
      "Epoch 71/100\n",
      "1150/1150 [==============================] - 2s 1ms/step - loss: 0.0537 - binary_accuracy: 0.9811\n",
      "Epoch 72/100\n",
      "1150/1150 [==============================] - 1s 1ms/step - loss: 0.0528 - binary_accuracy: 0.9817\n",
      "Epoch 73/100\n",
      "1150/1150 [==============================] - 1s 1ms/step - loss: 0.0532 - binary_accuracy: 0.9807\n",
      "Epoch 74/100\n",
      "1150/1150 [==============================] - 1s 1ms/step - loss: 0.0546 - binary_accuracy: 0.9812\n",
      "Epoch 75/100\n",
      "1150/1150 [==============================] - 1s 1ms/step - loss: 0.0548 - binary_accuracy: 0.9800\n",
      "Epoch 76/100\n",
      "1150/1150 [==============================] - 1s 1ms/step - loss: 0.0537 - binary_accuracy: 0.9810\n",
      "Epoch 77/100\n",
      "1150/1150 [==============================] - 1s 1ms/step - loss: 0.0541 - binary_accuracy: 0.9810\n",
      "Epoch 78/100\n",
      "1150/1150 [==============================] - 1s 1ms/step - loss: 0.0502 - binary_accuracy: 0.9830\n",
      "Epoch 79/100\n",
      "1150/1150 [==============================] - 1s 1ms/step - loss: 0.0543 - binary_accuracy: 0.9802\n",
      "Epoch 80/100\n",
      "1150/1150 [==============================] - 1s 1ms/step - loss: 0.0524 - binary_accuracy: 0.9822\n",
      "Epoch 81/100\n",
      "1150/1150 [==============================] - 1s 1ms/step - loss: 0.0537 - binary_accuracy: 0.9820\n",
      "Epoch 82/100\n",
      "1150/1150 [==============================] - 1s 1ms/step - loss: 0.0545 - binary_accuracy: 0.9828\n",
      "Epoch 83/100\n",
      "1150/1150 [==============================] - 2s 1ms/step - loss: 0.0560 - binary_accuracy: 0.9801\n",
      "Epoch 84/100\n",
      "1150/1150 [==============================] - 1s 1ms/step - loss: 0.0555 - binary_accuracy: 0.9796\n",
      "Epoch 85/100\n",
      "1150/1150 [==============================] - 1s 1ms/step - loss: 0.0528 - binary_accuracy: 0.9814\n",
      "Epoch 86/100\n",
      "1150/1150 [==============================] - 1s 1ms/step - loss: 0.0528 - binary_accuracy: 0.9823\n",
      "Epoch 87/100\n",
      "1150/1150 [==============================] - 1s 1ms/step - loss: 0.0547 - binary_accuracy: 0.9811\n",
      "Epoch 88/100\n",
      "1150/1150 [==============================] - 1s 1ms/step - loss: 0.0525 - binary_accuracy: 0.9823\n",
      "Epoch 89/100\n",
      "1150/1150 [==============================] - 1s 1ms/step - loss: 0.0529 - binary_accuracy: 0.9820\n",
      "Epoch 90/100\n",
      "1150/1150 [==============================] - 1s 1ms/step - loss: 0.0531 - binary_accuracy: 0.9806\n",
      "Epoch 91/100\n",
      "1150/1150 [==============================] - 1s 1ms/step - loss: 0.0537 - binary_accuracy: 0.9806\n",
      "Epoch 92/100\n",
      "1150/1150 [==============================] - 1s 1ms/step - loss: 0.0525 - binary_accuracy: 0.9832\n",
      "Epoch 93/100\n",
      "1150/1150 [==============================] - 1s 1ms/step - loss: 0.0497 - binary_accuracy: 0.9841\n",
      "Epoch 94/100\n",
      "1150/1150 [==============================] - 1s 1ms/step - loss: 0.0530 - binary_accuracy: 0.9816\n",
      "Epoch 95/100\n",
      "1150/1150 [==============================] - 1s 1ms/step - loss: 0.0511 - binary_accuracy: 0.9829\n",
      "Epoch 96/100\n",
      "1150/1150 [==============================] - 1s 1ms/step - loss: 0.0506 - binary_accuracy: 0.9832\n",
      "Epoch 97/100\n",
      "1150/1150 [==============================] - 1s 1ms/step - loss: 0.0565 - binary_accuracy: 0.9793\n",
      "Epoch 98/100\n",
      "1150/1150 [==============================] - 1s 1ms/step - loss: 0.0546 - binary_accuracy: 0.9809\n",
      "Epoch 99/100\n",
      "1150/1150 [==============================] - 1s 1ms/step - loss: 0.0512 - binary_accuracy: 0.9816\n",
      "Epoch 100/100\n",
      "1150/1150 [==============================] - 1s 1ms/step - loss: 0.0507 - binary_accuracy: 0.9831\n"
     ]
    },
    {
     "data": {
      "text/plain": [
       "<tensorflow.python.keras.callbacks.History at 0x255888e7608>"
      ]
     },
     "execution_count": 33,
     "metadata": {},
     "output_type": "execute_result"
    }
   ],
   "source": [
    "batch_size = 10\n",
    "epochs = 100\n",
    "\n",
    "clf_cred.fit(x_train_us, y_train_us,batch_size = batch_size, epochs = epochs)"
   ]
  },
  {
   "cell_type": "code",
   "execution_count": 34,
   "metadata": {},
   "outputs": [
    {
     "name": "stdout",
     "output_type": "stream",
     "text": [
      "Accuracy: 97.91% \n",
      "\n",
      "Sensibilidade: 96.37% \n",
      "\n",
      "Precisão: 99.41% \n",
      "\n",
      "F1-score: 97.86 \n",
      "\n",
      "Relatório de classificação:\n",
      "              precision    recall  f1-score   support\n",
      "\n",
      "           0       0.97      0.99      0.98      2479\n",
      "           1       0.99      0.96      0.98      2449\n",
      "\n",
      "    accuracy                           0.98      4928\n",
      "   macro avg       0.98      0.98      0.98      4928\n",
      "weighted avg       0.98      0.98      0.98      4928\n",
      "\n"
     ]
    },
    {
     "data": {
      "image/png": "[encoded data removed]",
      "text/plain": [
       "<Figure size 432x288 with 1 Axes>"
      ]
     },
     "metadata": {
      "needs_background": "light"
     },
     "output_type": "display_data"
    }
   ],
   "source": [
    "predictions_us = clf_cred.predict(x_test_us)\n",
    "predictions_us = (predictions_us > 0.5)\n",
    "\n",
    "print(\"Accuracy: {0:.2f}%\".format(100 * accuracy_score(y_test_us,predictions_us)),'\\n')\n",
    "print(\"Sensibilidade: {0:.2f}%\".format(100* recall_score(y_test_us,predictions_us)),'\\n')\n",
    "print(\"Precisão: {0:.2f}%\".format(100* precision_score(y_test_us,predictions_us)),'\\n')\n",
    "print(\"F1-score: {0:.2f}\".format(100* f1_score(y_test_us,predictions_us)),'\\n')\n",
    "print(\"Relatório de classificação:\\n{}\".format(classification_report(y_test_us,predictions_us)))\n",
    "\n",
    "cm=confusion_matrix(y_test_us,predictions_us)\n",
    "ax = sns.heatmap(cm,annot=True,cbar=False, fmt ='d', cmap=\"copper_r\")\n",
    "ax.set_title('Confusion matrix', fontsize=18,pad=10)\n",
    "ax.set_xlabel('Previsto', fontsize=18)\n",
    "ax.set_ylabel('Real', fontsize=18,rotation=0)\n",
    "ax.set_xticklabels(['Normal','Fraude'])\n",
    "ax.set_yticklabels(['Normal','Fraude'], rotation=0);"
   ]
  },
  {
   "cell_type": "markdown",
   "metadata": {},
   "source": [
    "<p style=\"text-align: justify\">A partir do balanceamento dos dados, houve uma melhora siginificativa na classe de interesse (transações fraudulentas). O modelo com os dados balanceados teve uma melhora significativa na sensibilidade (96% contra 62%) e  em precisão (99% contra 97%) quando comparado ao modelo desbalanceado. Além disso, f1-score foi de 98% contra 88% do modelo não balanceado. Dessa forma, o balanceamento dos dados foi de extrema importância para uma melhor performance da rede neural para detecção das fraudes.</p> "
   ]
  },
  {
   "cell_type": "markdown",
   "metadata": {},
   "source": [
    "### Conclusão"
   ]
  },
  {
   "cell_type": "markdown",
   "metadata": {},
   "source": [
    "<p style=\"text-align: justify\">A partir da análise dos dados, foi possível construir um modelo de detecção de fraudes com uma boa performance. O balanceamento dos dados realizado, possibilitou uma melhora significativa nas métricas do modelo, sendo importante em análises com essa composição dos dados. É importante destacar que redes neurais são normalmente utilizadas em problemas com uma maior complexidade e que outros algoritmos de machine learning (ex. Random Forest e XGBoost) poderiam conseguir resultados semelhantes como este em um tempo de processamento menor. Entretanto, o uso da rede neural com poucas camadas foi bastante satisfatório, mostrando o poder que esse tipo de algoritmos pode desempenhar em problemas como este.</p>"
   ]
  }
 ],
 "metadata": {
  "kernelspec": {
   "display_name": "Python 3",
   "language": "python",
   "name": "python3"
  },
  "language_info": {
   "codemirror_mode": {
    "name": "ipython",
    "version": 3
   },
   "file_extension": ".py",
   "mimetype": "text/x-python",
   "name": "python",
   "nbconvert_exporter": "python",
   "pygments_lexer": "ipython3",
   "version": "3.7.6"
  }
 },
 "nbformat": 4,
 "nbformat_minor": 4
}
